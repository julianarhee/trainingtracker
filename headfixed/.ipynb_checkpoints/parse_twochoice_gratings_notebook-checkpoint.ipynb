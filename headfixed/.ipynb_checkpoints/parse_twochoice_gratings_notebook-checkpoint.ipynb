{
 "cells": [
  {
   "cell_type": "code",
   "execution_count": 1,
   "metadata": {
    "collapsed": true
   },
   "outputs": [],
   "source": [
    "import numpy as np\n",
    "import os\n",
    "import cPickle as pkl\n",
    "import scipy.signal\n",
    "import numpy.fft as fft\n",
    "import sys\n",
    "import optparse\n",
    "from PIL import Image\n",
    "import re\n",
    "import itertools\n",
    "from scipy import ndimage\n",
    "\n",
    "import time\n",
    "import datetime\n",
    "\n",
    "import pandas as pd\n",
    "\n",
    "from bokeh.io import gridplot, output_file, show\n",
    "from bokeh.plotting import figure\n",
    "import csv\n",
    "\n",
    "import pymworks \n",
    "import pandas as pd\n",
    "import operator\n",
    "import codecs\n",
    "\n",
    "import scipy.io\n",
    "import copy\n",
    "\n",
    "\n",
    "# Abstract struct class       \n",
    "class Struct:\n",
    "    def __init__ (self, *argv, **argd):\n",
    "        if len(argd):\n",
    "            # Update by dictionary\n",
    "            self.__dict__.update (argd)\n",
    "        else:\n",
    "            # Update by position\n",
    "            attrs = filter (lambda x: x[0:2] != \"__\", dir(self))\n",
    "            for n in range(len(argv)):\n",
    "                setattr(self, attrs[n], argv[n])\n",
    "\n",
    "\n",
    "class cycstruct(Struct):\n",
    "    times = []\n",
    "    idxs = 0\n",
    "    vals = 0\n",
    "    ordernum = 0\n",
    "    triggers = 0\n",
    "\n",
    "def get_timekey(item):\n",
    "    return item.time\n"
   ]
  },
  {
   "cell_type": "code",
   "execution_count": 2,
   "metadata": {},
   "outputs": [
    {
     "data": {
      "text/html": [
       "\n",
       "    <div class=\"bk-root\">\n",
       "        <a href=\"http://bokeh.pydata.org\" target=\"_blank\" class=\"bk-logo bk-logo-small bk-logo-notebook\"></a>\n",
       "        <span id=\"4148d983-0a1d-4d91-a881-7c71f71e83bd\">Loading BokehJS ...</span>\n",
       "    </div>"
      ]
     },
     "metadata": {},
     "output_type": "display_data"
    },
    {
     "data": {
      "application/javascript": [
       "\n",
       "(function(global) {\n",
       "  function now() {\n",
       "    return new Date();\n",
       "  }\n",
       "\n",
       "  var force = true;\n",
       "\n",
       "  if (typeof (window._bokeh_onload_callbacks) === \"undefined\" || force === true) {\n",
       "    window._bokeh_onload_callbacks = [];\n",
       "    window._bokeh_is_loading = undefined;\n",
       "  }\n",
       "\n",
       "\n",
       "  \n",
       "  if (typeof (window._bokeh_timeout) === \"undefined\" || force === true) {\n",
       "    window._bokeh_timeout = Date.now() + 5000;\n",
       "    window._bokeh_failed_load = false;\n",
       "  }\n",
       "\n",
       "  var NB_LOAD_WARNING = {'data': {'text/html':\n",
       "     \"<div style='background-color: #fdd'>\\n\"+\n",
       "     \"<p>\\n\"+\n",
       "     \"BokehJS does not appear to have successfully loaded. If loading BokehJS from CDN, this \\n\"+\n",
       "     \"may be due to a slow or bad network connection. Possible fixes:\\n\"+\n",
       "     \"</p>\\n\"+\n",
       "     \"<ul>\\n\"+\n",
       "     \"<li>re-rerun `output_notebook()` to attempt to load from CDN again, or</li>\\n\"+\n",
       "     \"<li>use INLINE resources instead, as so:</li>\\n\"+\n",
       "     \"</ul>\\n\"+\n",
       "     \"<code>\\n\"+\n",
       "     \"from bokeh.resources import INLINE\\n\"+\n",
       "     \"output_notebook(resources=INLINE)\\n\"+\n",
       "     \"</code>\\n\"+\n",
       "     \"</div>\"}};\n",
       "\n",
       "  function display_loaded() {\n",
       "    if (window.Bokeh !== undefined) {\n",
       "      var el = document.getElementById(\"4148d983-0a1d-4d91-a881-7c71f71e83bd\");\n",
       "      el.textContent = \"BokehJS \" + Bokeh.version + \" successfully loaded.\";\n",
       "    } else if (Date.now() < window._bokeh_timeout) {\n",
       "      setTimeout(display_loaded, 100)\n",
       "    }\n",
       "  }\n",
       "\n",
       "  function run_callbacks() {\n",
       "    try {\n",
       "      window._bokeh_onload_callbacks.forEach(function(callback) { callback() });\n",
       "    }\n",
       "    finally {\n",
       "      delete window._bokeh_onload_callbacks\n",
       "    }\n",
       "    console.info(\"Bokeh: all callbacks have finished\");\n",
       "  }\n",
       "\n",
       "  function load_libs(js_urls, callback) {\n",
       "    window._bokeh_onload_callbacks.push(callback);\n",
       "    if (window._bokeh_is_loading > 0) {\n",
       "      console.log(\"Bokeh: BokehJS is being loaded, scheduling callback at\", now());\n",
       "      return null;\n",
       "    }\n",
       "    if (js_urls == null || js_urls.length === 0) {\n",
       "      run_callbacks();\n",
       "      return null;\n",
       "    }\n",
       "    console.log(\"Bokeh: BokehJS not loaded, scheduling load and callback at\", now());\n",
       "    window._bokeh_is_loading = js_urls.length;\n",
       "    for (var i = 0; i < js_urls.length; i++) {\n",
       "      var url = js_urls[i];\n",
       "      var s = document.createElement('script');\n",
       "      s.src = url;\n",
       "      s.async = false;\n",
       "      s.onreadystatechange = s.onload = function() {\n",
       "        window._bokeh_is_loading--;\n",
       "        if (window._bokeh_is_loading === 0) {\n",
       "          console.log(\"Bokeh: all BokehJS libraries loaded\");\n",
       "          run_callbacks()\n",
       "        }\n",
       "      };\n",
       "      s.onerror = function() {\n",
       "        console.warn(\"failed to load library \" + url);\n",
       "      };\n",
       "      console.log(\"Bokeh: injecting script tag for BokehJS library: \", url);\n",
       "      document.getElementsByTagName(\"head\")[0].appendChild(s);\n",
       "    }\n",
       "  };var element = document.getElementById(\"4148d983-0a1d-4d91-a881-7c71f71e83bd\");\n",
       "  if (element == null) {\n",
       "    console.log(\"Bokeh: ERROR: autoload.js configured with elementid '4148d983-0a1d-4d91-a881-7c71f71e83bd' but no matching script tag was found. \")\n",
       "    return false;\n",
       "  }\n",
       "\n",
       "  var js_urls = [\"https://cdn.pydata.org/bokeh/release/bokeh-0.12.6.min.js\", \"https://cdn.pydata.org/bokeh/release/bokeh-widgets-0.12.6.min.js\"];\n",
       "\n",
       "  var inline_js = [\n",
       "    function(Bokeh) {\n",
       "      Bokeh.set_log_level(\"info\");\n",
       "    },\n",
       "    \n",
       "    function(Bokeh) {\n",
       "      \n",
       "    },\n",
       "    \n",
       "    function(Bokeh) {\n",
       "      \n",
       "      document.getElementById(\"4148d983-0a1d-4d91-a881-7c71f71e83bd\").textContent = \"BokehJS is loading...\";\n",
       "    },\n",
       "    function(Bokeh) {\n",
       "      console.log(\"Bokeh: injecting CSS: https://cdn.pydata.org/bokeh/release/bokeh-0.12.6.min.css\");\n",
       "      Bokeh.embed.inject_css(\"https://cdn.pydata.org/bokeh/release/bokeh-0.12.6.min.css\");\n",
       "      console.log(\"Bokeh: injecting CSS: https://cdn.pydata.org/bokeh/release/bokeh-widgets-0.12.6.min.css\");\n",
       "      Bokeh.embed.inject_css(\"https://cdn.pydata.org/bokeh/release/bokeh-widgets-0.12.6.min.css\");\n",
       "    }\n",
       "  ];\n",
       "\n",
       "  function run_inline_js() {\n",
       "    \n",
       "    if ((window.Bokeh !== undefined) || (force === true)) {\n",
       "      for (var i = 0; i < inline_js.length; i++) {\n",
       "        inline_js[i](window.Bokeh);\n",
       "      }if (force === true) {\n",
       "        display_loaded();\n",
       "      }} else if (Date.now() < window._bokeh_timeout) {\n",
       "      setTimeout(run_inline_js, 100);\n",
       "    } else if (!window._bokeh_failed_load) {\n",
       "      console.log(\"Bokeh: BokehJS failed to load within specified timeout.\");\n",
       "      window._bokeh_failed_load = true;\n",
       "    } else if (force !== true) {\n",
       "      var cell = $(document.getElementById(\"4148d983-0a1d-4d91-a881-7c71f71e83bd\")).parents('.cell').data().cell;\n",
       "      cell.output_area.append_execute_result(NB_LOAD_WARNING)\n",
       "    }\n",
       "\n",
       "  }\n",
       "\n",
       "  if (window._bokeh_is_loading === 0) {\n",
       "    console.log(\"Bokeh: BokehJS loaded, going straight to plotting\");\n",
       "    run_inline_js();\n",
       "  } else {\n",
       "    load_libs(js_urls, function() {\n",
       "      console.log(\"Bokeh: BokehJS plotting callback run at\", now());\n",
       "      run_inline_js();\n",
       "    });\n",
       "  }\n",
       "}(this));"
      ]
     },
     "metadata": {},
     "output_type": "display_data"
    }
   ],
   "source": [
    "from bokeh.plotting import figure, show\n",
    "from bokeh.io import output_notebook\n",
    "output_notebook()"
   ]
  },
  {
   "cell_type": "code",
   "execution_count": 3,
   "metadata": {
    "collapsed": true
   },
   "outputs": [],
   "source": [
    "def get_session_bounds(dfn):\n",
    "    df = None\n",
    "    df = pymworks.open(dfn)                                                          # Open the datafile\n",
    "\n",
    "    # First, find experiment start, stop, or pause events:\n",
    "    modes = df.get_events('#state_system_mode')                                      # Find timestamps for run-time start and end (2=run)\n",
    "    start_ev = [i for i in modes if i['value']==2][0]                                # 2=running, 0 or 1 = stopped\n",
    "\n",
    "    run_idxs = [i for i,e in enumerate(modes) if e['time']>start_ev['time']]         # Get all \"run states\" if more than 1 found\n",
    "\n",
    "    end_ev = next(i for i in modes[run_idxs[0]:] if i['value']==0 or i['value']==1)  # Find the first \"stop\" event after the first \"run\" event\n",
    "\n",
    "    # Create a list of runs using start/stop-event times (so long as \"Stop\" button was not pressed during acquisition, only 1 chunk of time)\n",
    "    bounds = []\n",
    "    bounds.append([start_ev.time, end_ev.time])\n",
    "    for r in run_idxs[1:]: \n",
    "        if modes[r].time < end_ev.time:  # Ignore any extra \"run\" events if there was no actual \"stop\" event\n",
    "            continue\n",
    "        else:                            # Otherwise, find the next \"stop\" event if any additional/new \"run\" events found.\n",
    "            try:\n",
    "                stop_ev = next(i for i in modes[r:] if i['value']==0 or i['value']==1)\n",
    "            except StopIteration:\n",
    "                end_event_name = 'trial_end'\n",
    "                print \"NO STOP DETECTED IN STATE MODES. Using alternative timestamp: %s.\" % end_event_name\n",
    "                stop_ev = df.get_events(end_event_name)[-1]\n",
    "                print stop_ev\n",
    "            bounds.append([modes[r]['time'], stop_ev['time']])\n",
    "\n",
    "    bounds[:] = [x for x in bounds if ((x[1]-x[0])/1E6)>1]\n",
    "    # print \"................................................................\"\n",
    "    print \"****************************************************************\"\n",
    "    print \"Parsing file\\n%s... \" % dfn\n",
    "    print \"Found %i start events in session.\" % len(bounds)\n",
    "    print \"Bounds: \", bounds\n",
    "    for bidx, bound in enumerate(bounds):\n",
    "        print \"bound ID:\", bidx, (bound[1]-bound[0])/1E6, \"sec\"\n",
    "    print \"****************************************************************\"\n",
    "\n",
    "    return df, bounds"
   ]
  },
  {
   "cell_type": "code",
   "execution_count": 86,
   "metadata": {},
   "outputs": [],
   "source": [
    "def get_image_events(df, boundary, pixelclock_evs=[], stimtype='grating', mask=False):\n",
    "    \n",
    "    # Get all stimulus-udpate events within bounds:\n",
    "    tmp_display_evs = df.get_events('#stimDisplayUpdate')                                                  # Get all stimulus-display-update events\n",
    "    display_evs = [e for e in tmp_display_evs if e.value and not e.value[0]==None]                         # Filter out empty display-update events\n",
    "    display_evs = [d for d in display_evs if d.time <= boundary[1] and d.time >= boundary[0]]              # Only include display-update events within time boundary of the session\n",
    "\n",
    "    if len(pixelclock_evs)>0:\n",
    "        pixelclock_evs = [i for i in display_evs for v in i.value if 'bit_code' in v.keys()]\n",
    "        num_non_stimuli = 3 # N stimuli on screen: pixel clock, background, image\n",
    "    if len(pixelclock_evs)==0:\n",
    "        print \"No pixel clock.\"\n",
    "        pixelclock_evs = display_evs\n",
    "        num_non_stimuli = 2 # N stimuli on screen: background, image\n",
    "       \n",
    "    # Get stimulus-onset info parsed into trials:\n",
    "    if stimtype=='image':\n",
    "        tmp_image_evs = [d for d in pixelclock_evs for i in d.value if 'filename' in i.keys() and '.png' in i['filename']]\n",
    "        #stimevents.append(imdevs)\n",
    "\n",
    "        # Find blank ITIs:\n",
    "        if mask is True:\n",
    "            iti_evs = [i for i in pixelclock_evs for v in i.value if v['name']=='blue_mask' and i not in tmp_image_evs]\n",
    "        else:\n",
    "            iti_evs = [i for i in pixelclock_evs if i.time>image_evs[0].time and i not in tmp_image_evs]\n",
    "\n",
    "        tmp_trial_evs = tmp_image_evs + iti_evs\n",
    "        trial_evs = sorted(tmp_trial_evs, key=get_timekey)\n",
    "        \n",
    "        image_evs = tmp_image_evs\n",
    "\n",
    "    elif stimtype=='grating':\n",
    "        #tmp_image_evs = [d for d in display_evs for i in d.value if i['name']=='gabor']\n",
    "        tmp_image_evs = [d for d in display_evs for i in d.value if i['type']=='drifting_grating']\n",
    "        \n",
    "        start_times = [i.value[1]['start_time'] for i in tmp_image_evs] # Use start_time to ignore dynamic pixel-code of drifting grating since stim as actually static\n",
    "        find_static = np.where(np.diff(start_times) > 0)[0]\n",
    "        find_static = np.append(find_static, 0)\n",
    "        find_static = sorted(find_static)\n",
    "        image_evs = [tmp_image_evs[i+1] for i in find_static]\n",
    "        print \"got image events\"\n",
    "        #stimevents.append(imtrials)\n",
    "        \n",
    "        # Make sure only the 1st stimulus after a new-stim flag is counted (for guarantee-reward) experiments:\n",
    "        newstim_evs = df.get_events('new_stimulus')\n",
    "        new_stim_evs = [i for i in newstim_evs if i.value==1]\n",
    "        print \"N new-stimulus events:\", len(new_stim_evs)\n",
    "        first_image_idxs = []\n",
    "        for idx,newev in enumerate(new_stim_evs[0:-1]):\n",
    "            possible_image_evs = [i for i,ev in enumerate(image_evs) if ev.time>newev.time and ev.time<new_stim_evs[idx+1].time]\n",
    "            first_image_idxs.append(possible_image_evs)\n",
    "        first_image_idxs = [i[0] for i in first_image_idxs if len(i)>0]\n",
    "        image_evs = [image_evs[i] for i,ev in enumerate(image_evs) if i in first_image_idxs]\n",
    "        print \"N image evs after taking only first image: \", len(image_evs)\n",
    "        \n",
    "        # Filter out image-events that were aborted:\n",
    "        aborted_evs = df.get_events('trial_aborted')\n",
    "        aborted_idxs = []\n",
    "        for idx,imev in enumerate(image_events[0:-1]):\n",
    "            check_abort = [i.value for i in aborted_evs if i.time>imev.time and i.time<image_events[idx+1].time]\n",
    "            if sum(check_abort)>0:\n",
    "                aborted_idxs.append(idx)\n",
    "        print \"N aborted images: \", len(aborted_idxs)\n",
    "        image_evs = [image_evs[i] for i,ev in enumerate(image_evs) if i not in aborted_idxs]\n",
    "        print \"N image evs after removing aborted: \", len(image_evs)\n",
    "        \n",
    "        # Find blank ITIs:\n",
    "        if mask is True:\n",
    "            iti_evs = [i for i in pixelclock_evs if i.time>tmp_image_evs[0].time and i not in tmp_image_evs]\n",
    "        else:\n",
    "#             prevdev = [[i for i,d in enumerate(display_evs) if d.time < t.time][-1] for t in image_evs[1:]]\n",
    "#             lastdev = [i for i,d in enumerate(display_evs) if d.time > image_evs[-1].time and len(d.value)<num_non_stimuli] # ignore the last \"extra\" ev (has diff time-stamp) - just wnt 1st non-grating blank\n",
    "#             iti_evs = [display_evs[i] for i in prevdev]\n",
    "#             if len(lastdev)>0:\n",
    "#                 iti_evs.append(display_evs[lastdev[0]])\n",
    "            #nonstim_evs = [i for i in display_evs if i not in tmp_image_evs]\n",
    "            \n",
    "            im_idx = [[t.time for t in display_evs].index(i.time) for i in image_evs]\n",
    "            iti_evs = []\n",
    "            for im in im_idx:\n",
    "                try:\n",
    "                    next_iti = next(i for i in display_evs[im:] if len(i.value)==(num_non_stimuli-1))\n",
    "                    iti_evs.append(next_iti)\n",
    "                except StopIteration:\n",
    "                    print \"No ITI found after this (should be last image_ev).\\n\"\n",
    "                    #print display_evs[im]\n",
    "            print \"got iti events\"\n",
    "        \n",
    "        # Check that we got all the blanks:\n",
    "#         blanks = [i for i,p in enumerate(pixelclock_evs) if len(p.value)==(num_non_stimuli-1)]\n",
    "#         mismatches = [i for i,(p,t) in enumerate(zip([pixelclock_evs[x] for x in blanks], iti_evs)) if not p==t]   \n",
    "#         if len(mismatches)>0:\n",
    "#             print \"Mismatches found in parsing trials....\"\n",
    "#             print mismatches\n",
    "\n",
    "        # Append a \"trial off\" at end, if needed:\n",
    "        if image_evs[-1].time > iti_evs[-1].time: # early-abort\n",
    "            print \"Removing extra image event that has no offset.\"\n",
    "            image_evs.pop(-1)                \n",
    "        tmp_trial_evs = image_evs + iti_evs\n",
    "        trial_evs = sorted(tmp_trial_evs, key=get_timekey)\n",
    "\n",
    "    #trialevents.append(tmp_trialevents)\n",
    "    print \"Length of trial epochs: \", len(trial_evs)\n",
    "    print \"Number of trials found: \", len(image_evs)\n",
    "    \n",
    "    return image_evs, trial_evs"
   ]
  },
  {
   "cell_type": "code",
   "execution_count": 120,
   "metadata": {},
   "outputs": [
    {
     "name": "stdout",
     "output_type": "stream",
     "text": [
      "[]\n",
      "[1, 1, 1, 0, 1, 0, 1, 0, 0, 1, 1, 0, 0, 1, 0, 0, 1, 1, 0, 0, 0, 1, 0, 1, 1, 1, 0, 1, 0, 1, 1, 0, 1, 0, 1, 1, 1, 0, 0, 0, 1, 0, 1, 1, 0, 1, 1, 0, 1, 0, 0, 0, 1, 1, 0, 0, 0, 0, 0, 1, 0, 0, 0, 0, 1, 0, 1, 0, 0, 0, 1, 1, 1, 1, 0, 0, 1, 0, 0, 0, 0, 1, 1, 1, 1, 0, 1, 1, 0, 0, 1, 0, 0, 0, 1, 1, 1, 0, 0, 0, 0, 0, 0, 0, 0, 0, 0, 1, 1, 0, 0, 0, 0, 1, 1, 1, 1, 0, 1, 0, 0, 0, 0, 0, 1, 0, 0, 1, 1, 1, 0, 1, 0, 1, 1, 1, 0, 1, 0, 0, 0, 0, 1, 0, 0, 1, 1, 0, 0, 1, 0, 0, 0, 0, 0, 0, 1, 0, 0, 0, 0, 0, 1, 0, 0, 0, 0, 0, 1, 1, 0, 1, 0, 1, 0, 0, 0, 0, 0, 1, 0, 0, 0, 1, 0, 0, 0, 0, 1, 1, 0, 0, 0, 0, 0, 0, 0, 0, 0, 0, 0, 0, 1, 0, 0, 0, 1, 0, 1, 0, 0, 0, 0, 0, 0, 0, 0, 0, 0, 0, 1, 0, 1, 0, 0, 0, 0, 1, 0, 0, 0, 0, 0, 0, 0, 1, 1, 1, 1, 1, 0, 0, 1, 1, 0, 1, 1, 0, 0, 1, 0, 0, 0, 1, 1, 1, 1, 1, 1, 0, 0, 0, 0, 0, 1, 1, 1, 0, 1, 0, 1, 1, 0, 0, 1, 0, 0, 0, 0, 0, 0, 1, 0, 0, 0, 0, 0, 0, 0, 0, 0, 0, 0, 0, 1, 0, 0, 0, 0, 1, 0, 0, 0, 1, 0, 0, 0, 0, 0, 1, 0, 1, 1, 0, 1, 0, 0, 0, 0, 0, 0, 0, 0, 0, 0, 0, 1, 0, 0, 0, 0, 0, 0, 1, 0, 1, 0, 0, 0, 0, 0, 0, 0, 0, 0, 0, 0, 0, 0, 0, 1, 0, 1, 0, 1, 0, 1, 1, 0, 0, 0, 0, 0, 1, 0, 1, 1, 1, 0, 1, 1, 0, 1, 1, 1, 1, 0, 0, 0, 0, 1, 1, 0, 0, 1, 1, 0, 0, 1, 1, 0, 1, 0, 1, 0, 1, 0, 1, 1, 0, 0, 0, 0, 1, 0, 0, 0, 0, 1, 0, 1, 0, 1, 0, 0, 1, 0, 0, 1, 1, 0, 1, 1, 1, 1, 0, 1, 1, 1, 0, 1, 0, 0, 0, 1, 0, 0, 0, 1, 0, 1, 0, 1, 1, 0, 0, 0, 1, 1, 0, 0, 0, 0, 0, 1, 1, 1, 1, 1, 1, 1, 0, 0, 1, 0, 1, 0, 1, 0, 0, 1, 0, 0, 1, 0, 1, 1, 1, 1, 1, 1, 1, 1, 1, 1, 1, 1, 1, 0, 1, 1, 1, 1, 1, 1, 0, 1, 0, 1, 0, 0, 1, 0, 0, 1, 0, 1, 1, 1, 1, 0, 1, 1, 1, 0, 0, 1, 1, 0, 1, 1, 1, 0, 0, 1, 0, 1, 1, 0, 1, 0, 0, 1, 0, 1, 1, 0, 1, 1, 0, 0, 1, 0, 1, 1, 0, 0, 1, 0, 1, 0, 1, 1, 0, 1, 1, 1, 0, 0, 0, 1, 0, 1, 0, 0, 0, 1, 0, 1, 0, 0, 1, 0, 1, 1, 0, 0, 0, 0, 1, 0, 0, 1, 0, 1, 1, 1, 0, 0, 1, 0, 1, 0, 1, 0, 0, 0, 0, 0, 1, 1, 1, 0, 1, 0, 1, 1, 0, 1, 1, 1, 1, 1, 0, 1, 1, 1, 0, 1, 1, 0, 0, 0, 1, 1, 0, 1, 1, 0, 1, 1, 0, 1, 1, 0, 1, 1, 1, 0, 0, 1, 0, 1, 1, 0, 1, 1, 1, 1, 0, 0, 0, 1, 0, 0, 1, 0, 1, 0, 0, 1, 0, 1, 1, 0, 1, 1, 0, 1, 1, 0, 1, 0, 0, 1, 0, 0, 0, 0, 1, 1, 0, 0, 0, 1, 1, 0, 0, 1, 0, 0, 1, 0, 1, 1, 1, 1, 1, 1, 1, 0, 0, 0, 0, 1, 1]\n"
     ]
    }
   ],
   "source": [
    "newstim_evs = df.get_events('new_stimulus')\n",
    "print [i for i,v in enumerate(newstim_evs[0:-1]) if v.value==1 and newstim_evs[i+1].value==1]\n",
    "\n",
    "newstim_evs = df.get_events('new_stimulus')\n",
    "new_stim_evs = [i for i in newstim_evs if i.value==1]\n",
    "first_image_idxs = []\n",
    "for idx,newev in enumerate(new_stim_evs[0:-1]):\n",
    "    possible_image_evs = [i for i,ev in enumerate(image_events) if ev.time>newev.time and ev.time<new_stim_evs[idx+1].time]\n",
    "    first_image_idxs.append(possible_image_evs)\n",
    "\n",
    "#first_ims = [i[0] for i in first_image_idxs if len(i)>0]\n",
    "first_ims = [len(i) for i in first_image_idxs]\n",
    "\n",
    "print first_ims"
   ]
  },
  {
   "cell_type": "code",
   "execution_count": 85,
   "metadata": {},
   "outputs": [
    {
     "name": "stdout",
     "output_type": "stream",
     "text": [
      "N aborted images:  183\n",
      "400\n",
      "217\n"
     ]
    }
   ],
   "source": [
    "aborted_evs = df.get_events('trial_aborted')\n",
    "aborted_idxs = []\n",
    "for idx,imev in enumerate(image_events[0:-1]):\n",
    "    check_abort = [i.value for i in aborted_evs if i.time>imev.time and i.time<image_events[idx+1].time]\n",
    "    if sum(check_abort)>0:\n",
    "        aborted_idxs.append(idx)\n",
    "print \"N aborted images: \", len(aborted_idxs)\n",
    "print len(image_events)\n",
    "image_events = [image_events[i] for i,ev in enumerate(image_events) if i not in aborted_idxs]\n",
    "print len(image_events)"
   ]
  },
  {
   "cell_type": "code",
   "execution_count": 21,
   "metadata": {
    "collapsed": true
   },
   "outputs": [],
   "source": [
    "def get_session_info(df):\n",
    "    info = dict()\n",
    "    \n",
    "    stimon = df.get_events('stim_on_time')\n",
    "    info['stimulus_duration'] = stimon[-1].value\n",
    "    itis = df.get_events('ITI_duration')\n",
    "    info['iti_duration'] = itis[-1].value\n",
    "    sizes = df.get_events('fullscreen_size')\n",
    "    info['stimsize'] = sizes[-1].value\n",
    "    # stimulus types?\n",
    "    # ntrials?\n",
    "    portside = df.get_events('A_port')\n",
    "    info['A_port'] = portside[-1].value\n",
    "    \n",
    "    return info"
   ]
  },
  {
   "cell_type": "code",
   "execution_count": 22,
   "metadata": {},
   "outputs": [
    {
     "name": "stdout",
     "output_type": "stream",
     "text": [
      "Found 20 MW data files.\n"
     ]
    }
   ],
   "source": [
    "source_dir = '/nas/volume1/behavior/data/mworks-data/head_fixed'\n",
    "experiment = 'gratings'\n",
    "version = 'v1'\n",
    "nanimals = 4\n",
    "\n",
    "data_dir = os.path.join(source_dir, experiment, version)\n",
    "tmp_fns = os.listdir(data_dir)\n",
    "fns = [f for f in tmp_fns if f.endswith('.mwk') and os.path.isfile(os.path.join(data_dir, f))]\n",
    "print \"Found %i MW data files.\" % len(fns)"
   ]
  },
  {
   "cell_type": "code",
   "execution_count": 23,
   "metadata": {},
   "outputs": [
    {
     "name": "stdout",
     "output_type": "stream",
     "text": [
      "Sessions:  ['20170806', '20170804', '20170805', '20170802', '20170803']\n",
      "More than %i expected IDs found:\n",
      "0 :  Minerva\n",
      "1 :  Hera\n",
      "2 :  Athena\n",
      "3 :  Juno\n",
      "4 :  Juno2\n",
      "Enter idx of repeat names:\n",
      "\n",
      "Animals:  ['Minerva', 'Hera', 'Athena', 'Juno', 'Juno2']\n"
     ]
    }
   ],
   "source": [
    "session_dates = list(set([f[:-4].split('_')[0] for f in fns]))\n",
    "print \"Sessions: \", session_dates\n",
    "\n",
    "animal_names = list(set([f[:-4].split('_')[1] for f in fns]))\n",
    "if len(animal_names)>nanimals:\n",
    "    print \"More than %i expected IDs found:\"\n",
    "    for a,name in enumerate(animal_names):\n",
    "        print a, \": \", name\n",
    "    discard = raw_input(\"Enter idx of repeat names:\\n\")\n",
    "    if len(discard)>0:\n",
    "        discard = int(discard)\n",
    "        print \"Removing ID: %s\" % animal_names[discard]\n",
    "        animal_names.pop(discard)\n",
    "\n",
    "print \"Animals: \", animal_names"
   ]
  },
  {
   "cell_type": "code",
   "execution_count": 24,
   "metadata": {},
   "outputs": [
    {
     "data": {
      "text/plain": [
       "{'Athena': {'20170802': {'files': ['/nas/volume1/behavior/data/mworks-data/head_fixed/gratings/v1/20170802_Athena.mwk']},\n",
       "  '20170803': {'files': ['/nas/volume1/behavior/data/mworks-data/head_fixed/gratings/v1/20170803_Athena.mwk']},\n",
       "  '20170804': {'files': ['/nas/volume1/behavior/data/mworks-data/head_fixed/gratings/v1/20170804_Athena.mwk']},\n",
       "  '20170805': {'files': ['/nas/volume1/behavior/data/mworks-data/head_fixed/gratings/v1/20170805_Athena.mwk']},\n",
       "  '20170806': {'files': ['/nas/volume1/behavior/data/mworks-data/head_fixed/gratings/v1/20170806_Athena.mwk']}},\n",
       " 'Hera': {'20170802': {'files': ['/nas/volume1/behavior/data/mworks-data/head_fixed/gratings/v1/20170802_Hera.mwk']},\n",
       "  '20170803': {'files': ['/nas/volume1/behavior/data/mworks-data/head_fixed/gratings/v1/20170803_Hera.mwk']},\n",
       "  '20170804': {'files': ['/nas/volume1/behavior/data/mworks-data/head_fixed/gratings/v1/20170804_Hera.mwk']},\n",
       "  '20170805': {'files': ['/nas/volume1/behavior/data/mworks-data/head_fixed/gratings/v1/20170805_Hera.mwk']},\n",
       "  '20170806': {'files': ['/nas/volume1/behavior/data/mworks-data/head_fixed/gratings/v1/20170806_Hera.mwk']}},\n",
       " 'Juno': {'20170802': {'files': ['/nas/volume1/behavior/data/mworks-data/head_fixed/gratings/v1/20170802_Juno.mwk']},\n",
       "  '20170803': {'files': ['/nas/volume1/behavior/data/mworks-data/head_fixed/gratings/v1/20170803_Juno.mwk']},\n",
       "  '20170804': {'files': ['/nas/volume1/behavior/data/mworks-data/head_fixed/gratings/v1/20170804_Juno.mwk',\n",
       "    '/nas/volume1/behavior/data/mworks-data/head_fixed/gratings/v1/20170804_Juno2.mwk']},\n",
       "  '20170805': {'files': ['/nas/volume1/behavior/data/mworks-data/head_fixed/gratings/v1/20170805_Juno.mwk']},\n",
       "  '20170806': {'files': ['/nas/volume1/behavior/data/mworks-data/head_fixed/gratings/v1/20170806_Juno.mwk']}},\n",
       " 'Juno2': {'20170802': {'files': []},\n",
       "  '20170803': {'files': []},\n",
       "  '20170804': {'files': ['/nas/volume1/behavior/data/mworks-data/head_fixed/gratings/v1/20170804_Juno2.mwk']},\n",
       "  '20170805': {'files': []},\n",
       "  '20170806': {'files': []}},\n",
       " 'Minerva': {'20170802': {'files': ['/nas/volume1/behavior/data/mworks-data/head_fixed/gratings/v1/20170802_Minerva.mwk']},\n",
       "  '20170803': {'files': ['/nas/volume1/behavior/data/mworks-data/head_fixed/gratings/v1/20170803_Minerva.mwk']},\n",
       "  '20170804': {'files': []},\n",
       "  '20170805': {'files': ['/nas/volume1/behavior/data/mworks-data/head_fixed/gratings/v1/20170805_Minerva.mwk']},\n",
       "  '20170806': {'files': ['/nas/volume1/behavior/data/mworks-data/head_fixed/gratings/v1/20170806_Minerva.mwk']}}}"
      ]
     },
     "execution_count": 24,
     "metadata": {},
     "output_type": "execute_result"
    }
   ],
   "source": [
    "# Create dict of data for all animals and sessions:\n",
    "datafiles = dict()\n",
    "for animal in animal_names:\n",
    "    animal_files = [f for f in fns if animal in f]\n",
    "    datafiles[animal] = dict((session, dict()) for session in session_dates)\n",
    "    for session in datafiles[animal].keys():\n",
    "        datafiles[animal][session]['files'] = [os.path.join(data_dir, f) for f in animal_files if session in f]\n",
    "datafiles"
   ]
  },
  {
   "cell_type": "code",
   "execution_count": 25,
   "metadata": {},
   "outputs": [
    {
     "name": "stdout",
     "output_type": "stream",
     "text": [
      "****************************************************************\n",
      "Parsing file\n",
      "/nas/volume1/behavior/data/mworks-data/head_fixed/gratings/v1/20170806_Minerva.mwk... \n",
      "Found 1 start events in session.\n",
      "Bounds:  [[85004356074, 89838739936]]\n",
      "bound ID: 0 4834.383862 sec\n",
      "****************************************************************\n"
     ]
    }
   ],
   "source": [
    "animal = datafiles.keys()[0]\n",
    "session = datafiles[animal].keys()[0]\n",
    "\n",
    "files = datafiles[animal][session]['files']\n",
    "f = files[0]\n",
    "# for f in files:\n",
    "df, bounds = get_session_bounds(f)\n",
    "t_boundary = bounds[0]"
   ]
  },
  {
   "cell_type": "code",
   "execution_count": 87,
   "metadata": {},
   "outputs": [
    {
     "name": "stdout",
     "output_type": "stream",
     "text": [
      "No pixel clock.\n",
      "got image events\n",
      "N aborted images:  93\n",
      "No ITI found after this (should be last image_ev).\n",
      "\n",
      "got iti events\n",
      "Removing extra image event that has no offset.\n",
      "Length of trial epochs:  614\n",
      "Number of trials found:  307\n",
      "{'A_port': 1, 'stimsize': 100, 'stimulus_duration': 2000, 'iti_duration': 2000}\n"
     ]
    }
   ],
   "source": [
    "image_events, all_trial_events = get_image_events(df, t_boundary, stimtype='grating')\n",
    "session_info = get_session_info(df)\n",
    "print session_info"
   ]
  },
  {
   "cell_type": "code",
   "execution_count": 88,
   "metadata": {},
   "outputs": [
    {
     "name": "stdout",
     "output_type": "stream",
     "text": [
      "[]\n"
     ]
    }
   ],
   "source": [
    "#print image_events[0]\n",
    "#print all_trial_events[3]\n",
    "iti_events = [ev for ev in all_trial_events[1::2]]\n",
    "\n",
    "print [idx for idx,i in enumerate(iti_events) if len(i.value)>1]\n",
    "# print all_trial_events[-2]\n",
    "# print all_trial_events[-1]\n",
    "# print image_events[-1]"
   ]
  },
  {
   "cell_type": "code",
   "execution_count": 89,
   "metadata": {},
   "outputs": [
    {
     "name": "stdout",
     "output_type": "stream",
     "text": [
      "N trials:  307\n",
      "N trial epochs:  614\n",
      "n imagess:  307\n",
      "n itis:  307\n"
     ]
    }
   ],
   "source": [
    "# If no \"blank\" period after image, experiment ended mid-stimulus, so remove:\n",
    "if len(image_events)*2 > len(all_trial_events):\n",
    "    image_events.pop(-1)\n",
    "print \"N trials: \", len(image_events)\n",
    "print \"N trial epochs: \",  len(all_trial_events)\n",
    "\n",
    "# Filter out any non-outcome trials:\n",
    "iti_events = [ev for ev in all_trial_events[1::2]]\n",
    "print \"n imagess: \", len(image_events)\n",
    "print \"n itis: \", len(iti_events)"
   ]
  },
  {
   "cell_type": "code",
   "execution_count": 90,
   "metadata": {},
   "outputs": [
    {
     "name": "stdout",
     "output_type": "stream",
     "text": [
      "Found 307 image trials.\n",
      "Found 614 stimulus update events across trials.\n",
      "Trial 1 info:\n",
      "{'stim_off_times': 9850.0, 'stimuli': {'stimulus': 'grating-ori-0-sf-0.06', 'position': [0, 0], 'scale': 100}, 'start_time_ms': 85013330.0, 'stim_on_times': 6200.0}\n"
     ]
    }
   ],
   "source": [
    "# Parse stimulus info for each trial:\n",
    "print \"Found %i image trials.\" % len(image_events)\n",
    "print \"Found %i stimulus update events across trials.\" % len(all_trial_events)\n",
    "\n",
    "# GET TRIAL INFO FOR DB:\n",
    "trial = dict((i+1, dict()) for i in range(len(image_events)))\n",
    "image_events = sorted(image_events, key=get_timekey)\n",
    "trial_events = sorted(all_trial_events, key=get_timekey)\n",
    "runstart_time = trial_events[0].time\n",
    "for trialidx,iev in enumerate(sorted(image_events, key=get_timekey)):\n",
    "    trialnum = trialidx + 1\n",
    "    blankidx = trialidx*2 + 1\n",
    "    trial[trialnum]['start_time_ms'] = round(iev.time/1E3)\n",
    "    #trial[trialnum]['end_time_ms'] = round((trial_events[blankidx].time + session_info['ITI'])/1E3)\n",
    "    ori = iev.value[1]['rotation']\n",
    "    sf = iev.value[1]['frequency'] #round(iev.value[1]['frequency'], 2)\n",
    "    stimname = 'grating-ori-%i-sf-%0.2f' % (ori, sf)\n",
    "    stimpos = [iev.value[1]['xoffset'], iev.value[1]['yoffset']]\n",
    "    stimsize = iev.value[1]['height']\n",
    "    trial[trialnum]['stimuli'] = {'stimulus': stimname, 'position': stimpos, 'scale': stimsize}\n",
    "    trial[trialnum]['stim_on_times'] = round((iev.time - runstart_time)/1E3)\n",
    "    trial[trialnum]['stim_off_times'] = round((trial_events[blankidx].time - runstart_time)/1E3)\n",
    "\n",
    "print \"Trial 1 info:\"\n",
    "print trial[2]"
   ]
  },
  {
   "cell_type": "code",
   "execution_count": 91,
   "metadata": {},
   "outputs": [
    {
     "name": "stdout",
     "output_type": "stream",
     "text": [
      "longest:  185\n"
     ]
    }
   ],
   "source": [
    "stim_on_durations = [trial[t]['stim_off_times'] - trial[t]['stim_on_times'] for t in trial.keys()]\n",
    "print \"longest: \", [v for v in stim_on_durations].index(max(stim_on_durations))"
   ]
  },
  {
   "cell_type": "code",
   "execution_count": 92,
   "metadata": {},
   "outputs": [
    {
     "data": {
      "text/html": [
       "\n",
       "\n",
       "    <div class=\"bk-root\">\n",
       "        <div class=\"bk-plotdiv\" id=\"01c86b5f-1412-401f-8020-3820dc3ed6ea\"></div>\n",
       "    </div>\n",
       "<script type=\"text/javascript\">\n",
       "  \n",
       "  (function(global) {\n",
       "    function now() {\n",
       "      return new Date();\n",
       "    }\n",
       "  \n",
       "    var force = false;\n",
       "  \n",
       "    if (typeof (window._bokeh_onload_callbacks) === \"undefined\" || force === true) {\n",
       "      window._bokeh_onload_callbacks = [];\n",
       "      window._bokeh_is_loading = undefined;\n",
       "    }\n",
       "  \n",
       "  \n",
       "    \n",
       "    if (typeof (window._bokeh_timeout) === \"undefined\" || force === true) {\n",
       "      window._bokeh_timeout = Date.now() + 0;\n",
       "      window._bokeh_failed_load = false;\n",
       "    }\n",
       "  \n",
       "    var NB_LOAD_WARNING = {'data': {'text/html':\n",
       "       \"<div style='background-color: #fdd'>\\n\"+\n",
       "       \"<p>\\n\"+\n",
       "       \"BokehJS does not appear to have successfully loaded. If loading BokehJS from CDN, this \\n\"+\n",
       "       \"may be due to a slow or bad network connection. Possible fixes:\\n\"+\n",
       "       \"</p>\\n\"+\n",
       "       \"<ul>\\n\"+\n",
       "       \"<li>re-rerun `output_notebook()` to attempt to load from CDN again, or</li>\\n\"+\n",
       "       \"<li>use INLINE resources instead, as so:</li>\\n\"+\n",
       "       \"</ul>\\n\"+\n",
       "       \"<code>\\n\"+\n",
       "       \"from bokeh.resources import INLINE\\n\"+\n",
       "       \"output_notebook(resources=INLINE)\\n\"+\n",
       "       \"</code>\\n\"+\n",
       "       \"</div>\"}};\n",
       "  \n",
       "    function display_loaded() {\n",
       "      if (window.Bokeh !== undefined) {\n",
       "        var el = document.getElementById(\"01c86b5f-1412-401f-8020-3820dc3ed6ea\");\n",
       "        el.textContent = \"BokehJS \" + Bokeh.version + \" successfully loaded.\";\n",
       "      } else if (Date.now() < window._bokeh_timeout) {\n",
       "        setTimeout(display_loaded, 100)\n",
       "      }\n",
       "    }\n",
       "  \n",
       "    function run_callbacks() {\n",
       "      try {\n",
       "        window._bokeh_onload_callbacks.forEach(function(callback) { callback() });\n",
       "      }\n",
       "      finally {\n",
       "        delete window._bokeh_onload_callbacks\n",
       "      }\n",
       "      console.info(\"Bokeh: all callbacks have finished\");\n",
       "    }\n",
       "  \n",
       "    function load_libs(js_urls, callback) {\n",
       "      window._bokeh_onload_callbacks.push(callback);\n",
       "      if (window._bokeh_is_loading > 0) {\n",
       "        console.log(\"Bokeh: BokehJS is being loaded, scheduling callback at\", now());\n",
       "        return null;\n",
       "      }\n",
       "      if (js_urls == null || js_urls.length === 0) {\n",
       "        run_callbacks();\n",
       "        return null;\n",
       "      }\n",
       "      console.log(\"Bokeh: BokehJS not loaded, scheduling load and callback at\", now());\n",
       "      window._bokeh_is_loading = js_urls.length;\n",
       "      for (var i = 0; i < js_urls.length; i++) {\n",
       "        var url = js_urls[i];\n",
       "        var s = document.createElement('script');\n",
       "        s.src = url;\n",
       "        s.async = false;\n",
       "        s.onreadystatechange = s.onload = function() {\n",
       "          window._bokeh_is_loading--;\n",
       "          if (window._bokeh_is_loading === 0) {\n",
       "            console.log(\"Bokeh: all BokehJS libraries loaded\");\n",
       "            run_callbacks()\n",
       "          }\n",
       "        };\n",
       "        s.onerror = function() {\n",
       "          console.warn(\"failed to load library \" + url);\n",
       "        };\n",
       "        console.log(\"Bokeh: injecting script tag for BokehJS library: \", url);\n",
       "        document.getElementsByTagName(\"head\")[0].appendChild(s);\n",
       "      }\n",
       "    };var element = document.getElementById(\"01c86b5f-1412-401f-8020-3820dc3ed6ea\");\n",
       "    if (element == null) {\n",
       "      console.log(\"Bokeh: ERROR: autoload.js configured with elementid '01c86b5f-1412-401f-8020-3820dc3ed6ea' but no matching script tag was found. \")\n",
       "      return false;\n",
       "    }\n",
       "  \n",
       "    var js_urls = [];\n",
       "  \n",
       "    var inline_js = [\n",
       "      function(Bokeh) {\n",
       "        (function() {\n",
       "          var fn = function() {\n",
       "            var docs_json = {\"13866923-fd25-45fa-9b63-aaa674fc9da8\":{\"roots\":{\"references\":[{\"attributes\":{},\"id\":\"9547b93b-f3a3-45f9-a731-ff701435e3cc\",\"type\":\"BasicTicker\"},{\"attributes\":{\"active_drag\":\"auto\",\"active_inspect\":\"auto\",\"active_scroll\":\"auto\",\"active_tap\":\"auto\",\"tools\":[{\"id\":\"aa7940be-ccff-4bb9-82f1-00b8ed676c55\",\"type\":\"SaveTool\"},{\"id\":\"cd6b6039-38fa-453d-8504-ef6a129d2cb7\",\"type\":\"ZoomInTool\"},{\"id\":\"2046c33d-e7cd-4261-8c72-c95daf504776\",\"type\":\"ZoomOutTool\"},{\"id\":\"b7ec3830-87b1-4cf7-b7ec-092f077b8ecb\",\"type\":\"PanTool\"}]},\"id\":\"8cb1aa9c-68ae-4363-b561-e49b925fe6b3\",\"type\":\"Toolbar\"},{\"attributes\":{},\"id\":\"6863c800-3558-4477-8045-d4a88ecd99bb\",\"type\":\"BasicTickFormatter\"},{\"attributes\":{\"data_source\":{\"id\":\"32db9484-f4d3-41ae-b379-c450923b174d\",\"type\":\"ColumnDataSource\"},\"glyph\":{\"id\":\"056cd5e3-268f-4941-a4c6-32d7b014f66b\",\"type\":\"Quad\"},\"hover_glyph\":null,\"muted_glyph\":null,\"nonselection_glyph\":{\"id\":\"0562fba7-df22-40fe-afbf-7b43dd03f5d6\",\"type\":\"Quad\"},\"selection_glyph\":null},\"id\":\"a4789efa-a73d-4a56-9daa-83729392ce46\",\"type\":\"GlyphRenderer\"},{\"attributes\":{},\"id\":\"0f0b756f-fc96-498e-b6a2-2e52f4b5cf23\",\"type\":\"BasicTickFormatter\"},{\"attributes\":{},\"id\":\"58e99b8e-856c-4f13-9efc-d23d768a7366\",\"type\":\"BasicTicker\"},{\"attributes\":{\"plot\":null,\"text\":\"Stimulus on durations (s)\"},\"id\":\"3f579e4c-9267-4ff5-a15b-f402b0fad011\",\"type\":\"Title\"},{\"attributes\":{\"background_fill_color\":{\"value\":\"white\"},\"below\":[{\"id\":\"f9dfbcac-6512-4878-b59b-2ed09020bb4d\",\"type\":\"LinearAxis\"}],\"left\":[{\"id\":\"9510912f-e2fb-4b48-81b9-dc10ed9d160e\",\"type\":\"LinearAxis\"}],\"renderers\":[{\"id\":\"f9dfbcac-6512-4878-b59b-2ed09020bb4d\",\"type\":\"LinearAxis\"},{\"id\":\"963d0b03-898b-4d17-ab0f-2c76b46b9d42\",\"type\":\"Grid\"},{\"id\":\"9510912f-e2fb-4b48-81b9-dc10ed9d160e\",\"type\":\"LinearAxis\"},{\"id\":\"49a083a1-c077-4447-aa95-a2c03aeabda2\",\"type\":\"Grid\"},{\"id\":\"a4789efa-a73d-4a56-9daa-83729392ce46\",\"type\":\"GlyphRenderer\"}],\"title\":{\"id\":\"3f579e4c-9267-4ff5-a15b-f402b0fad011\",\"type\":\"Title\"},\"tool_events\":{\"id\":\"d3950bde-79f6-4faa-a355-0e2729d7a2af\",\"type\":\"ToolEvents\"},\"toolbar\":{\"id\":\"8cb1aa9c-68ae-4363-b561-e49b925fe6b3\",\"type\":\"Toolbar\"},\"x_range\":{\"id\":\"5415ee59-0d3c-4648-a036-b2cbd06f8d80\",\"type\":\"DataRange1d\"},\"x_scale\":{\"id\":\"a1476a1b-7380-42fb-bc77-a83c36ba9562\",\"type\":\"LinearScale\"},\"y_range\":{\"id\":\"95b7796e-3ea6-4c38-a0f7-13aed0fe8b36\",\"type\":\"DataRange1d\"},\"y_scale\":{\"id\":\"145011ad-0003-4ef1-9e89-789b807a2b93\",\"type\":\"LinearScale\"}},\"id\":\"05dcc824-b653-4b30-bdec-e4a2807e2020\",\"subtype\":\"Figure\",\"type\":\"Plot\"},{\"attributes\":{\"callback\":null,\"column_names\":[\"right\",\"top\",\"left\"],\"data\":{\"left\":{\"__ndarray__\":\"/Knx0k1ikD8v3SQGgZXTP99PjZduEuM/JjEIrBxa7D83iUFg5dDyP9v5fmq8dPc/fmq8dJMY/D+R7Xw/NV4AQOOlm8QgsAJANV66SQwCBUCHFtnO91MHQNnO91PjpQlAKocW2c73C0B8PzVeukkOQOf7qfHSTRBAEFg5tMh2EUA5tMh2vp8SQGIQWDm0yBNAi2zn+6nxFEC0yHa+nxoWQA==\",\"dtype\":\"float64\",\"shape\":[20]},\"right\":{\"__ndarray__\":\"L90kBoGV0z/fT42XbhLjPyYxCKwcWuw/N4lBYOXQ8j/b+X5qvHT3P35qvHSTGPw/ke18PzVeAEDjpZvEILACQDVeukkMAgVAhxbZzvdTB0DZzvdT46UJQCqHFtnO9wtAfD81XrpJDkDn+6nx0k0QQBBYObTIdhFAObTIdr6fEkBiEFg5tMgTQIts5/up8RRAtMh2vp8aFkDdJAaBlUMXQA==\",\"dtype\":\"float64\",\"shape\":[20]},\"top\":{\"__ndarray__\":\"KnPNMeQAlz8AAAAAAAAAAJAhB7gA4ck/K1kFisBo0z/2m7Du1ZDFP/nPQD4dwaw/XhZaJatAoT8pc80x5AC3PylzzTHkAJc/w8STq8cgtD8pc80x5ACHPwAAAAAAAAAAwPgj+w5Ryz/2m7Du1ZDFP/eOzBrExOM/ke12aLmw4j9YfnrEOaHPP44hB7gA4dk/w8STq8cgxD9eFlolq0CxPw==\",\"dtype\":\"float64\",\"shape\":[20]}}},\"id\":\"32db9484-f4d3-41ae-b379-c450923b174d\",\"type\":\"ColumnDataSource\"},{\"attributes\":{\"formatter\":{\"id\":\"6863c800-3558-4477-8045-d4a88ecd99bb\",\"type\":\"BasicTickFormatter\"},\"plot\":{\"id\":\"05dcc824-b653-4b30-bdec-e4a2807e2020\",\"subtype\":\"Figure\",\"type\":\"Plot\"},\"ticker\":{\"id\":\"58e99b8e-856c-4f13-9efc-d23d768a7366\",\"type\":\"BasicTicker\"}},\"id\":\"f9dfbcac-6512-4878-b59b-2ed09020bb4d\",\"type\":\"LinearAxis\"},{\"attributes\":{\"plot\":{\"id\":\"05dcc824-b653-4b30-bdec-e4a2807e2020\",\"subtype\":\"Figure\",\"type\":\"Plot\"}},\"id\":\"2046c33d-e7cd-4261-8c72-c95daf504776\",\"type\":\"ZoomOutTool\"},{\"attributes\":{\"bottom\":{\"value\":0},\"fill_alpha\":{\"value\":0.1},\"fill_color\":{\"value\":\"#1f77b4\"},\"left\":{\"field\":\"left\"},\"line_alpha\":{\"value\":0.1},\"line_color\":{\"value\":\"#1f77b4\"},\"right\":{\"field\":\"right\"},\"top\":{\"field\":\"top\"}},\"id\":\"0562fba7-df22-40fe-afbf-7b43dd03f5d6\",\"type\":\"Quad\"},{\"attributes\":{\"callback\":null},\"id\":\"95b7796e-3ea6-4c38-a0f7-13aed0fe8b36\",\"type\":\"DataRange1d\"},{\"attributes\":{},\"id\":\"d3950bde-79f6-4faa-a355-0e2729d7a2af\",\"type\":\"ToolEvents\"},{\"attributes\":{\"callback\":null},\"id\":\"5415ee59-0d3c-4648-a036-b2cbd06f8d80\",\"type\":\"DataRange1d\"},{\"attributes\":{},\"id\":\"a1476a1b-7380-42fb-bc77-a83c36ba9562\",\"type\":\"LinearScale\"},{\"attributes\":{\"plot\":{\"id\":\"05dcc824-b653-4b30-bdec-e4a2807e2020\",\"subtype\":\"Figure\",\"type\":\"Plot\"}},\"id\":\"aa7940be-ccff-4bb9-82f1-00b8ed676c55\",\"type\":\"SaveTool\"},{\"attributes\":{\"plot\":{\"id\":\"05dcc824-b653-4b30-bdec-e4a2807e2020\",\"subtype\":\"Figure\",\"type\":\"Plot\"}},\"id\":\"cd6b6039-38fa-453d-8504-ef6a129d2cb7\",\"type\":\"ZoomInTool\"},{\"attributes\":{\"plot\":{\"id\":\"05dcc824-b653-4b30-bdec-e4a2807e2020\",\"subtype\":\"Figure\",\"type\":\"Plot\"}},\"id\":\"b7ec3830-87b1-4cf7-b7ec-092f077b8ecb\",\"type\":\"PanTool\"},{\"attributes\":{\"plot\":{\"id\":\"05dcc824-b653-4b30-bdec-e4a2807e2020\",\"subtype\":\"Figure\",\"type\":\"Plot\"},\"ticker\":{\"id\":\"58e99b8e-856c-4f13-9efc-d23d768a7366\",\"type\":\"BasicTicker\"}},\"id\":\"963d0b03-898b-4d17-ab0f-2c76b46b9d42\",\"type\":\"Grid\"},{\"attributes\":{},\"id\":\"145011ad-0003-4ef1-9e89-789b807a2b93\",\"type\":\"LinearScale\"},{\"attributes\":{\"dimension\":1,\"plot\":{\"id\":\"05dcc824-b653-4b30-bdec-e4a2807e2020\",\"subtype\":\"Figure\",\"type\":\"Plot\"},\"ticker\":{\"id\":\"9547b93b-f3a3-45f9-a731-ff701435e3cc\",\"type\":\"BasicTicker\"}},\"id\":\"49a083a1-c077-4447-aa95-a2c03aeabda2\",\"type\":\"Grid\"},{\"attributes\":{\"formatter\":{\"id\":\"0f0b756f-fc96-498e-b6a2-2e52f4b5cf23\",\"type\":\"BasicTickFormatter\"},\"plot\":{\"id\":\"05dcc824-b653-4b30-bdec-e4a2807e2020\",\"subtype\":\"Figure\",\"type\":\"Plot\"},\"ticker\":{\"id\":\"9547b93b-f3a3-45f9-a731-ff701435e3cc\",\"type\":\"BasicTicker\"}},\"id\":\"9510912f-e2fb-4b48-81b9-dc10ed9d160e\",\"type\":\"LinearAxis\"},{\"attributes\":{\"bottom\":{\"value\":0},\"fill_color\":{\"value\":\"#036564\"},\"left\":{\"field\":\"left\"},\"line_color\":{\"value\":\"#033649\"},\"right\":{\"field\":\"right\"},\"top\":{\"field\":\"top\"}},\"id\":\"056cd5e3-268f-4941-a4c6-32d7b014f66b\",\"type\":\"Quad\"}],\"root_ids\":[\"05dcc824-b653-4b30-bdec-e4a2807e2020\"]},\"title\":\"Bokeh Application\",\"version\":\"0.12.6\"}};\n",
       "            var render_items = [{\"docid\":\"13866923-fd25-45fa-9b63-aaa674fc9da8\",\"elementid\":\"01c86b5f-1412-401f-8020-3820dc3ed6ea\",\"modelid\":\"05dcc824-b653-4b30-bdec-e4a2807e2020\"}];\n",
       "            \n",
       "            Bokeh.embed.embed_items(docs_json, render_items);\n",
       "          };\n",
       "          if (document.readyState != \"loading\") fn();\n",
       "          else document.addEventListener(\"DOMContentLoaded\", fn);\n",
       "        })();\n",
       "      },\n",
       "      function(Bokeh) {\n",
       "      }\n",
       "    ];\n",
       "  \n",
       "    function run_inline_js() {\n",
       "      \n",
       "      if ((window.Bokeh !== undefined) || (force === true)) {\n",
       "        for (var i = 0; i < inline_js.length; i++) {\n",
       "          inline_js[i](window.Bokeh);\n",
       "        }if (force === true) {\n",
       "          display_loaded();\n",
       "        }} else if (Date.now() < window._bokeh_timeout) {\n",
       "        setTimeout(run_inline_js, 100);\n",
       "      } else if (!window._bokeh_failed_load) {\n",
       "        console.log(\"Bokeh: BokehJS failed to load within specified timeout.\");\n",
       "        window._bokeh_failed_load = true;\n",
       "      } else if (force !== true) {\n",
       "        var cell = $(document.getElementById(\"01c86b5f-1412-401f-8020-3820dc3ed6ea\")).parents('.cell').data().cell;\n",
       "        cell.output_area.append_execute_result(NB_LOAD_WARNING)\n",
       "      }\n",
       "  \n",
       "    }\n",
       "  \n",
       "    if (window._bokeh_is_loading === 0) {\n",
       "      console.log(\"Bokeh: BokehJS loaded, going straight to plotting\");\n",
       "      run_inline_js();\n",
       "    } else {\n",
       "      load_libs(js_urls, function() {\n",
       "        console.log(\"Bokeh: BokehJS plotting callback run at\", now());\n",
       "        run_inline_js();\n",
       "      });\n",
       "    }\n",
       "  }(this));\n",
       "</script>"
      ]
     },
     "metadata": {},
     "output_type": "display_data"
    }
   ],
   "source": [
    "# Plot histogram of stimulus-ON durations\n",
    "p1 = figure(title=\"Stimulus on durations (s)\",tools=\"save, zoom_in, zoom_out, pan\",\n",
    "            background_fill_color=\"white\")\n",
    "\n",
    "hist, edges = np.histogram(np.array(stim_on_durations)/1E3, density=True, bins=20)\n",
    "p1.quad(top=hist, bottom=0, left=edges[:-1], right=edges[1:],\n",
    "        fill_color=\"#036564\", line_color=\"#033649\")\n",
    "show(p1)"
   ]
  },
  {
   "cell_type": "code",
   "execution_count": 93,
   "metadata": {},
   "outputs": [
    {
     "name": "stdout",
     "output_type": "stream",
     "text": [
      "701\n"
     ]
    }
   ],
   "source": [
    "# outcome_types = ['success', 'failure', 'ignore']\n",
    "outcome_events = df.get_events('outcome_reached')\n",
    "response_events = sorted([o for o in outcome_events if o.value > 0], key=lambda e: e.time)\n",
    "display_update_events = df.get_events('#stimDisplayUpdate')\n",
    "tmp_trial_events = pymworks.events.display.to_trials(display_update_events, response_events)\n",
    "print len(tmp_trial_events)"
   ]
  },
  {
   "cell_type": "code",
   "execution_count": 94,
   "metadata": {},
   "outputs": [
    {
     "data": {
      "text/plain": [
       "{'action': 'draw',\n",
       " 'alpha_multiplier': 1,\n",
       " 'current_phase': -0.0,\n",
       " 'direction': 0,\n",
       " 'duration': 2016661,\n",
       " 'frequency': 0.06,\n",
       " 'grating': 'square',\n",
       " 'height': 100,\n",
       " 'mask': 'rectangle',\n",
       " 'name': 'fullscreen_vertical_grating',\n",
       " 'outcome': 'outcome_reached',\n",
       " 'rotation': 0,\n",
       " 'speed': 0,\n",
       " 'start_time': 85007113011,\n",
       " 'starting_phase': 0,\n",
       " 'time': 85007113011,\n",
       " 'type': 'drifting_grating',\n",
       " 'width': 100,\n",
       " 'xoffset': 0,\n",
       " 'yoffset': 0}"
      ]
     },
     "execution_count": 94,
     "metadata": {},
     "output_type": "execute_result"
    }
   ],
   "source": [
    "tmp_trial_events[0]"
   ]
  },
  {
   "cell_type": "code",
   "execution_count": 95,
   "metadata": {
    "collapsed": true
   },
   "outputs": [],
   "source": [
    "codec = df.get_codec()"
   ]
  },
  {
   "cell_type": "code",
   "execution_count": 108,
   "metadata": {},
   "outputs": [
    {
     "name": "stdout",
     "output_type": "stream",
     "text": [
      "[2, 2, 2, 1, 1, 1, 1, 1, 2, 2, 2, 1, 2, 2, 1, 1, 1, 2, 1, 2, 2, 2, 2, 2, 2, 2, 2, 2, 0, 2, 2, 1, 2, 2, 2, 1, 1, 1, 2, 2, 2, 1, 1, 1, 2, 1, 1, 2, 2, 1, 1, 2, 1, 1, 2, 2, 2, 2, 2, 2, 2, 2, 1, 2, 1, 1, 1, 1, 2, 2, 2, 2, 1, 1, 2, 1, 1, 2, 2, 2, 1, 1, 1, 2, 2, 2, 1, 1, 1, 2, 2, 1, 1, 1, 2, 2, 2, 2, 2, 2, 1, 1, 2, 1, 2, 1, 2, 2, 2, 2, 2, 2, 2, 1, 2, 2, 1, 1, 1, 1, 2, 2, 2, 2, 2, 1, 1, 1, 1, 2, 1, 1, 1, 2, 1, 1, 2, 2, 1, 2, 2, 2, 2, 1, 1, 2, 1, 1, 2, 2, 2, 2, 1, 1, 2, 1, 1, 1, 1, 1, 1, 1, 1, 1, 1, 2, 1, 1, 1, 1, 1, 2, 2, 2, 2, 1, 2, 2, 2, 2, 2, 2, 2, 2, 2, 2, 1, 2, 2, 2, 2, 1, 2, 1, 1, 1, 1, 1, 1, 1, 2, 2, 2, 2, 1, 1, 1, 1, 2, 2, 2, 2, 1, 1, 1, 2, 2, 1, 2, 2, 2, 2, 2, 1, 1, 1, 2, 0, 1, 1, 1, 1, 1, 1, 1, 1, 2, 2, 2, 1, 1, 1, 2, 1, 1, 1, 2, 2, 0, 2, 2, 2, 1, 1, 1, 2, 1, 1, 1, 0, 1, 2, 0, 2, 2, 1, 1, 2, 2, 2, 2, 2, 1, 1, 1, 1, 2, 1, 1, 1, 1, 2, 2, 2, 2, 1, 1, 1, 2, 2, 2, 1, 2, 2, 2, 1, 1, 1, 1, 2, 2, 2, 2, 2, 1, 2, 2]\n"
     ]
    }
   ],
   "source": [
    "outcome_reached_evs = df.get_events('outcome_reached')\n",
    "found_outcome_evs = []\n",
    "for idx,(im,iti) in enumerate(zip(image_events, iti_events)):\n",
    "    next_outcome = [i for i in outcome_reached_evs if i.time>im.time and i.time<iti_events[idx].time and i.value==1]\n",
    "    found_outcome_evs.append(next_outcome)\n",
    "\n",
    "print [len(i) for i in found_outcome_evs]"
   ]
  },
  {
   "cell_type": "code",
   "execution_count": 97,
   "metadata": {},
   "outputs": [
    {
     "name": "stdout",
     "output_type": "stream",
     "text": [
      "399\n",
      "399\n",
      "307\n"
     ]
    }
   ],
   "source": [
    "# Since training flags influence which and how many outcomes are possible on each trial, need to distinguish:\n",
    "# first response from all responses. For example, an initial \"ignore\" or \"fail\" trial can still have a \"success\"\n",
    "# if training flag flag_guarantee_reward is on.\n",
    "\n",
    "outcome_reached_evs = df.get_events('outcome_reached')\n",
    "first_outcome_idxs = [ix+1 for ix,val in enumerate(np.diff([ev.value for ev in outcome_reached_evs])) if val==1]\n",
    "first_outcome_evs = [outcome_reached_evs[i] for i in first_outcome_idxs]\n",
    "first_outcome_evs = sorted([i for i in first_outcome_evs], key=lambda e: e.time)\n",
    "\n",
    "success_evs = df.get_events('n_successes_session')\n",
    "fail_evs = df.get_events('n_failures_session')\n",
    "ignore_evs = df.get_events('n_ignores_session')\n",
    "\n",
    "result_evs = []\n",
    "for idx,oev in enumerate(first_outcome_evs):\n",
    "    if idx==len(first_outcome_evs)-1:  # don't need upper bound on time, since last outcome event:\n",
    "        tmp_success_ev = [i for i in success_evs if i.time > oev.time]\n",
    "        tmp_fail_ev = [i for i in fail_evs if i.time > oev.time]\n",
    "        tmp_ignore_ev = [i for i in ignore_evs if i.time > oev.time]\n",
    "    else:\n",
    "        tmp_success_ev = [i for i in success_evs if i.time > oev.time and i.time < first_outcome_evs[idx+1].time]\n",
    "        tmp_fail_ev = [i for i in fail_evs if i.time > oev.time and i.time < first_outcome_evs[idx+1].time]\n",
    "        tmp_ignore_ev = [i for i in ignore_evs if i.time > oev.time and i.time < first_outcome_evs[idx+1].time]\n",
    "    #print [len(tmp_success_ev), len(tmp_fail_ev), len(tmp_ignore_ev)]\n",
    "    tmp_result_evs = [tmp_success_ev, tmp_fail_ev, tmp_ignore_ev]\n",
    "    tmp_result_evs = [i[0] for i in tmp_result_evs if len(i)>0] # only take the first occurrence\n",
    "    result_times = [(idx, i.time) for idx,i in enumerate(tmp_result_evs) if len(i)>0]\n",
    "    result_idx = [ev for ev in result_times if ev[1]==min([i[1] for i in result_times])][0]\n",
    "    result_ev = tmp_result_evs[result_idx[0]]\n",
    "    result_evs.append(result_ev)\n",
    "    \n",
    "print len(first_outcome_evs)\n",
    "print len(result_evs)\n",
    "print len(image_events)"
   ]
  },
  {
   "cell_type": "code",
   "execution_count": null,
   "metadata": {
    "collapsed": true
   },
   "outputs": [],
   "source": [
    "def to_trials(stim_display_events, outcome_events, remove_unknown=True,\n",
    "              duration_multiplier=2, stim_blacklists=None):\n",
    "    \"\"\"\n",
    "    If remove_unknown, any trials where a corresponding outcome_event cannot\n",
    "    be found will be removed.\n",
    "\n",
    "    If duration_multiplier is not None, to_trials will check to see if the\n",
    "    outcome event occured within duration_multiplier * duration microseconds\n",
    "    of the trial start. If the outcome event occured later, the trial outcome\n",
    "    will be marked as unknown.\n",
    "    \"\"\"\n",
    "    if (len(outcome_events) == 0) or (len(stim_display_events) == 0):\n",
    "        return []\n",
    "    assert hasattr(outcome_events[0], 'name')\n",
    "\n",
    "    trials = pymworks.events.display.to_stims(stim_display_events, as_dicts=True,\n",
    "                      blacklist=stim_blacklists)\n",
    "\n",
    "    if (len(trials) == 0):\n",
    "        return []\n",
    "\n",
    "    outcomes = utils.sync(outcome_events, trials,\n",
    "                          direction=1, mkey=lambda x: x['time'])\n",
    "\n",
    "    assert len(trials) == len(outcomes)\n",
    "    unknowns = []\n",
    "    if duration_multiplier is None:\n",
    "        dtest = lambda t, o: True\n",
    "    else:\n",
    "        dtest = lambda t, o: \\\n",
    "            o.time < (t['time'] + t['duration'] * duration_multiplier)\n",
    "    for i in xrange(len(trials)):\n",
    "        if (outcomes[i] is not None) and dtest(trials[i], outcomes[i]):\n",
    "            trials[i]['outcome'] = outcomes[i].name\n",
    "        else:\n",
    "            if remove_unknown:\n",
    "                unknowns.append(i)\n",
    "            else:\n",
    "                trials[i]['outcome'] = 'unknown'\n",
    "\n",
    "    # remove trials with 'unknown' outcome, in reverse\n",
    "    for u in unknowns[::-1]:\n",
    "        del trials[u]\n",
    "\n",
    "    return trials"
   ]
  },
  {
   "cell_type": "code",
   "execution_count": 98,
   "metadata": {},
   "outputs": [
    {
     "name": "stdout",
     "output_type": "stream",
     "text": [
      "307\n",
      "306\n",
      "[]\n",
      "test trial:  {'direction': 0, 'start_time': 89820046460, 'time': 89820046460, 'yoffset': 0, 'frequency': 0.06, 'duration': 7583328, 'rotation': 0, 'height': 100, 'speed': 0, 'xoffset': 0, 'name': 'fullscreen_vertical_grating', 'current_phase': -0.0, 'mask': 'rectangle', 'width': 100, 'alpha_multiplier': 1, 'grating': 'square', 'action': 'draw', 'type': 'drifting_grating', 'starting_phase': 0}\n",
      "last im:  Event[code=7, name=#stimDisplayUpdate, time=89820046460, value=[{'name': 'background_black', 'color_g': 0.0, 'color_b': 0.0, 'action': 'draw', 'type': 'blankscreen', 'color_r': 0.0}, {'direction': 0, 'start_time': 89820046460, 'name': 'fullscreen_vertical_grating', 'type': 'drifting_grating', 'starting_phase': 0, 'mask': 'rectangle', 'yoffset': 0, 'width': 100, 'frequency': 0.06, 'alpha_multiplier': 1, 'grating': 'square', 'action': 'draw', 'rotation': 0, 'height': 100, 'speed': 0, 'current_phase': -0.0, 'xoffset': 0}]]\n"
     ]
    }
   ],
   "source": [
    "print len(image_events)\n",
    "test_trials = pymworks.events.display.to_stims(image_events, as_dicts=True,\n",
    "                  blacklist=None)\n",
    "print len(test_trials)\n",
    "bad_ims = []\n",
    "for idx,(im,tr) in enumerate(zip(image_events[0:len(test_trials)], test_trials)):\n",
    "    if not im.time==tr['time']:\n",
    "        bad_ims.append(idx)\n",
    "print bad_ims\n",
    "\n",
    "print \"test trial: \", test_trials[-1]\n",
    "\n",
    "print \"last im: \", image_events[-2]\n"
   ]
  },
  {
   "cell_type": "code",
   "execution_count": 99,
   "metadata": {},
   "outputs": [
    {
     "data": {
      "text/html": [
       "\n",
       "\n",
       "    <div class=\"bk-root\">\n",
       "        <div class=\"bk-plotdiv\" id=\"bbb81e8f-eba3-4db2-b211-99f9959a5f69\"></div>\n",
       "    </div>\n",
       "<script type=\"text/javascript\">\n",
       "  \n",
       "  (function(global) {\n",
       "    function now() {\n",
       "      return new Date();\n",
       "    }\n",
       "  \n",
       "    var force = false;\n",
       "  \n",
       "    if (typeof (window._bokeh_onload_callbacks) === \"undefined\" || force === true) {\n",
       "      window._bokeh_onload_callbacks = [];\n",
       "      window._bokeh_is_loading = undefined;\n",
       "    }\n",
       "  \n",
       "  \n",
       "    \n",
       "    if (typeof (window._bokeh_timeout) === \"undefined\" || force === true) {\n",
       "      window._bokeh_timeout = Date.now() + 0;\n",
       "      window._bokeh_failed_load = false;\n",
       "    }\n",
       "  \n",
       "    var NB_LOAD_WARNING = {'data': {'text/html':\n",
       "       \"<div style='background-color: #fdd'>\\n\"+\n",
       "       \"<p>\\n\"+\n",
       "       \"BokehJS does not appear to have successfully loaded. If loading BokehJS from CDN, this \\n\"+\n",
       "       \"may be due to a slow or bad network connection. Possible fixes:\\n\"+\n",
       "       \"</p>\\n\"+\n",
       "       \"<ul>\\n\"+\n",
       "       \"<li>re-rerun `output_notebook()` to attempt to load from CDN again, or</li>\\n\"+\n",
       "       \"<li>use INLINE resources instead, as so:</li>\\n\"+\n",
       "       \"</ul>\\n\"+\n",
       "       \"<code>\\n\"+\n",
       "       \"from bokeh.resources import INLINE\\n\"+\n",
       "       \"output_notebook(resources=INLINE)\\n\"+\n",
       "       \"</code>\\n\"+\n",
       "       \"</div>\"}};\n",
       "  \n",
       "    function display_loaded() {\n",
       "      if (window.Bokeh !== undefined) {\n",
       "        var el = document.getElementById(\"bbb81e8f-eba3-4db2-b211-99f9959a5f69\");\n",
       "        el.textContent = \"BokehJS \" + Bokeh.version + \" successfully loaded.\";\n",
       "      } else if (Date.now() < window._bokeh_timeout) {\n",
       "        setTimeout(display_loaded, 100)\n",
       "      }\n",
       "    }\n",
       "  \n",
       "    function run_callbacks() {\n",
       "      try {\n",
       "        window._bokeh_onload_callbacks.forEach(function(callback) { callback() });\n",
       "      }\n",
       "      finally {\n",
       "        delete window._bokeh_onload_callbacks\n",
       "      }\n",
       "      console.info(\"Bokeh: all callbacks have finished\");\n",
       "    }\n",
       "  \n",
       "    function load_libs(js_urls, callback) {\n",
       "      window._bokeh_onload_callbacks.push(callback);\n",
       "      if (window._bokeh_is_loading > 0) {\n",
       "        console.log(\"Bokeh: BokehJS is being loaded, scheduling callback at\", now());\n",
       "        return null;\n",
       "      }\n",
       "      if (js_urls == null || js_urls.length === 0) {\n",
       "        run_callbacks();\n",
       "        return null;\n",
       "      }\n",
       "      console.log(\"Bokeh: BokehJS not loaded, scheduling load and callback at\", now());\n",
       "      window._bokeh_is_loading = js_urls.length;\n",
       "      for (var i = 0; i < js_urls.length; i++) {\n",
       "        var url = js_urls[i];\n",
       "        var s = document.createElement('script');\n",
       "        s.src = url;\n",
       "        s.async = false;\n",
       "        s.onreadystatechange = s.onload = function() {\n",
       "          window._bokeh_is_loading--;\n",
       "          if (window._bokeh_is_loading === 0) {\n",
       "            console.log(\"Bokeh: all BokehJS libraries loaded\");\n",
       "            run_callbacks()\n",
       "          }\n",
       "        };\n",
       "        s.onerror = function() {\n",
       "          console.warn(\"failed to load library \" + url);\n",
       "        };\n",
       "        console.log(\"Bokeh: injecting script tag for BokehJS library: \", url);\n",
       "        document.getElementsByTagName(\"head\")[0].appendChild(s);\n",
       "      }\n",
       "    };var element = document.getElementById(\"bbb81e8f-eba3-4db2-b211-99f9959a5f69\");\n",
       "    if (element == null) {\n",
       "      console.log(\"Bokeh: ERROR: autoload.js configured with elementid 'bbb81e8f-eba3-4db2-b211-99f9959a5f69' but no matching script tag was found. \")\n",
       "      return false;\n",
       "    }\n",
       "  \n",
       "    var js_urls = [];\n",
       "  \n",
       "    var inline_js = [\n",
       "      function(Bokeh) {\n",
       "        (function() {\n",
       "          var fn = function() {\n",
       "            var docs_json = {\"2fe10034-dada-44ca-8b95-ee836c5a5740\":{\"roots\":{\"references\":[{\"attributes\":{\"plot\":{\"id\":\"1848827c-cd12-401a-b7cf-6796da4f80b9\",\"subtype\":\"Figure\",\"type\":\"Plot\"}},\"id\":\"93a34ddb-827f-41c1-9bcd-7d4b17056d63\",\"type\":\"PanTool\"},{\"attributes\":{},\"id\":\"0c8bcc1a-b48d-40d5-b75e-79ce9a389f6e\",\"type\":\"BasicTickFormatter\"},{\"attributes\":{\"plot\":null,\"text\":\"Response time from stim onset (s)\"},\"id\":\"621b9892-6d24-49a2-8ecb-946037de33db\",\"type\":\"Title\"},{\"attributes\":{\"plot\":{\"id\":\"1848827c-cd12-401a-b7cf-6796da4f80b9\",\"subtype\":\"Figure\",\"type\":\"Plot\"}},\"id\":\"29515e43-6730-4806-a1ed-f29323f8c1f7\",\"type\":\"SaveTool\"},{\"attributes\":{\"data_source\":{\"id\":\"aba8d5ff-74ee-4161-928f-3f9f0ac1c2c2\",\"type\":\"ColumnDataSource\"},\"glyph\":{\"id\":\"13b339b9-ba2f-4898-b7da-200dff8f96a3\",\"type\":\"Quad\"},\"hover_glyph\":null,\"muted_glyph\":null,\"nonselection_glyph\":{\"id\":\"2c9f7056-aebf-4a0b-a230-02258f262a75\",\"type\":\"Quad\"},\"selection_glyph\":null},\"id\":\"2d34c2ca-781c-41be-a36d-0f8e0007de6e\",\"type\":\"GlyphRenderer\"},{\"attributes\":{\"plot\":{\"id\":\"1848827c-cd12-401a-b7cf-6796da4f80b9\",\"subtype\":\"Figure\",\"type\":\"Plot\"},\"ticker\":{\"id\":\"03860170-670f-442b-a507-46d723478cf6\",\"type\":\"BasicTicker\"}},\"id\":\"92685e1e-716a-4d1a-84a3-1d2bc35c4ea0\",\"type\":\"Grid\"},{\"attributes\":{\"callback\":null},\"id\":\"4726dcd8-07da-4951-a569-38a270459de3\",\"type\":\"DataRange1d\"},{\"attributes\":{\"plot\":{\"id\":\"1848827c-cd12-401a-b7cf-6796da4f80b9\",\"subtype\":\"Figure\",\"type\":\"Plot\"}},\"id\":\"8acf15ef-0edc-45e9-a6f4-8cbc23d5938e\",\"type\":\"ZoomOutTool\"},{\"attributes\":{\"dimension\":1,\"plot\":{\"id\":\"1848827c-cd12-401a-b7cf-6796da4f80b9\",\"subtype\":\"Figure\",\"type\":\"Plot\"},\"ticker\":{\"id\":\"80da184b-1183-43ed-992c-7981263ded04\",\"type\":\"BasicTicker\"}},\"id\":\"ff015b71-ca35-4c63-8e8a-54524777579b\",\"type\":\"Grid\"},{\"attributes\":{\"bottom\":{\"value\":0},\"fill_alpha\":{\"value\":0.1},\"fill_color\":{\"value\":\"#1f77b4\"},\"left\":{\"field\":\"left\"},\"line_alpha\":{\"value\":0.1},\"line_color\":{\"value\":\"#1f77b4\"},\"right\":{\"field\":\"right\"},\"top\":{\"field\":\"top\"}},\"id\":\"2c9f7056-aebf-4a0b-a230-02258f262a75\",\"type\":\"Quad\"},{\"attributes\":{},\"id\":\"03860170-670f-442b-a507-46d723478cf6\",\"type\":\"BasicTicker\"},{\"attributes\":{},\"id\":\"2b3144bd-b4fd-4e65-9ea6-f6c04d9429c5\",\"type\":\"ToolEvents\"},{\"attributes\":{\"formatter\":{\"id\":\"170e5923-0af1-4776-9560-2f0897fe40bf\",\"type\":\"BasicTickFormatter\"},\"plot\":{\"id\":\"1848827c-cd12-401a-b7cf-6796da4f80b9\",\"subtype\":\"Figure\",\"type\":\"Plot\"},\"ticker\":{\"id\":\"80da184b-1183-43ed-992c-7981263ded04\",\"type\":\"BasicTicker\"}},\"id\":\"935e8229-d846-4ce0-bba0-d517d5ac15a2\",\"type\":\"LinearAxis\"},{\"attributes\":{},\"id\":\"80da184b-1183-43ed-992c-7981263ded04\",\"type\":\"BasicTicker\"},{\"attributes\":{\"callback\":null},\"id\":\"21cf8b6c-a529-4db2-96b9-e1f6c7a4248a\",\"type\":\"DataRange1d\"},{\"attributes\":{\"formatter\":{\"id\":\"0c8bcc1a-b48d-40d5-b75e-79ce9a389f6e\",\"type\":\"BasicTickFormatter\"},\"plot\":{\"id\":\"1848827c-cd12-401a-b7cf-6796da4f80b9\",\"subtype\":\"Figure\",\"type\":\"Plot\"},\"ticker\":{\"id\":\"03860170-670f-442b-a507-46d723478cf6\",\"type\":\"BasicTicker\"}},\"id\":\"c73d09f2-a9ca-4f64-a9b3-9ca7879a40e0\",\"type\":\"LinearAxis\"},{\"attributes\":{\"active_drag\":\"auto\",\"active_inspect\":\"auto\",\"active_scroll\":\"auto\",\"active_tap\":\"auto\",\"tools\":[{\"id\":\"29515e43-6730-4806-a1ed-f29323f8c1f7\",\"type\":\"SaveTool\"},{\"id\":\"9ade6421-38e8-4631-b03d-7dbaa7aba135\",\"type\":\"ZoomInTool\"},{\"id\":\"8acf15ef-0edc-45e9-a6f4-8cbc23d5938e\",\"type\":\"ZoomOutTool\"},{\"id\":\"93a34ddb-827f-41c1-9bcd-7d4b17056d63\",\"type\":\"PanTool\"}]},\"id\":\"54c6204a-ba39-476c-b1d8-491ab414243a\",\"type\":\"Toolbar\"},{\"attributes\":{\"background_fill_color\":{\"value\":\"white\"},\"below\":[{\"id\":\"c73d09f2-a9ca-4f64-a9b3-9ca7879a40e0\",\"type\":\"LinearAxis\"}],\"left\":[{\"id\":\"935e8229-d846-4ce0-bba0-d517d5ac15a2\",\"type\":\"LinearAxis\"}],\"renderers\":[{\"id\":\"c73d09f2-a9ca-4f64-a9b3-9ca7879a40e0\",\"type\":\"LinearAxis\"},{\"id\":\"92685e1e-716a-4d1a-84a3-1d2bc35c4ea0\",\"type\":\"Grid\"},{\"id\":\"935e8229-d846-4ce0-bba0-d517d5ac15a2\",\"type\":\"LinearAxis\"},{\"id\":\"ff015b71-ca35-4c63-8e8a-54524777579b\",\"type\":\"Grid\"},{\"id\":\"2d34c2ca-781c-41be-a36d-0f8e0007de6e\",\"type\":\"GlyphRenderer\"}],\"title\":{\"id\":\"621b9892-6d24-49a2-8ecb-946037de33db\",\"type\":\"Title\"},\"tool_events\":{\"id\":\"2b3144bd-b4fd-4e65-9ea6-f6c04d9429c5\",\"type\":\"ToolEvents\"},\"toolbar\":{\"id\":\"54c6204a-ba39-476c-b1d8-491ab414243a\",\"type\":\"Toolbar\"},\"x_range\":{\"id\":\"4726dcd8-07da-4951-a569-38a270459de3\",\"type\":\"DataRange1d\"},\"x_scale\":{\"id\":\"dd4492ec-92ad-4a64-87aa-96d7e1fb8260\",\"type\":\"LinearScale\"},\"y_range\":{\"id\":\"21cf8b6c-a529-4db2-96b9-e1f6c7a4248a\",\"type\":\"DataRange1d\"},\"y_scale\":{\"id\":\"ff8a6b49-eb21-4277-ab61-a7cc03049fb4\",\"type\":\"LinearScale\"}},\"id\":\"1848827c-cd12-401a-b7cf-6796da4f80b9\",\"subtype\":\"Figure\",\"type\":\"Plot\"},{\"attributes\":{\"callback\":null,\"column_names\":[\"right\",\"top\",\"left\"],\"data\":{\"left\":{\"__ndarray__\":\"3ZbIBQdUk8D8l1qlOlySwBuZ7ERuZJHAOpp+5KFskMCxNiEIq+mOwO84RUcS+ozALTtphnkKi8BqPY3F4BqJwKg/sQRIK4fA5kHVQ687hcAkRPmCFkyDwGJGHcJ9XIHAQJGCAsrZfsC8lcqAmPp6wDaaEv9mG3fAsp5afTU8c8BcRkX3B7puwFBP1fOk+2bAkLDK4IN6XsAAhdWze/tNwA==\",\"dtype\":\"float64\",\"shape\":[20]},\"right\":{\"__ndarray__\":\"/JdapTpcksAbmexEbmSRwDqafuShbJDAsTYhCKvpjsDvOEVHEvqMwC07aYZ5CovAaj2NxeAaicCoP7EESCuHwOZB1UOvO4XAJET5ghZMg8BiRh3CfVyBwECRggLK2X7AvJXKgJj6esA2mhL/Zht3wLKeWn01PHPAXEZF9we6bsBQT9XzpPtmwJCwyuCDel7AAIXVs3v7TcAq5Eo9C8L/Pw==\",\"dtype\":\"float64\",\"shape\":[20]},\"top\":{\"__ndarray__\":\"e06l4xeVbj/zjQbpCuR0Pz40TR3V81I/AAAAAAAAAACKZw596KwkPyHOkDwPHzg/AAAAAAAAAABOm5W7XANPP4pnDn3orDQ/imcOfeisJD+KZw596KwkP7c0E/w1kRs/tzQT/DWRGz9/Zw596Kw0P/MAjL3BOkE/PjRNHdXzQj8UzpA8Dx9IP4pnDn3orCQ/TpuVu1wDTz8+NE0d1fNCPw==\",\"dtype\":\"float64\",\"shape\":[20]}}},\"id\":\"aba8d5ff-74ee-4161-928f-3f9f0ac1c2c2\",\"type\":\"ColumnDataSource\"},{\"attributes\":{\"plot\":{\"id\":\"1848827c-cd12-401a-b7cf-6796da4f80b9\",\"subtype\":\"Figure\",\"type\":\"Plot\"}},\"id\":\"9ade6421-38e8-4631-b03d-7dbaa7aba135\",\"type\":\"ZoomInTool\"},{\"attributes\":{},\"id\":\"170e5923-0af1-4776-9560-2f0897fe40bf\",\"type\":\"BasicTickFormatter\"},{\"attributes\":{},\"id\":\"dd4492ec-92ad-4a64-87aa-96d7e1fb8260\",\"type\":\"LinearScale\"},{\"attributes\":{\"bottom\":{\"value\":0},\"fill_color\":{\"value\":\"#036564\"},\"left\":{\"field\":\"left\"},\"line_color\":{\"value\":\"#033649\"},\"right\":{\"field\":\"right\"},\"top\":{\"field\":\"top\"}},\"id\":\"13b339b9-ba2f-4898-b7da-200dff8f96a3\",\"type\":\"Quad\"},{\"attributes\":{},\"id\":\"ff8a6b49-eb21-4277-ab61-a7cc03049fb4\",\"type\":\"LinearScale\"}],\"root_ids\":[\"1848827c-cd12-401a-b7cf-6796da4f80b9\"]},\"title\":\"Bokeh Application\",\"version\":\"0.12.6\"}};\n",
       "            var render_items = [{\"docid\":\"2fe10034-dada-44ca-8b95-ee836c5a5740\",\"elementid\":\"bbb81e8f-eba3-4db2-b211-99f9959a5f69\",\"modelid\":\"1848827c-cd12-401a-b7cf-6796da4f80b9\"}];\n",
       "            \n",
       "            Bokeh.embed.embed_items(docs_json, render_items);\n",
       "          };\n",
       "          if (document.readyState != \"loading\") fn();\n",
       "          else document.addEventListener(\"DOMContentLoaded\", fn);\n",
       "        })();\n",
       "      },\n",
       "      function(Bokeh) {\n",
       "      }\n",
       "    ];\n",
       "  \n",
       "    function run_inline_js() {\n",
       "      \n",
       "      if ((window.Bokeh !== undefined) || (force === true)) {\n",
       "        for (var i = 0; i < inline_js.length; i++) {\n",
       "          inline_js[i](window.Bokeh);\n",
       "        }if (force === true) {\n",
       "          display_loaded();\n",
       "        }} else if (Date.now() < window._bokeh_timeout) {\n",
       "        setTimeout(run_inline_js, 100);\n",
       "      } else if (!window._bokeh_failed_load) {\n",
       "        console.log(\"Bokeh: BokehJS failed to load within specified timeout.\");\n",
       "        window._bokeh_failed_load = true;\n",
       "      } else if (force !== true) {\n",
       "        var cell = $(document.getElementById(\"bbb81e8f-eba3-4db2-b211-99f9959a5f69\")).parents('.cell').data().cell;\n",
       "        cell.output_area.append_execute_result(NB_LOAD_WARNING)\n",
       "      }\n",
       "  \n",
       "    }\n",
       "  \n",
       "    if (window._bokeh_is_loading === 0) {\n",
       "      console.log(\"Bokeh: BokehJS loaded, going straight to plotting\");\n",
       "      run_inline_js();\n",
       "    } else {\n",
       "      load_libs(js_urls, function() {\n",
       "        console.log(\"Bokeh: BokehJS plotting callback run at\", now());\n",
       "        run_inline_js();\n",
       "      });\n",
       "    }\n",
       "  }(this));\n",
       "</script>"
      ]
     },
     "metadata": {},
     "output_type": "display_data"
    }
   ],
   "source": [
    "# Check respomnse times:\n",
    "response_times = []\n",
    "# for idx,(im,res) in enumerate(zip(test_trials, result_evs)):\n",
    "#     response_time = (res.time - im['time'])/1E6\n",
    "#     response_times.append(response_time)\n",
    "for idx,(im,res) in enumerate(zip(image_events[0:len(result_evs)], result_evs)):\n",
    "    response_time = (res.time - im.time)/1E6\n",
    "    response_times.append(response_time)\n",
    "    \n",
    "# Plot histogram of response-times:\n",
    "p1 = figure(title=\"Response time from stim onset (s)\",tools=\"save, zoom_in, zoom_out, pan\",\n",
    "            background_fill_color=\"white\")\n",
    "\n",
    "hist, edges = np.histogram(response_times, density=True, bins=20)\n",
    "p1.quad(top=hist, bottom=0, left=edges[:-1], right=edges[1:],\n",
    "        fill_color=\"#036564\", line_color=\"#033649\")\n",
    "show(p1)"
   ]
  },
  {
   "cell_type": "code",
   "execution_count": 67,
   "metadata": {},
   "outputs": [
    {
     "name": "stdout",
     "output_type": "stream",
     "text": [
      "N result events:  399\n",
      "N trial events:  399\n",
      "[40, 327, 331, 334, 335, 338, 340, 344, 347, 348, 353, 356, 357, 358, 359, 363, 364, 367, 369, 372, 373, 376, 377, 379, 380, 381, 382, 384, 386, 387, 390, 391, 395, 397, 398]\n"
     ]
    }
   ],
   "source": [
    "# Assign FIRST outcome to each trial:\n",
    "tmp_trial_events = pymworks.events.display.to_trials(image_events, result_evs, duration_multiplier=1.5, remove_unknown=True)\n",
    "print \"N result events: \", len(result_evs)\n",
    "print \"N trial events: \", len(tmp_trial_events)\n",
    "mismatch = []\n",
    "for idx,(res,tri) in enumerate(zip(result_evs, tmp_trial_events[0:len(result_evs)])):\n",
    "    if not res.name==tri['outcome']:\n",
    "        mismatch.append(idx)\n",
    "print mismatch"
   ]
  },
  {
   "cell_type": "code",
   "execution_count": 68,
   "metadata": {},
   "outputs": [
    {
     "name": "stdout",
     "output_type": "stream",
     "text": [
      "['n_failures_session', 'n_successes_session', 'n_failures_session', 'n_failures_session', 'n_failures_session', 'n_failures_session', 'n_failures_session', 'n_successes_session', 'n_successes_session', 'n_failures_session', 'n_failures_session', 'n_ignores_session', 'n_successes_session', 'n_failures_session', 'n_successes_session', 'n_successes_session', 'n_successes_session', 'n_failures_session', 'n_failures_session', 'n_failures_session']\n",
      "['n_failures_session', 'n_failures_session', 'n_failures_session', 'n_failures_session', 'n_failures_session', 'n_failures_session', 'n_failures_session', 'n_successes_session', 'n_successes_session', 'n_failures_session', 'n_failures_session', 'n_ignores_session', 'n_successes_session', 'n_failures_session', 'n_successes_session', 'n_successes_session', 'n_successes_session', 'n_failures_session', 'n_failures_session', 'n_failures_session']\n"
     ]
    },
    {
     "data": {
      "text/plain": [
       "85425837544"
      ]
     },
     "execution_count": 68,
     "metadata": {},
     "output_type": "execute_result"
    }
   ],
   "source": [
    "print [r.name for r in result_evs[39:59]]\n",
    "print [t['outcome'] for t in tmp_trial_events[39:59]]\n",
    "\n",
    "result_evs[40].time"
   ]
  },
  {
   "cell_type": "code",
   "execution_count": 151,
   "metadata": {},
   "outputs": [
    {
     "name": "stdout",
     "output_type": "stream",
     "text": [
      "N successes:  180\n",
      "N fails:  0\n",
      "N ignores:  34\n"
     ]
    }
   ],
   "source": [
    "# Tally up each outcome type:\n",
    "nsuccess= 0; nfail = 0; nignore = 0;\n",
    "for t in tmp_trial_events:\n",
    "    if 'successes' in t['outcome']:\n",
    "        nsuccess += 1\n",
    "    elif 'fails' in t['outcome']:\n",
    "        nfail += 1\n",
    "    elif 'ignores' in t['outcome']:\n",
    "        nignore += 1\n",
    "\n",
    "print \"N successes: \", nsuccess\n",
    "print \"N fails: \", nfail\n",
    "print \"N ignores: \", nignore"
   ]
  },
  {
   "cell_type": "code",
   "execution_count": 160,
   "metadata": {},
   "outputs": [
    {
     "name": "stdout",
     "output_type": "stream",
     "text": [
      "[  19.030678  109.591028]\n",
      "[]\n",
      "[Event[code=52, name=flag_guarantee_reward, time=85004365418, value=1]]\n"
     ]
    }
   ],
   "source": [
    "# Determine state of training flags:\n",
    "pre_reward = df.get_events('flag_pre_reward')\n",
    "pre_reward = [i for i in pre_reward if i.time>= t_boundary[0] and i.time<=t_boundary[1]]\n",
    "print np.diff([i.time for i in pre_reward])/1E6\n",
    "\n",
    "guarantee_reward = df.get_events('flag_guarantee_reward')\n",
    "guarantee_reward = [i for i in guarantee_reward if i.time>=t_boundary[0] and i.time<=t_boundary[1]]\n",
    "print np.diff([i.time for i in guarantee_reward])/1E6\n",
    "print guarantee_reward"
   ]
  },
  {
   "cell_type": "code",
   "execution_count": null,
   "metadata": {
    "collapsed": true
   },
   "outputs": [],
   "source": []
  }
 ],
 "metadata": {
  "kernelspec": {
   "display_name": "Python 2",
   "language": "python",
   "name": "python2"
  },
  "language_info": {
   "codemirror_mode": {
    "name": "ipython",
    "version": 2
   },
   "file_extension": ".py",
   "mimetype": "text/x-python",
   "name": "python",
   "nbconvert_exporter": "python",
   "pygments_lexer": "ipython2",
   "version": "2.7.13"
  }
 },
 "nbformat": 4,
 "nbformat_minor": 2
}
