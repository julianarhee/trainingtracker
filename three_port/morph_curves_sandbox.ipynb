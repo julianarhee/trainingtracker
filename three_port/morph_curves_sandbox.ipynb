{
 "cells": [
  {
   "cell_type": "code",
   "execution_count": 13,
   "metadata": {},
   "outputs": [],
   "source": [
    "import matplotlib as mpl\n",
    "\n",
    "import os\n",
    "import glob\n",
    "import pandas as pd\n",
    "import numpy as np\n",
    "import pylab as pl\n",
    "import seaborn as sns\n",
    "import cPickle as pkl\n",
    "import matplotlib.colors as mcolors\n",
    "\n",
    "import utils as util\n",
    "import process_datafiles as procd\n",
    "\n",
    "import assign_phase as ph\n",
    "import scipy.stats as spstats\n",
    "\n",
    "from scipy.optimize import curve_fit\n",
    "import scipy"
   ]
  },
  {
   "cell_type": "code",
   "execution_count": 1013,
   "metadata": {
    "scrolled": true
   },
   "outputs": [],
   "source": [
    "import functools\n",
    "import scipy.optimize\n",
    "from scipy.special import erf\n",
    "\n",
    "\n",
    "def mle_fit_psycho(data, p_model='weibull', parstart=None, parmin=None, parmax=None, nfits=5):\n",
    "    \"\"\"\n",
    "    https://github.com/cortex-lab/psychofit/blob/master/psychofit.py\n",
    "    Maximumum likelihood fit of psychometric function.\n",
    "    Args:\n",
    "        data: 3 x n matrix where first row corresponds to stim levels,\n",
    "              the second to number of trials for each stim level (int),\n",
    "              the third to proportion correct / proportion rightward (float between 0 and 1)\n",
    "        p_model: The psychometric function. Possibilities include 'weibull'\n",
    "                 (DEFAULT), 'weibull50', 'erf_psycho' and 'erf_psycho_2gammas'\n",
    "        parstart: Non-zero starting parameters, used to try to avoid local minima.\n",
    "                  The parameters are [threshold, slope, gamma], or if using the\n",
    "                  'erf_psycho_2gammas' model append a second gamma value.\n",
    "                  Recommended to use a value > 1. If None, some reasonable defaults are used.\n",
    "        parmin: Minimum parameter values.  If None, some reasonable defaults are used\n",
    "        parmax: Maximum parameter values.  If None, some reasonable defaults are used\n",
    "        nfits: The number of fits\n",
    "    Returns:\n",
    "        pars: The parameters from the best of the fits\n",
    "        L: The likelihood of the best fit\n",
    "    Raises:\n",
    "        TypeError: data must be a list or numpy array\n",
    "        ValueError: data must be m by 3 matrix\n",
    "    Examples:\n",
    "        Below we fit a Weibull function to some data:\n",
    "        >>> import numpy as np\n",
    "        >>> import matplotlib.pyplot as plt\n",
    "        >>> cc = np.array([-8., -6., -4., -2.,  0.,  2.,  4.,  6.,  8.]) # contrasts\n",
    "        >>> nn = np.full((9,), 10) # number of trials at each contrast\n",
    "        >>> pp = np.array([5., 8., 20., 41., 54., 59., 79., 92., 96])/100 # proportion \"rightward\"\n",
    "        >>> pars, L = mle_fit_psycho(np.vstack((cc, nn, pp)), 'erf_psycho')\n",
    "        >>> plt.plot(cc, pp, 'bo', mfc='b')\n",
    "        >>> plt.plot(np.arange(-8, 8, 0.1), erf_psycho(pars, np.arange(-8, 8, 0.1)), '-b')\n",
    "    Information:\n",
    "        1999-11 FH wrote it\n",
    "        2000-01 MC cleaned it up\n",
    "        2000-04 MC took care of the 50% case\n",
    "        2009-12 MC replaced fmins with fminsearch\n",
    "        2010-02 MC, AZ added nfits\n",
    "        2013-02 MC+MD fixed bug with dealing with NaNs\n",
    "        2018-08 MW ported to Python\n",
    "    \"\"\"\n",
    "    # Input validation\n",
    "    if isinstance(data, (list, tuple)):\n",
    "        data = np.array(data)\n",
    "    elif not isinstance(data, np.ndarray):\n",
    "        raise TypeError('data must be a list or numpy array')\n",
    "\n",
    "    if data.shape[0] != 3:\n",
    "        raise ValueError('data must be m by 3 matrix')\n",
    "        \n",
    "    # parstart = np.array([np.mean(data[0, :]), 0.5, (0.5)])\n",
    "    # parmin = np.array([np.min(data[0, :]), 0.0, (0.)])\n",
    "    # parmax = np.array([np.max(data[0, :]), 10., (0.5)])\n",
    "    \n",
    "    start_gamma = 0.5\n",
    "    min_gamma=0.\n",
    "    max_gamma=1.0\n",
    "    #rep = lambda x: (x, x) if p_model.endswith('2gammas') else (x,)\n",
    "    if parstart is None:\n",
    "        parstart = np.array([np.mean(data[0, :]), 0.5, start_gamma, start_gamma]) if '2gammas' in p_model \\\n",
    "                    else np.array([np.mean(data[0, :]), 0.5, start_gamma])\n",
    "    if parmin is None:\n",
    "        parmin = np.array([np.min(data[0, :]), 0.0, min_gamma, min_gamma]) if '2gammas' in p_model \\\n",
    "                    else np.array([np.min(data[0, :]), 0.0, min_gamma])\n",
    "    if parmax is None:\n",
    "        parmax = np.array([np.max(data[0, :]), 10., max_gamma, max_gamma]) if '2gammas' in p_model \\\n",
    "                    else np.array([np.max(data[0, :]), 10., max_gamma])\n",
    "        \n",
    "    # find the good values in pp (conditions that were effectively run)\n",
    "    ii = np.isfinite(data[2, :])\n",
    "\n",
    "    likelihoods = np.zeros(nfits,)\n",
    "    pars = np.empty((nfits, parstart.size))\n",
    "\n",
    "    f = functools.partial(neg_likelihood, data=data[:, ii],\n",
    "                          p_model=p_model, parmin=parmin, parmax=parmax)\n",
    "    for ifit in range(nfits):\n",
    "        pars[ifit, :] = scipy.optimize.fmin(f, parstart, disp=False)\n",
    "        parstart = parmin + np.random.rand(parmin.size) * (parmax-parmin)\n",
    "        likelihoods[ifit] = -neg_likelihood(pars[ifit, :], data[:, ii], p_model, parmin, parmax)\n",
    "\n",
    "    # the values to be output\n",
    "    L = likelihoods.max()\n",
    "    iBestFit = likelihoods.argmax()\n",
    "    return pars[iBestFit, :], L\n",
    "\n",
    "def neg_likelihood(pars, data, p_model='weibull', parmin=None, parmax=None):\n",
    "    \"\"\"\n",
    "    Negative likelihood of a psychometric function.\n",
    "    Args:\n",
    "        pars: Model parameters [threshold, slope, gamma], or if\n",
    "              using the 'erf_psycho_2gammas' model append a second gamma value.\n",
    "        data: 3 x n matrix where first row corresponds to stim levels,\n",
    "              the second to number of trials for each stim level (int),\n",
    "              the third to proportion correct / proportion rightward (float between 0 and 1)\n",
    "        p_model: The psychometric function. Possibilities include 'weibull'\n",
    "                 (DEFAULT), 'weibull50', 'erf_psycho' and 'erf_psycho_2gammas'\n",
    "        parmin: Minimum bound for parameters.  If None, some reasonable defaults are used\n",
    "        parmax: Maximum bound for parameters.  If None, some reasonable defaults are used\n",
    "    Returns:\n",
    "        l: The likelihood of the parameters.  The equation is:\n",
    "            - sum(nn.*(pp.*log10(p_model)+(1-pp).*log10(1-p_model)))\n",
    "            See the the appendix of Watson, A.B. (1979). Probability\n",
    "            summation over time. Vision Res 19, 515-522.\n",
    "    Raises:\n",
    "        ValueError: invalid model, options are \"weibull\",\n",
    "                    \"weibull50\", \"erf_psycho\" and \"erf_psycho_2gammas\"\n",
    "        TypeError: data must be a list or numpy array\n",
    "        ValueError data must be m by 3 matrix\n",
    "    Information:\n",
    "        1999-11 FH wrote it\n",
    "        2000-01 MC cleaned it up\n",
    "        2000-07 MC made it indep of Weibull and added parmin and parmax\n",
    "        2018-08 MW ported to Python\n",
    "    \"\"\"\n",
    "    # Validate input\n",
    "    if isinstance(data, (list, tuple)):\n",
    "        data = np.array(data)\n",
    "    elif not isinstance(data, np.ndarray):\n",
    "        raise TypeError('data must be a list or numpy array')\n",
    "\n",
    "    if parmin is None:\n",
    "        parmin = np.array([.005, 0., 0.])\n",
    "    if parmax is None:\n",
    "        parmax = np.array([10, 1, .25])\n",
    "\n",
    "    if data.shape[0] == 3:\n",
    "        xx = data[0, :]\n",
    "        nn = data[1, :]\n",
    "        pp = data[2, :]\n",
    "    else:\n",
    "        raise ValueError('data must be m by 3 matrix')\n",
    "\n",
    "    # here is where you effectively put the constraints.\n",
    "    if (any(pars < parmin)) or (any(pars > parmax)):\n",
    "        l = 10000000\n",
    "        return l\n",
    "\n",
    "    dispatcher = {\n",
    "        'weibull': weibull,\n",
    "        'weibull50': weibull50,\n",
    "        'erf_psycho': erf_psycho,\n",
    "        'erf_psycho_2gammas': erf_psycho_2gammas\n",
    "    }\n",
    "    try:\n",
    "        probs = dispatcher[p_model](pars, xx)\n",
    "    except KeyError:\n",
    "        raise ValueError('invalid model, options are \"weibull\", ' +\n",
    "                         '\"weibull50\", \"erf_psycho\" and \"erf_psycho_2gammas\"')\n",
    "\n",
    "    assert (max(probs) <= 1) or (min(probs) >= 0), 'At least one of the probabilities is not ' \\\n",
    "                                                   'between 0 and 1'\n",
    "\n",
    "    probs[probs == 0] = np.finfo(float).eps\n",
    "    probs[probs == 1] = 1 - np.finfo(float).eps\n",
    "\n",
    "    l = - sum(nn * (pp * np.log(probs) + (1 - pp) * np.log(1 - probs)))\n",
    "    return l\n",
    "\n",
    "\n",
    "def weibull(pars, xx):\n",
    "    \"\"\"\n",
    "    Weibull function from 0 to 1, with lapse rate.\n",
    "    Args:\n",
    "        pars: Model parameters [alpha, beta, gamma].\n",
    "        xx: vector of stim levels.\n",
    "    Returns:\n",
    "        A vector of length xx\n",
    "    Raises:\n",
    "        ValueError: pars must be of length 3\n",
    "        TypeError: pars must be list-like or numpy array\n",
    "    Information:\n",
    "        1999-11 FH wrote it\n",
    "        2000-01 MC cleaned it up\n",
    "        2018-08 MW ported to Python\n",
    "    \"\"\"\n",
    "    # Validate input\n",
    "    if not isinstance(pars, (list, tuple, np.ndarray)):\n",
    "        raise TypeError('pars must be list-like or numpy array')\n",
    "\n",
    "    if len(pars) != 3:\n",
    "        raise ValueError('pars must be of length 3')\n",
    "\n",
    "    alpha, beta, gamma = pars\n",
    "    return (1 - gamma) - (1 - 2*gamma) * np.exp(-((xx / alpha)**beta))\n",
    "\n",
    "\n",
    "def weibull50(pars, xx):\n",
    "    \"\"\"\n",
    "    Weibull function from 0.5 to 1, with lapse rate.\n",
    "    Args:\n",
    "        pars: Model parameters [alpha, beta, gamma].\n",
    "        xx: vector of stim levels.\n",
    "    Returns:\n",
    "        A vector of length xx\n",
    "    Raises:\n",
    "        ValueError: pars must be of length 3\n",
    "        TypeError: pars must be list-like or numpy array\n",
    "    Information:\n",
    "        2000-04 MC wrote it\n",
    "        2018-08 MW ported to Python\n",
    "    \"\"\"\n",
    "    # Validate input\n",
    "    if not isinstance(pars, (list, tuple, np.ndarray)):\n",
    "        raise TypeError('pars must be list-like or numpy array')\n",
    "\n",
    "    if len(pars) != 3:\n",
    "        raise ValueError('pars must be of length 3')\n",
    "\n",
    "    alpha, beta, gamma = pars\n",
    "    return (1 - gamma) - (.5 - gamma) * np.exp(-((xx / alpha) ** beta))\n",
    "\n",
    "\n",
    "def erf_psycho(pars, xx):\n",
    "    \"\"\"\n",
    "    erf function from 0 to 1, with lapse rate.\n",
    "    Args:\n",
    "        pars: Model parameters [bias, slope, lapse].\n",
    "        xx: vector of stim levels.\n",
    "    Returns:\n",
    "        ff: A vector of length xx\n",
    "    Examples:\n",
    "        >>> import numpy as np\n",
    "        >>> import matplotlib.pyplot as plt\n",
    "        >>> xx = np.arange(-50, 50)\n",
    "        >>> ff = erf_psycho(np.array([-10., 10., 0.1]), xx)\n",
    "        >>> plt.plot(xx, ff)\n",
    "    Raises:\n",
    "        ValueError: pars must be of length 3\n",
    "        TypeError: pars must be a list or numpy array\n",
    "    Information:\n",
    "        2000    MC wrote it\n",
    "        2018-08 MW ported to Python\n",
    "    \"\"\"\n",
    "    # Validate input\n",
    "    if not isinstance(pars, (list, tuple, np.ndarray)):\n",
    "        raise TypeError('pars must be list-like or numpy array')\n",
    "\n",
    "    if len(pars) != 3:\n",
    "        raise ValueError('pars must be of length 4')\n",
    "\n",
    "    (bias, slope, gamma) = pars\n",
    "    return gamma + (1 - 2 * gamma) * (erf((xx - bias) / slope) + 1) / 2\n",
    "\n",
    "\n",
    "def erf_psycho_2gammas(pars, xx):\n",
    "    \"\"\"\n",
    "    erf function from 0 to 1, with two lapse rates.\n",
    "    Args:\n",
    "        pars: Model parameters [bias, slope, gamma].\n",
    "        xx: vector of stim levels (%)\n",
    "    Returns:\n",
    "        ff: A vector of length xx\n",
    "    Examples:\n",
    "        >>> import numpy as np\n",
    "        >>> import matplotlib.pyplot as plt\n",
    "        >>> xx = np.arange(-50, 50)\n",
    "        >>> ff = erf_psycho_2gammas(np.array([-10., 10., 0.2, 0.]), xx)\n",
    "        >>> plt.plot(xx, ff)\n",
    "    Raises:\n",
    "        ValueError: pars must be of length 4\n",
    "        TypeError: pars must be list-like or numpy array\n",
    "    Information:\n",
    "        2000    MC wrote it\n",
    "        2018-08 MW ported to Python\n",
    "    \"\"\"\n",
    "    # Validate input\n",
    "    if not isinstance(pars, (list, tuple, np.ndarray)):\n",
    "        raise TypeError('pars must be a list-like or numpy array')\n",
    "\n",
    "    if len(pars) != 4:\n",
    "        raise ValueError('pars must be of length 4')\n",
    "\n",
    "    (bias, slope, gamma1, gamma2) = pars\n",
    "    return gamma1 + (1 - gamma1 - gamma2) * (erf((xx - bias) / slope) + 1) / 2\n"
   ]
  },
  {
   "cell_type": "markdown",
   "metadata": {},
   "source": [
    "# Meta info"
   ]
  },
  {
   "cell_type": "code",
   "execution_count": 3,
   "metadata": {},
   "outputs": [
    {
     "name": "stdout",
     "output_type": "stream",
     "text": [
      "Loading existing metadata: /n/coxfs01/behavior-data/threeport/metadata.pkl\n"
     ]
    }
   ],
   "source": [
    "rootdir = '/n/coxfs01/behavior-data'\n",
    "paradigm = 'threeport'\n",
    "\n",
    "processed_dir = os.path.join(rootdir, paradigm, 'processed')\n",
    "metadata = util.get_metadata(paradigm, rootdir=rootdir, filtered=False, create_meta=False)"
   ]
  },
  {
   "cell_type": "markdown",
   "metadata": {},
   "source": [
    "# Experiment "
   ]
  },
  {
   "cell_type": "code",
   "execution_count": 20,
   "metadata": {
    "scrolled": true
   },
   "outputs": [
    {
     "data": {
      "text/plain": [
       "<module 'process_datafiles' from 'process_datafiles.py'>"
      ]
     },
     "execution_count": 20,
     "metadata": {},
     "output_type": "execute_result"
    }
   ],
   "source": [
    "reload(procd)"
   ]
  },
  {
   "cell_type": "code",
   "execution_count": 54,
   "metadata": {},
   "outputs": [
    {
     "name": "stdout",
     "output_type": "stream",
     "text": [
      "('combining data from 2 cohorts:', ['AG', 'AN'])\n",
      "... loading existing df\n",
      "... loading existing df\n",
      "... loading existing df\n",
      "... loading existing df\n",
      "... loading existing df\n",
      "... loading existing df\n",
      "... loading existing df\n",
      "... loading existing df\n",
      "... loading existing df\n",
      "... loading existing df\n",
      "... loading existing df\n",
      "... loading existing df\n",
      "... loading existing df\n",
      "... loading existing df\n",
      "... loading existing df\n",
      "... loading existing df\n",
      "... loading existing df\n",
      "... loading existing df\n",
      "... loading existing df\n",
      "... loading existing df\n"
     ]
    },
    {
     "name": "stderr",
     "output_type": "stream",
     "text": [
      "process_datafiles.py:216: FutureWarning: Sorting because non-concatenation axis is not aligned. A future version\n",
      "of pandas will change to not sort by default.\n",
      "\n",
      "To accept the future behavior, pass 'sort=False'.\n",
      "\n",
      "To retain the current behavior and silence the warning, pass 'sort=True'.\n",
      "\n",
      "  df = pd.concat(dflist, axis=0).reset_index(drop=True)\n"
     ]
    }
   ],
   "source": [
    "#### Get all animals in specified cohorts\n",
    "cohort_list = ['AG', 'AN']\n",
    "# cohort_list = ['AG', 'AJ']\n",
    "excluded_animals = []\n",
    "cohortdf = procd.combine_cohorts_to_dataframe(metadata, cohorts=cohort_list)"
   ]
  },
  {
   "cell_type": "code",
   "execution_count": null,
   "metadata": {},
   "outputs": [],
   "source": []
  },
  {
   "cell_type": "code",
   "execution_count": 55,
   "metadata": {},
   "outputs": [
    {
     "name": "stdout",
     "output_type": "stream",
     "text": [
      "{   -1: 'other',\n",
      "    0: 'always_reward',\n",
      "    1: 'default',\n",
      "    2: 'size',\n",
      "    3: 'depth_rotation',\n",
      "    4: 'cross',\n",
      "    5: 'size_and_depth_rotation',\n",
      "    6: 'depth_and_planar_rotation',\n",
      "    7: 'morph',\n",
      "    8: 'newstimuli',\n",
      "    9: 'fine_grained_size',\n",
      "    10: 'fine_grained_depth_rotation',\n",
      "    11: 'fine_grained_size_and_depth_rotation',\n",
      "    12: 'transparency',\n",
      "    13: 'clutter',\n",
      "    14: 'light_position',\n",
      "    15: 'x_rotation',\n",
      "    16: 'position',\n",
      "    17: 'punishcycle_long',\n",
      "    18: 'punishcycle_short',\n",
      "    19: 'no_min_RT'}\n"
     ]
    }
   ],
   "source": [
    "_ = ph.print_phase_lookup()"
   ]
  },
  {
   "cell_type": "code",
   "execution_count": 56,
   "metadata": {},
   "outputs": [
    {
     "name": "stdout",
     "output_type": "stream",
     "text": [
      "Loading existing metadata: /n/coxfs01/behavior-data/threeport/metadata.pkl\n",
      "... loading phase data...\n",
      "/n/coxfs01/behavior-data/threeport/processed/meta/phases_AG.pkl\n",
      "('Cohort AG: found phases', array([16,  9, 10,  4,  5, 14, 15,  6, -1,  8,  1,  7]))\n",
      "Loading existing metadata: /n/coxfs01/behavior-data/threeport/metadata.pkl\n",
      "... loading phase data...\n",
      "/n/coxfs01/behavior-data/threeport/processed/meta/phases_AN.pkl\n",
      "('Cohort AN: found phases', array([0, 1, 7]))\n"
     ]
    }
   ],
   "source": [
    "#### Select phase to analyze\n",
    "curr_phase = 7\n",
    "\n",
    "#### Get data for current phase\n",
    "df_ = []\n",
    "for cohort in cohort_list: #['AL']:\n",
    "\n",
    "    # Load phase info for cohort\n",
    "    phaseinfo = ph.get_phase_data(cohort, create_new=False)\n",
    "\n",
    "    # Get phase infor for current phase\n",
    "    curr_phaseinfo =  phaseinfo[phaseinfo['phase']==curr_phase]\n",
    "    print('Cohort %s: found phases' % cohort, phaseinfo['phase'].unique())\n",
    "\n",
    "    # Get datafiles for current phase\n",
    "    datafiles_in_phase = [s for s, g in curr_phaseinfo.groupby(['animalid', 'session', 'suffix'])]\n",
    "\n",
    "    # Combine data for phase\n",
    "    dlist = [g for s, g in cohortdf.groupby(['animalid', 'session', 'suffix']) if s in datafiles_in_phase]\n",
    "    \n",
    "    if len(dlist) > 0:\n",
    "        tmpdf = pd.concat(dlist, axis=0).reset_index(drop=True)\n",
    "        tmpdf['cohort'] = [cohort for _ in np.arange(0, len(tmpdf))]\n",
    "        tmpdf['objectid'] = [str(i) for i in tmpdf['object']]\n",
    "        df_.append(tmpdf)\n",
    "\n",
    "df = pd.concat(df_, axis=0).reset_index(drop=True)"
   ]
  },
  {
   "cell_type": "code",
   "execution_count": 57,
   "metadata": {},
   "outputs": [
    {
     "data": {
      "text/plain": [
       "Index([u'animalid', u'cohort', u'depth_rotation', u'duration',\n",
       "       u'light_position', u'name', u'no_feedback', u'object', u'outcome',\n",
       "       u'outcome_time', u'pos_x', u'pos_y', u'response', u'response_time',\n",
       "       u'rotation', u'session', u'sessionid', u'size', u'suffix', u'time',\n",
       "       u'x_rotation', u'objectid'],\n",
       "      dtype='object')"
      ]
     },
     "execution_count": 57,
     "metadata": {},
     "output_type": "execute_result"
    }
   ],
   "source": [
    "df.columns"
   ]
  },
  {
   "cell_type": "code",
   "execution_count": 58,
   "metadata": {},
   "outputs": [
    {
     "name": "stdout",
     "output_type": "stream",
     "text": [
      "depth_rotation: 9\n",
      "light_position: 1\n",
      "pos_x: 1\n",
      "pos_y: 1\n",
      "rotation: 1\n",
      "size: 6\n",
      "x_rotation: 1\n"
     ]
    }
   ],
   "source": [
    "transform_names = ['depth_rotation', 'light_position', 'pos_x', 'pos_y', 'rotation', 'size', 'x_rotation']\n",
    "for t in transform_names:\n",
    "    print('%s: %i' % (t, len(df[t].unique())))"
   ]
  },
  {
   "cell_type": "code",
   "execution_count": 1021,
   "metadata": {},
   "outputs": [
    {
     "data": {
      "text/plain": [
       "array(['morph3', 'Blob_N2_CamRot_y0', 'morph7', 'morph13', 'morph18',\n",
       "       'morph16', 'Blob_N1_CamRot_y0', 'morph2', 'morph8', 'morph20',\n",
       "       'morph15', 'morph4', 'morph19', 'morph1', 'morph17', 'morph9',\n",
       "       'morph6', 'morph14', 'morph10', 'morph12', 'morph5', 'morph11',\n",
       "       'morph0', 'morph6_CamRot_y0', 'morph3_CamRot_y0',\n",
       "       'morph11_CamRot_y0', 'morph16_CamRot_y0', 'morph13_CamRot_y0',\n",
       "       'morph9_CamRot_y0', 'morph19_CamRot_y0'], dtype=object)"
      ]
     },
     "execution_count": 1021,
     "metadata": {},
     "output_type": "execute_result"
    }
   ],
   "source": [
    "df[(df['depth_rotation']==0)]['name'].unique()"
   ]
  },
  {
   "cell_type": "code",
   "execution_count": 1022,
   "metadata": {
    "scrolled": true
   },
   "outputs": [
    {
     "name": "stdout",
     "output_type": "stream",
     "text": [
      "(0, 20)\n",
      "((116025, 23), (70854, 23))\n"
     ]
    }
   ],
   "source": [
    "df['morphlevel'] = [int(n.split('_')[0][5:]) if 'morph' in n else -100 for n in df['name']]\n",
    "\n",
    "morphlevels = sorted(df[df['morphlevel']!=-100]['morphlevel'].unique())\n",
    "min_morph_val, max_morph_val = min(morphlevels), max(morphlevels)\n",
    "print(min_morph_val, max_morph_val)\n",
    "\n",
    "df.loc[df['name']=='Blob_N2_CamRot_y0', 'morphlevel'] = max_morph_val\n",
    "df.loc[df['name']=='Blob_N1_CamRot_y0', 'morphlevel'] = min_morph_val\n",
    "\n",
    "morph_df = df[df['morphlevel']!=-100].copy()\n",
    "print(df.shape, morph_df.shape)"
   ]
  },
  {
   "cell_type": "code",
   "execution_count": 959,
   "metadata": {
    "scrolled": true
   },
   "outputs": [
    {
     "name": "stderr",
     "output_type": "stream",
     "text": [
      "/home/julianarhee/anaconda2/envs/behavior/lib/python2.7/site-packages/ipykernel_launcher.py:14: FutureWarning: Sorting because non-concatenation axis is not aligned. A future version\n",
      "of pandas will change to not sort by default.\n",
      "\n",
      "To accept the future behavior, pass 'sort=False'.\n",
      "\n",
      "To retain the current behavior and silence the warning, pass 'sort=True'.\n",
      "\n",
      "  \n"
     ]
    }
   ],
   "source": [
    "c_=[]\n",
    "for animalid, g in morph_df.groupby(['animalid']):\n",
    "    #g.groupby(['morphlevel'])['response'].value_counts()\n",
    "\n",
    "    trialcounts = pd.DataFrame(g.groupby(['morphlevel'])['duration'].count()\\\n",
    "                          .reset_index()).rename(columns={'duration': 'n_trials'})\n",
    "    responses = g.groupby(['morphlevel'])['response'].value_counts().unstack().reset_index()\n",
    "    outcomes = g.groupby(['morphlevel'])['outcome'].value_counts().unstack().reset_index()\n",
    "    r = responses.merge(outcomes)\n",
    "    curr_counts = trialcounts.merge(r)\n",
    "    \n",
    "    curr_counts['animalid'] = [animalid for _ in np.arange(0, len(curr_counts))]\n",
    "    c_.append(curr_counts)\n",
    "    \n",
    "counts = pd.concat(c_, axis=0)\n"
   ]
  },
  {
   "cell_type": "code",
   "execution_count": 960,
   "metadata": {
    "scrolled": true
   },
   "outputs": [],
   "source": [
    "anchor_counts = df[df['object']!='morph'].groupby(['animalid'])['outcome'].value_counts().unstack().reset_index()\n",
    "anchor_counts['n_trials'] = anchor_counts['failure'] + anchor_counts['success']\n",
    "anchor_counts['accuracy'] = anchor_counts['success']/anchor_counts['n_trials']"
   ]
  },
  {
   "cell_type": "code",
   "execution_count": 961,
   "metadata": {},
   "outputs": [
    {
     "name": "stdout",
     "output_type": "stream",
     "text": [
      "10 of 13 animals pass min crit. 0.70 accuracy on anchors.\n"
     ]
    }
   ],
   "source": [
    "criterion=0.7\n",
    "animalids = anchor_counts['animalid'].unique()\n",
    "pass_animals = anchor_counts[anchor_counts['accuracy']>=criterion]['animalid'].unique()\n",
    "print(\"%i of %i animals pass min crit. %.2f accuracy on anchors.\" % (len(pass_animals), len(animalids), criterion))"
   ]
  },
  {
   "cell_type": "code",
   "execution_count": 962,
   "metadata": {},
   "outputs": [],
   "source": [
    "reverse_mapping = ['AN3', 'AN4', 'AN7']\n",
    "mapping = {0: reverse_mapping,\n",
    "           1: [k for k in df['animalid'].unique() if k not in reverse_mapping]}"
   ]
  },
  {
   "cell_type": "code",
   "execution_count": 966,
   "metadata": {},
   "outputs": [
    {
     "data": {
      "text/plain": [
       "<matplotlib.legend.Legend at 0x7fa34759fc10>"
      ]
     },
     "execution_count": 966,
     "metadata": {},
     "output_type": "execute_result"
    },
    {
     "data": {
      "image/png": "[encoded data removed]",
      "text/plain": [
       "<Figure size 432x288 with 1 Axes>"
      ]
     },
     "metadata": {
      "needs_background": "light"
     },
     "output_type": "display_data"
    }
   ],
   "source": [
    "color0='blue'\n",
    "color1='orange'\n",
    "fig, ax = pl.subplots()\n",
    "for animalid, g in counts.groupby(['animalid']):\n",
    "    if animalid not in pass_animals:\n",
    "        continue\n",
    "        \n",
    "    portname = 'Announce_AcquirePort3' if animalid in mapping[0] else 'Announce_AcquirePort1'\n",
    "\n",
    "    xs = g['morphlevel'].values \n",
    "    ys = g[portname]/g['n_trials']\n",
    "    curr_color = color0 if animalid in mapping[0] else color1\n",
    "        \n",
    "    ax.plot(xs, ys, label=animalid, color=curr_color)\n",
    "ax.legend(bbox_to_anchor=(1.3, 1))\n",
    "\n"
   ]
  },
  {
   "cell_type": "markdown",
   "metadata": {},
   "source": [
    "# Fit"
   ]
  },
  {
   "cell_type": "code",
   "execution_count": 929,
   "metadata": {},
   "outputs": [],
   "source": [
    "# # psychometric function\n",
    "# def pf(x, alpha, beta):\n",
    "#     return 1. / (1 + np.exp( -(x-alpha)/beta ))\n",
    "\n",
    "# def f_weibull(x, alpha, beta, gamma):\n",
    "#     return (1 - gamma) - (1 - 2*gamma) * np.exp(-((x / alpha)**beta))\n",
    "\n",
    "\n",
    "# g =counts[counts['animalid']=='AG10'].copy()\n",
    "# portname = 'Announce_AcquirePort3' if animalid in mapping[0] else 'Announce_AcquirePort1'\n",
    "\n",
    "# xs = g['morphlevel'].values \n",
    "# ys = g[portname]/g['n_trials'].astype(float)\n",
    "# print(xs)\n",
    "\n",
    "# # fitting\n",
    "# par0 = scipy.array([0., 1.]) # use some good starting values, reasonable default is [0., 1.]\n",
    "# par1 = np.array([0.5, 0., 1.0])\n",
    "\n",
    "# par_e, mcov_e = curve_fit(pf, xs, ys, par0)\n",
    "# par_w, mcov_w = curve_fit(f_weibull, xs, ys, par1)\n",
    "\n",
    "# print('Exp:', par_e)\n",
    "# print('Weib:', par_w)\n",
    "\n",
    "# fig, ax = pl.subplots()\n",
    "# ax.plot(xs, ys, 'ko')\n",
    "# ax.plot(xs, pf(xs, par_e[0], par_e[1]), 'r', label='exp')\n",
    "# ax.plot(xs, f_weibull(xs, par_w[0], par_w[1], par_w[2]), 'b', label='weibull')\n",
    "# ax.legend()\n"
   ]
  },
  {
   "cell_type": "code",
   "execution_count": 964,
   "metadata": {},
   "outputs": [
    {
     "data": {
      "text/plain": [
       "{0: ['AN3', 'AN4', 'AN7'],\n",
       " 1: ['AG10', 'AG11', 'AG2', 'AG3', 'AG4', 'AG6', 'AG8', 'AG9', 'AN5', 'AN6']}"
      ]
     },
     "execution_count": 964,
     "metadata": {},
     "output_type": "execute_result"
    }
   ],
   "source": [
    "mapping"
   ]
  },
  {
   "cell_type": "code",
   "execution_count": 986,
   "metadata": {},
   "outputs": [
    {
     "name": "stdout",
     "output_type": "stream",
     "text": [
      "(array([ 0,  1,  2,  3,  4,  5,  6,  7,  8,  9, 10, 11, 12, 13, 14, 15, 16,\n",
      "       17, 18, 19, 20]), array([0.18669528, 0.05882353, 0.04237288, 0.03361345, 0.07627119,\n",
      "       0.05882353, 0.07758621, 0.11764706, 0.1092437 , 0.1322314 ,\n",
      "       0.16101695, 0.26271186, 0.27966102, 0.31666667, 0.35294118,\n",
      "       0.43220339, 0.51282051, 0.54464286, 0.64102564, 0.6440678 ,\n",
      "       0.78027682]))\n"
     ]
    }
   ],
   "source": [
    "animalid='AG4'\n",
    "g = counts[counts['animalid']==animalid]\n",
    "portname = 'Announce_AcquirePort3' if animalid in mapping[0] else 'Announce_AcquirePort1'\n",
    "xs = g['morphlevel'].values #if animalid in mapping[0] else g['morphlevel'].values[::-1]\n",
    "ys = g[portname].values / g['n_trials'].astype(float).values\n",
    "nt = g['n_trials'].values\n",
    "\n",
    "data = np.vstack((xs, nt, ys))\n",
    "print(xs, ys)"
   ]
  },
  {
   "cell_type": "code",
   "execution_count": 1017,
   "metadata": {},
   "outputs": [
    {
     "data": {
      "text/plain": [
       "[<matplotlib.lines.Line2D at 0x7fa3481c7b50>]"
      ]
     },
     "execution_count": 1017,
     "metadata": {},
     "output_type": "execute_result"
    },
    {
     "data": {
      "image/png": "[encoded data removed]",
      "text/plain": [
       "<Figure size 432x288 with 1 Axes>"
      ]
     },
     "metadata": {
      "needs_background": "light"
     },
     "output_type": "display_data"
    }
   ],
   "source": [
    "p_model='erf_psycho_2gammas'\n",
    "nfits=10\n",
    "\n",
    "# [threshold, slope, gamma]\n",
    "\n",
    "if '2gammas' in p_model:\n",
    "    parstart = np.array([np.mean(data[0, :]), 5, 0.5, 0.5])\n",
    "    parmin = np.array([np.min(data[0, :]), 0.0, 0., 0.])\n",
    "    parmax = np.array([np.max(data[0, :]), 10., 1., 1.0])\n",
    "else:\n",
    "    parstart = np.array([np.mean(data[0, :]), 5, 0.5])\n",
    "    parmin = np.array([np.min(data[0, :]), 0.0, 0.])\n",
    "    parmax = np.array([np.max(data[0, :]), 10., 1.])\n",
    "\n",
    "fig, ax = pl.subplots()\n",
    "ax.plot(xs, ys, 'bo', mfc='b')\n",
    "\n",
    "xvs = np.arange(min(xs), max(xs), 0.1)\n",
    "\n",
    "# fit\n",
    "parstart = np.array([np.mean(data[0, :]), 5, 0.5])\n",
    "parmin = np.array([np.min(data[0, :]), 0.0, 0.])\n",
    "parmax = np.array([np.max(data[0, :]), 10., 1.])\n",
    "pars_w, L = mle_fit_psycho(data, p_model='weibull', nfits=10,\n",
    "                         parstart=parstart, parmin=parmin, parmax=parmax)\n",
    "ax.plot(xvs, weibull(pars, xvs), '-b')\n",
    "\n",
    "\n",
    "# fit 2 gamma\n",
    "parstart = np.array([np.mean(data[0, :]), 5, 0.5, 0.5])\n",
    "parmin = np.array([np.min(data[0, :]), 0.0, 0., 0.])\n",
    "parmax = np.array([np.max(data[0, :]), 10., 1., 1.0])\n",
    "pars_e, L = mle_fit_psycho(data, p_model='erf_psycho_2gammas', nfits=10,\n",
    "                         parstart=parstart, parmin=parmin, parmax=parmax)\n",
    "ax.plot(xvs, erf_psycho_2gammas(pars_e, xvs), '-r')"
   ]
  },
  {
   "cell_type": "code",
   "execution_count": null,
   "metadata": {},
   "outputs": [],
   "source": []
  },
  {
   "cell_type": "code",
   "execution_count": 927,
   "metadata": {},
   "outputs": [
    {
     "data": {
      "text/plain": [
       "Index([u'Announce_AcquirePort1', u'Announce_AcquirePort3', u'animalid',\n",
       "       u'failure', u'ignore', u'morphlevel', u'n_trials', u'success'],\n",
       "      dtype='object')"
      ]
     },
     "execution_count": 927,
     "metadata": {},
     "output_type": "execute_result"
    }
   ],
   "source": [
    "counts.columns"
   ]
  },
  {
   "cell_type": "code",
   "execution_count": 1028,
   "metadata": {
    "scrolled": false
   },
   "outputs": [
    {
     "data": {
      "image/png": "[encoded data removed]",
      "text/plain": [
       "<Figure size 1050x600 with 10 Axes>"
      ]
     },
     "metadata": {
      "needs_background": "light"
     },
     "output_type": "display_data"
    }
   ],
   "source": [
    "par0 = sy.array([0., 1.]) # use some good starting values, reasonable default is [0., 1.]\n",
    "par1 = np.array([0.5, 0.5, 0])\n",
    "\n",
    "parstart = np.array([np.mean(data[0, :]), 5, (0.5)])\n",
    "parmin = np.array([np.min(data[0, :]), 0.0, (0.)])\n",
    "parmax = np.array([np.max(data[0, :]), 10., (1.)])\n",
    "\n",
    "i=0\n",
    "d_=[]\n",
    "fig, axn= pl.subplots(2, 5, figsize=(7, 4), sharex=True, sharey=True, dpi=dpi)\n",
    "for ai, (animalid, g) in enumerate(counts[counts['animalid'].isin(pass_animals)].groupby(['animalid'])):\n",
    "    \n",
    "\n",
    "    portname = 'Announce_AcquirePort3' if animalid in mapping[0] else 'Announce_AcquirePort1'\n",
    "    xs = g['morphlevel'].values #if animalid in mapping[0] else g['morphlevel'].values[::-1]\n",
    "    ys = g[portname].values / g['n_trials'].astype(float).values\n",
    "    nt = g['n_trials'].values\n",
    "    data = np.vstack((xs, nt, ys))\n",
    "\n",
    "    curr_color = color0 if animalid in mapping[0] else color1\n",
    "        \n",
    "    # Fit\n",
    "    pars, L = mle_fit_psycho(data, p_model='weibull', nfits=10)\n",
    "    # plot\n",
    "    ax = axn.flat[ai]\n",
    "    ax.plot(xs, ys, 'ko',  markersize=3)\n",
    "    xvs = np.arange(min(xs), max(xs), 0.1)\n",
    "    ax.plot(xvs, weibull(pars, xvs), '-k', label='mle_%s' % p_model)\n",
    "    a, b, g1 = pars\n",
    "    g0 = None\n",
    "    currd = pd.DataFrame({'animalid': animalid, 'alpha': a, 'beta': b, 'gamma': g1, \n",
    "                            'lambda': None, 'model': 'weibull'}, index=[i])\n",
    "    d_.append(currd)\n",
    "    i+=1\n",
    "    \n",
    "    # fit lapse rate\n",
    "    p_model2='erf_psycho_2gammas'\n",
    "    pars_lapse, L = mle_fit_psycho(data, p_model=p_model2, nfits=10)\n",
    "    ax.plot(xvs, erf_psycho_2gammas(pars_lapse, xvs), '-r', label='mle_%s' % p_model2)\n",
    "    a, b, g1, g2 = pars_lapse\n",
    "    currd = pd.DataFrame({'animalid': animalid, 'alpha': a, 'beta': b, 'gamma': g1, \n",
    "                            'lambda': g2, 'model': 'erf2'}, index=[i])\n",
    "    d_.append(currd)\n",
    "    i+=1\n",
    "    \n",
    "    title_str = '%s (m)' % animalid if animalid in mapping[0] else animalid\n",
    "    ax.set_title(title_str, loc='left', fontsize=8)\n",
    "    \n",
    "    ax.axhline(y=0.5, linestyle=':', color='k', linewidth=0.5)\n",
    "    ax.axvline(x=10, linestyle=':', color='k', linewidth=0.5)\n",
    "    \n",
    "pl.subplots_adjust(hspace=0.5, wspace=0.2)\n",
    "\n",
    "fitdf = pd.concat(d_, axis=0)\n"
   ]
  },
  {
   "cell_type": "code",
   "execution_count": 1030,
   "metadata": {
    "scrolled": true
   },
   "outputs": [
    {
     "data": {
      "text/html": [
       "<div>\n",
       "<style scoped>\n",
       "    .dataframe tbody tr th:only-of-type {\n",
       "        vertical-align: middle;\n",
       "    }\n",
       "\n",
       "    .dataframe tbody tr th {\n",
       "        vertical-align: top;\n",
       "    }\n",
       "\n",
       "    .dataframe thead th {\n",
       "        text-align: right;\n",
       "    }\n",
       "</style>\n",
       "<table border=\"1\" class=\"dataframe\">\n",
       "  <thead>\n",
       "    <tr style=\"text-align: right;\">\n",
       "      <th></th>\n",
       "      <th>alpha</th>\n",
       "      <th>animalid</th>\n",
       "      <th>beta</th>\n",
       "      <th>gamma</th>\n",
       "      <th>lambda</th>\n",
       "      <th>model</th>\n",
       "    </tr>\n",
       "  </thead>\n",
       "  <tbody>\n",
       "    <tr>\n",
       "      <th>1</th>\n",
       "      <td>16.549755</td>\n",
       "      <td>AG10</td>\n",
       "      <td>5.435494</td>\n",
       "      <td>0.292225</td>\n",
       "      <td>0.0633871</td>\n",
       "      <td>erf2</td>\n",
       "    </tr>\n",
       "    <tr>\n",
       "      <th>3</th>\n",
       "      <td>12.892613</td>\n",
       "      <td>AG2</td>\n",
       "      <td>3.538153</td>\n",
       "      <td>0.060251</td>\n",
       "      <td>0.174053</td>\n",
       "      <td>erf2</td>\n",
       "    </tr>\n",
       "    <tr>\n",
       "      <th>5</th>\n",
       "      <td>16.275371</td>\n",
       "      <td>AG4</td>\n",
       "      <td>6.249233</td>\n",
       "      <td>0.110197</td>\n",
       "      <td>0.0667259</td>\n",
       "      <td>erf2</td>\n",
       "    </tr>\n",
       "    <tr>\n",
       "      <th>7</th>\n",
       "      <td>18.205986</td>\n",
       "      <td>AG6</td>\n",
       "      <td>6.146448</td>\n",
       "      <td>0.198756</td>\n",
       "      <td>6.08673e-10</td>\n",
       "      <td>erf2</td>\n",
       "    </tr>\n",
       "    <tr>\n",
       "      <th>9</th>\n",
       "      <td>15.994950</td>\n",
       "      <td>AG8</td>\n",
       "      <td>4.417658</td>\n",
       "      <td>0.171878</td>\n",
       "      <td>4.0551e-09</td>\n",
       "      <td>erf2</td>\n",
       "    </tr>\n",
       "    <tr>\n",
       "      <th>11</th>\n",
       "      <td>16.604689</td>\n",
       "      <td>AG9</td>\n",
       "      <td>6.266832</td>\n",
       "      <td>0.348046</td>\n",
       "      <td>6.14277e-10</td>\n",
       "      <td>erf2</td>\n",
       "    </tr>\n",
       "    <tr>\n",
       "      <th>13</th>\n",
       "      <td>9.144987</td>\n",
       "      <td>AN4</td>\n",
       "      <td>6.711895</td>\n",
       "      <td>0.166765</td>\n",
       "      <td>0.0320639</td>\n",
       "      <td>erf2</td>\n",
       "    </tr>\n",
       "    <tr>\n",
       "      <th>15</th>\n",
       "      <td>12.961648</td>\n",
       "      <td>AN5</td>\n",
       "      <td>8.795720</td>\n",
       "      <td>0.145791</td>\n",
       "      <td>4.64898e-09</td>\n",
       "      <td>erf2</td>\n",
       "    </tr>\n",
       "    <tr>\n",
       "      <th>17</th>\n",
       "      <td>8.540007</td>\n",
       "      <td>AN6</td>\n",
       "      <td>8.078379</td>\n",
       "      <td>0.082671</td>\n",
       "      <td>0.0540554</td>\n",
       "      <td>erf2</td>\n",
       "    </tr>\n",
       "    <tr>\n",
       "      <th>19</th>\n",
       "      <td>10.620185</td>\n",
       "      <td>AN7</td>\n",
       "      <td>6.281241</td>\n",
       "      <td>0.024616</td>\n",
       "      <td>0.0401467</td>\n",
       "      <td>erf2</td>\n",
       "    </tr>\n",
       "  </tbody>\n",
       "</table>\n",
       "</div>"
      ],
      "text/plain": [
       "        alpha animalid      beta     gamma       lambda model\n",
       "1   16.549755     AG10  5.435494  0.292225    0.0633871  erf2\n",
       "3   12.892613      AG2  3.538153  0.060251     0.174053  erf2\n",
       "5   16.275371      AG4  6.249233  0.110197    0.0667259  erf2\n",
       "7   18.205986      AG6  6.146448  0.198756  6.08673e-10  erf2\n",
       "9   15.994950      AG8  4.417658  0.171878   4.0551e-09  erf2\n",
       "11  16.604689      AG9  6.266832  0.348046  6.14277e-10  erf2\n",
       "13   9.144987      AN4  6.711895  0.166765    0.0320639  erf2\n",
       "15  12.961648      AN5  8.795720  0.145791  4.64898e-09  erf2\n",
       "17   8.540007      AN6  8.078379  0.082671    0.0540554  erf2\n",
       "19  10.620185      AN7  6.281241  0.024616    0.0401467  erf2"
      ]
     },
     "execution_count": 1030,
     "metadata": {},
     "output_type": "execute_result"
    }
   ],
   "source": [
    "fitdf[fitdf['model']=='erf2']"
   ]
  },
  {
   "cell_type": "code",
   "execution_count": 1047,
   "metadata": {},
   "outputs": [
    {
     "data": {
      "image/png": "[encoded data removed]",
      "text/plain": [
       "<Figure size 1050x600 with 4 Axes>"
      ]
     },
     "metadata": {
      "needs_background": "light"
     },
     "output_type": "display_data"
    }
   ],
   "source": [
    "fit_params = ['alpha', 'beta', 'gamma', 'lambda']\n",
    "# alpha=shift, beta=slope; gamma\n",
    "fig, axn = pl.subplots(1,len(fit_params), figsize=(7,4), dpi=dpi)\n",
    "\n",
    "for ax, param in zip(axn.flat, fit_params):\n",
    "    sns.stripplot(x='model', y=param, data=fitdf, ax=ax)\n",
    "    sns.barplot(x='model', y=param, data=fitdf, ax=ax, facecolor='none', edgecolor='k')\n",
    "\n",
    "pl.subplots_adjust(wspace=0.8, bottom=0.2, top=0.8, left=0.1, right=0.95)"
   ]
  },
  {
   "cell_type": "code",
   "execution_count": 1049,
   "metadata": {},
   "outputs": [
    {
     "ename": "ImportError",
     "evalue": "No module named pypsignifit",
     "output_type": "error",
     "traceback": [
      "\u001b[0;31m---------------------------------------------------------------------------\u001b[0m",
      "\u001b[0;31mImportError\u001b[0m                               Traceback (most recent call last)",
      "\u001b[0;32m<ipython-input-1049-6b4cdd657d6d>\u001b[0m in \u001b[0;36m<module>\u001b[0;34m()\u001b[0m\n\u001b[0;32m----> 1\u001b[0;31m \u001b[0;32mimport\u001b[0m \u001b[0mpypsignifit\u001b[0m\u001b[0;34m\u001b[0m\u001b[0m\n\u001b[0m",
      "\u001b[0;31mImportError\u001b[0m: No module named pypsignifit"
     ]
    }
   ],
   "source": [
    "import pypsignifit"
   ]
  },
  {
   "cell_type": "code",
   "execution_count": 1019,
   "metadata": {},
   "outputs": [
    {
     "data": {
      "text/plain": [
       "array([12.22392438,  2.64829025,  0.03269549])"
      ]
     },
     "execution_count": 1019,
     "metadata": {},
     "output_type": "execute_result"
    }
   ],
   "source": [
    "pars"
   ]
  },
  {
   "cell_type": "code",
   "execution_count": 1020,
   "metadata": {},
   "outputs": [
    {
     "data": {
      "text/plain": [
       "array([10.62021678,  6.28123488,  0.02461616,  0.04014654])"
      ]
     },
     "execution_count": 1020,
     "metadata": {},
     "output_type": "execute_result"
    }
   ],
   "source": [
    "pars_lapse"
   ]
  },
  {
   "cell_type": "code",
   "execution_count": null,
   "metadata": {},
   "outputs": [],
   "source": []
  },
  {
   "cell_type": "code",
   "execution_count": 218,
   "metadata": {
    "scrolled": true
   },
   "outputs": [
    {
     "data": {
      "text/plain": [
       "animalid  response             \n",
       "AG10      Announce_AcquirePort1    3124\n",
       "AG11      Announce_AcquirePort1    3011\n",
       "AG2       Announce_AcquirePort1    2956\n",
       "AG3       Announce_AcquirePort1    1446\n",
       "AG4       Announce_AcquirePort1    2759\n",
       "AG6       Announce_AcquirePort1    3246\n",
       "AG8       Announce_AcquirePort1    4129\n",
       "AG9       Announce_AcquirePort1    3390\n",
       "AN3       Announce_AcquirePort3     841\n",
       "AN4       Announce_AcquirePort3    2449\n",
       "AN5       Announce_AcquirePort1    2835\n",
       "AN6       Announce_AcquirePort1    2298\n",
       "AN7       Announce_AcquirePort3    3443\n",
       "Name: response, dtype: int64"
      ]
     },
     "execution_count": 218,
     "metadata": {},
     "output_type": "execute_result"
    }
   ],
   "source": [
    "df[(df['object']=='2') & (df['outcome']=='success')].groupby(['animalid'])['response'].value_counts()"
   ]
  },
  {
   "cell_type": "code",
   "execution_count": 835,
   "metadata": {},
   "outputs": [
    {
     "data": {
      "text/plain": [
       "animalid  response             \n",
       "AG10      Announce_AcquirePort1    3124\n",
       "AG11      Announce_AcquirePort1    3011\n",
       "AG2       Announce_AcquirePort1    2956\n",
       "AG3       Announce_AcquirePort1    1446\n",
       "AG4       Announce_AcquirePort1    2759\n",
       "AG6       Announce_AcquirePort1    3246\n",
       "AG8       Announce_AcquirePort1    4129\n",
       "AG9       Announce_AcquirePort1    3390\n",
       "AN3       Announce_AcquirePort3     841\n",
       "AN4       Announce_AcquirePort3    2449\n",
       "AN5       Announce_AcquirePort1    2835\n",
       "AN6       Announce_AcquirePort1    2298\n",
       "AN7       Announce_AcquirePort3    3443\n",
       "Name: response, dtype: int64"
      ]
     },
     "execution_count": 835,
     "metadata": {},
     "output_type": "execute_result"
    }
   ],
   "source": [
    "\n",
    "df[(df['object']=='2') & (df['outcome']=='success')].groupby(['animalid'])['response'].value_counts()"
   ]
  },
  {
   "cell_type": "code",
   "execution_count": null,
   "metadata": {},
   "outputs": [],
   "source": []
  },
  {
   "cell_type": "code",
   "execution_count": 624,
   "metadata": {},
   "outputs": [
    {
     "data": {
      "text/plain": [
       "animalid  response             \n",
       "AG10      Announce_AcquirePort1     848\n",
       "AG11      Announce_AcquirePort1    1810\n",
       "AG2       Announce_AcquirePort1     565\n",
       "AG3       Announce_AcquirePort1    1179\n",
       "AG4       Announce_AcquirePort1     692\n",
       "AG6       Announce_AcquirePort1    1492\n",
       "AG8       Announce_AcquirePort1    1535\n",
       "AG9       Announce_AcquirePort1    1407\n",
       "AN3       Announce_AcquirePort3     231\n",
       "AN4       Announce_AcquirePort3     500\n",
       "AN5       Announce_AcquirePort1     516\n",
       "AN6       Announce_AcquirePort1     355\n",
       "AN7       Announce_AcquirePort3     116\n",
       "Name: response, dtype: int64"
      ]
     },
     "execution_count": 624,
     "metadata": {},
     "output_type": "execute_result"
    }
   ],
   "source": [
    "df[(df['object']=='1') & (df['outcome']=='failure')].groupby(['animalid'])['response'].value_counts()"
   ]
  },
  {
   "cell_type": "code",
   "execution_count": null,
   "metadata": {},
   "outputs": [],
   "source": []
  }
 ],
 "metadata": {
  "kernelspec": {
   "display_name": "Python 2",
   "language": "python",
   "name": "python2"
  },
  "language_info": {
   "codemirror_mode": {
    "name": "ipython",
    "version": 2
   },
   "file_extension": ".py",
   "mimetype": "text/x-python",
   "name": "python",
   "nbconvert_exporter": "python",
   "pygments_lexer": "ipython2",
   "version": "2.7.15"
  }
 },
 "nbformat": 4,
 "nbformat_minor": 2
}
