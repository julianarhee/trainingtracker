{
 "cells": [
  {
   "cell_type": "code",
   "execution_count": 1,
   "metadata": {
    "collapsed": false
   },
   "outputs": [
    {
     "data": {
      "text/plain": [
       "u'/home/juliana/Repositories/trainingtracker/three_port'"
      ]
     },
     "execution_count": 1,
     "metadata": {},
     "output_type": "execute_result"
    }
   ],
   "source": [
    "pwd"
   ]
  },
  {
   "cell_type": "code",
   "execution_count": 2,
   "metadata": {
    "collapsed": false
   },
   "outputs": [
    {
     "name": "stderr",
     "output_type": "stream",
     "text": [
      "/home/juliana/anaconda/envs/jnb/lib/python2.7/site-packages/pymworks/protocol/__init__.py:15: UserWarning: networkx is required for pymworks.protocols.states\n",
      "  warnings.warn('networkx is required for pymworks.protocols.states')\n"
     ]
    }
   ],
   "source": [
    "import os\n",
    "import multiprocessing\n",
    "import datetime\n",
    "import pymworks\n",
    "import matplotlib.pyplot as plt\n",
    "\n",
    "import sys\n",
    "import cPickle as pkl"
   ]
  },
  {
   "cell_type": "code",
   "execution_count": 3,
   "metadata": {
    "collapsed": true
   },
   "outputs": [],
   "source": [
    "def get_animals_and_their_session_filenames(path, append_data=True):\n",
    "    '''\n",
    "    Returns a dict with animal names as keys (it gets their names from the\n",
    "        folder names in 'input' folder--each animal should have its own\n",
    "        folder with .mwk session files) and a list of .mwk filename strings as\n",
    "        values.\n",
    "            e.g. {'V1': ['V1_20140501.mwk', 'V1_20140502.mwk']}\n",
    "\n",
    "    :param path: a string of the directory name containing animals' folders\n",
    "    '''\n",
    "    \n",
    "    # Check if experiment has been analyzed before, and load file list if so:\n",
    "    if append_data is True: # Just append new data files for analysis (or, analyze fresh)\n",
    "        fname = os.path.join(out_dir, 'animals_session.pkl')\n",
    "        if os.path.isfile(fname):\n",
    "            with open(fname, 'rb') as f:\n",
    "                result = pkl.load(f)\n",
    "        else:\n",
    "            result = {} # otherwise, create new animal-session file\n",
    "    else:\n",
    "        result = {} # do a fresh analysis with all the data, not just the new files\n",
    "\n",
    "    new_data = {} # either way, set up a to-be-added dict for any new files\n",
    "\n",
    "    dirs_list = [each for each in os.walk(path)]\n",
    "    for each in dirs_list[1:]:\n",
    "        files_list = each[2]\n",
    "        animal_name = each[0].split(\"/\")[len(each[0].split(\"/\")) - 1]\n",
    "\n",
    "        if animal_name not in result.keys():\n",
    "            result[animal_name] = []\n",
    "            # new_data[animal_name] = []\n",
    "        new_data[animal_name] = []\n",
    "        # Only grab new files:\n",
    "        for filename in files_list:\n",
    "            if not filename.startswith('.') and filename not in result[animal_name]: #dont want hidden files\n",
    "                result[animal_name].append(filename)\n",
    "                new_data[animal_name].append(filename)\n",
    "\n",
    "    # print(\"Starting analysis for animals:\")\n",
    "    # for each in result.keys():\n",
    "    #     print(each)\n",
    "    print(\"Starting analysis for animals:\")\n",
    "    for each in new_data.keys():\n",
    "        print(each)\n",
    "\n",
    "    # save animal-session info so that next time, only new sessions are analyzed:\n",
    "    # fname = os.path.join(out_dir, 'animals_session.pkl')\n",
    "    with open(fname, 'wb') as f:\n",
    "        pkl.dump(result, f, protocol=pkl.HIGHEST_PROTOCOL) #protocol=pkl.HIGHEST_PROTOCOL) \n",
    "\n",
    "    return new_data"
   ]
  },
  {
   "cell_type": "code",
   "execution_count": null,
   "metadata": {
    "collapsed": true
   },
   "outputs": [],
   "source": []
  }
 ],
 "metadata": {
  "kernelspec": {
   "display_name": "Python 2",
   "language": "python",
   "name": "python2"
  },
  "language_info": {
   "codemirror_mode": {
    "name": "ipython",
    "version": 2
   },
   "file_extension": ".py",
   "mimetype": "text/x-python",
   "name": "python",
   "nbconvert_exporter": "python",
   "pygments_lexer": "ipython2",
   "version": "2.7.11"
  }
 },
 "nbformat": 4,
 "nbformat_minor": 0
}
