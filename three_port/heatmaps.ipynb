{
 "cells": [
  {
   "cell_type": "code",
   "execution_count": 15,
   "metadata": {},
   "outputs": [],
   "source": [
    "import os\n",
    "import glob\n",
    "import pandas as pd\n",
    "import numpy as np\n",
    "import pylab as pl\n",
    "import seaborn as sns\n",
    "import cPickle as pkl\n",
    "import matplotlib.colors as mcolors"
   ]
  },
  {
   "cell_type": "code",
   "execution_count": 16,
   "metadata": {
    "scrolled": true
   },
   "outputs": [
    {
     "name": "stderr",
     "output_type": "stream",
     "text": [
      "process_datafiles.py:4: UserWarning: \n",
      "This call to matplotlib.use() has no effect because the backend has already\n",
      "been chosen; matplotlib.use() must be called *before* pylab, matplotlib.pyplot,\n",
      "or matplotlib.backends is imported for the first time.\n",
      "\n",
      "The backend was *originally* set to 'module://ipykernel.pylab.backend_inline' by the following code:\n",
      "  File \"/home/julianarhee/anaconda2/envs/behavior/lib/python2.7/runpy.py\", line 174, in _run_module_as_main\n",
      "    \"__main__\", fname, loader, pkg_name)\n",
      "  File \"/home/julianarhee/anaconda2/envs/behavior/lib/python2.7/runpy.py\", line 72, in _run_code\n",
      "    exec code in run_globals\n",
      "  File \"/home/julianarhee/anaconda2/envs/behavior/lib/python2.7/site-packages/ipykernel_launcher.py\", line 16, in <module>\n",
      "    app.launch_new_instance()\n",
      "  File \"/home/julianarhee/anaconda2/envs/behavior/lib/python2.7/site-packages/traitlets/config/application.py\", line 658, in launch_instance\n",
      "    app.start()\n",
      "  File \"/home/julianarhee/anaconda2/envs/behavior/lib/python2.7/site-packages/ipykernel/kernelapp.py\", line 499, in start\n",
      "    self.io_loop.start()\n",
      "  File \"/home/julianarhee/anaconda2/envs/behavior/lib/python2.7/site-packages/tornado/ioloop.py\", line 1073, in start\n",
      "    handler_func(fd_obj, events)\n",
      "  File \"/home/julianarhee/anaconda2/envs/behavior/lib/python2.7/site-packages/tornado/stack_context.py\", line 300, in null_wrapper\n",
      "    return fn(*args, **kwargs)\n",
      "  File \"/home/julianarhee/anaconda2/envs/behavior/lib/python2.7/site-packages/zmq/eventloop/zmqstream.py\", line 450, in _handle_events\n",
      "    self._handle_recv()\n",
      "  File \"/home/julianarhee/anaconda2/envs/behavior/lib/python2.7/site-packages/zmq/eventloop/zmqstream.py\", line 480, in _handle_recv\n",
      "    self._run_callback(callback, msg)\n",
      "  File \"/home/julianarhee/anaconda2/envs/behavior/lib/python2.7/site-packages/zmq/eventloop/zmqstream.py\", line 432, in _run_callback\n",
      "    callback(*args, **kwargs)\n",
      "  File \"/home/julianarhee/anaconda2/envs/behavior/lib/python2.7/site-packages/tornado/stack_context.py\", line 300, in null_wrapper\n",
      "    return fn(*args, **kwargs)\n",
      "  File \"/home/julianarhee/anaconda2/envs/behavior/lib/python2.7/site-packages/ipykernel/kernelbase.py\", line 283, in dispatcher\n",
      "    return self.dispatch_shell(stream, msg)\n",
      "  File \"/home/julianarhee/anaconda2/envs/behavior/lib/python2.7/site-packages/ipykernel/kernelbase.py\", line 233, in dispatch_shell\n",
      "    handler(stream, idents, msg)\n",
      "  File \"/home/julianarhee/anaconda2/envs/behavior/lib/python2.7/site-packages/ipykernel/kernelbase.py\", line 399, in execute_request\n",
      "    user_expressions, allow_stdin)\n",
      "  File \"/home/julianarhee/anaconda2/envs/behavior/lib/python2.7/site-packages/ipykernel/ipkernel.py\", line 208, in do_execute\n",
      "    res = shell.run_cell(code, store_history=store_history, silent=silent)\n",
      "  File \"/home/julianarhee/anaconda2/envs/behavior/lib/python2.7/site-packages/ipykernel/zmqshell.py\", line 537, in run_cell\n",
      "    return super(ZMQInteractiveShell, self).run_cell(*args, **kwargs)\n",
      "  File \"/home/julianarhee/anaconda2/envs/behavior/lib/python2.7/site-packages/IPython/core/interactiveshell.py\", line 2724, in run_cell\n",
      "    self.events.trigger('post_run_cell')\n",
      "  File \"/home/julianarhee/anaconda2/envs/behavior/lib/python2.7/site-packages/IPython/core/events.py\", line 74, in trigger\n",
      "    func(*args, **kwargs)\n",
      "  File \"/home/julianarhee/anaconda2/envs/behavior/lib/python2.7/site-packages/ipykernel/pylab/backend_inline.py\", line 164, in configure_once\n",
      "    activate_matplotlib(backend)\n",
      "  File \"/home/julianarhee/anaconda2/envs/behavior/lib/python2.7/site-packages/IPython/core/pylabtools.py\", line 315, in activate_matplotlib\n",
      "    matplotlib.pyplot.switch_backend(backend)\n",
      "  File \"/home/julianarhee/anaconda2/envs/behavior/lib/python2.7/site-packages/matplotlib/pyplot.py\", line 231, in switch_backend\n",
      "    matplotlib.use(newbackend, warn=False, force=True)\n",
      "  File \"/home/julianarhee/anaconda2/envs/behavior/lib/python2.7/site-packages/matplotlib/__init__.py\", line 1422, in use\n",
      "    reload(sys.modules['matplotlib.backends'])\n",
      "  File \"/home/julianarhee/anaconda2/envs/behavior/lib/python2.7/site-packages/matplotlib/backends/__init__.py\", line 16, in <module>\n",
      "    line for line in traceback.format_stack()\n",
      "\n",
      "\n",
      "  mpl.use('agg')\n"
     ]
    }
   ],
   "source": [
    "import utils as util\n",
    "import process_datafiles as procd"
   ]
  },
  {
   "cell_type": "code",
   "execution_count": 17,
   "metadata": {
    "scrolled": true
   },
   "outputs": [
    {
     "name": "stderr",
     "output_type": "stream",
     "text": [
      "utils.py:4: UserWarning: \n",
      "This call to matplotlib.use() has no effect because the backend has already\n",
      "been chosen; matplotlib.use() must be called *before* pylab, matplotlib.pyplot,\n",
      "or matplotlib.backends is imported for the first time.\n",
      "\n",
      "The backend was *originally* set to 'module://ipykernel.pylab.backend_inline' by the following code:\n",
      "  File \"/home/julianarhee/anaconda2/envs/behavior/lib/python2.7/runpy.py\", line 174, in _run_module_as_main\n",
      "    \"__main__\", fname, loader, pkg_name)\n",
      "  File \"/home/julianarhee/anaconda2/envs/behavior/lib/python2.7/runpy.py\", line 72, in _run_code\n",
      "    exec code in run_globals\n",
      "  File \"/home/julianarhee/anaconda2/envs/behavior/lib/python2.7/site-packages/ipykernel_launcher.py\", line 16, in <module>\n",
      "    app.launch_new_instance()\n",
      "  File \"/home/julianarhee/anaconda2/envs/behavior/lib/python2.7/site-packages/traitlets/config/application.py\", line 658, in launch_instance\n",
      "    app.start()\n",
      "  File \"/home/julianarhee/anaconda2/envs/behavior/lib/python2.7/site-packages/ipykernel/kernelapp.py\", line 499, in start\n",
      "    self.io_loop.start()\n",
      "  File \"/home/julianarhee/anaconda2/envs/behavior/lib/python2.7/site-packages/tornado/ioloop.py\", line 1073, in start\n",
      "    handler_func(fd_obj, events)\n",
      "  File \"/home/julianarhee/anaconda2/envs/behavior/lib/python2.7/site-packages/tornado/stack_context.py\", line 300, in null_wrapper\n",
      "    return fn(*args, **kwargs)\n",
      "  File \"/home/julianarhee/anaconda2/envs/behavior/lib/python2.7/site-packages/zmq/eventloop/zmqstream.py\", line 450, in _handle_events\n",
      "    self._handle_recv()\n",
      "  File \"/home/julianarhee/anaconda2/envs/behavior/lib/python2.7/site-packages/zmq/eventloop/zmqstream.py\", line 480, in _handle_recv\n",
      "    self._run_callback(callback, msg)\n",
      "  File \"/home/julianarhee/anaconda2/envs/behavior/lib/python2.7/site-packages/zmq/eventloop/zmqstream.py\", line 432, in _run_callback\n",
      "    callback(*args, **kwargs)\n",
      "  File \"/home/julianarhee/anaconda2/envs/behavior/lib/python2.7/site-packages/tornado/stack_context.py\", line 300, in null_wrapper\n",
      "    return fn(*args, **kwargs)\n",
      "  File \"/home/julianarhee/anaconda2/envs/behavior/lib/python2.7/site-packages/ipykernel/kernelbase.py\", line 283, in dispatcher\n",
      "    return self.dispatch_shell(stream, msg)\n",
      "  File \"/home/julianarhee/anaconda2/envs/behavior/lib/python2.7/site-packages/ipykernel/kernelbase.py\", line 233, in dispatch_shell\n",
      "    handler(stream, idents, msg)\n",
      "  File \"/home/julianarhee/anaconda2/envs/behavior/lib/python2.7/site-packages/ipykernel/kernelbase.py\", line 399, in execute_request\n",
      "    user_expressions, allow_stdin)\n",
      "  File \"/home/julianarhee/anaconda2/envs/behavior/lib/python2.7/site-packages/ipykernel/ipkernel.py\", line 208, in do_execute\n",
      "    res = shell.run_cell(code, store_history=store_history, silent=silent)\n",
      "  File \"/home/julianarhee/anaconda2/envs/behavior/lib/python2.7/site-packages/ipykernel/zmqshell.py\", line 537, in run_cell\n",
      "    return super(ZMQInteractiveShell, self).run_cell(*args, **kwargs)\n",
      "  File \"/home/julianarhee/anaconda2/envs/behavior/lib/python2.7/site-packages/IPython/core/interactiveshell.py\", line 2724, in run_cell\n",
      "    self.events.trigger('post_run_cell')\n",
      "  File \"/home/julianarhee/anaconda2/envs/behavior/lib/python2.7/site-packages/IPython/core/events.py\", line 74, in trigger\n",
      "    func(*args, **kwargs)\n",
      "  File \"/home/julianarhee/anaconda2/envs/behavior/lib/python2.7/site-packages/ipykernel/pylab/backend_inline.py\", line 164, in configure_once\n",
      "    activate_matplotlib(backend)\n",
      "  File \"/home/julianarhee/anaconda2/envs/behavior/lib/python2.7/site-packages/IPython/core/pylabtools.py\", line 315, in activate_matplotlib\n",
      "    matplotlib.pyplot.switch_backend(backend)\n",
      "  File \"/home/julianarhee/anaconda2/envs/behavior/lib/python2.7/site-packages/matplotlib/pyplot.py\", line 231, in switch_backend\n",
      "    matplotlib.use(newbackend, warn=False, force=True)\n",
      "  File \"/home/julianarhee/anaconda2/envs/behavior/lib/python2.7/site-packages/matplotlib/__init__.py\", line 1422, in use\n",
      "    reload(sys.modules['matplotlib.backends'])\n",
      "  File \"/home/julianarhee/anaconda2/envs/behavior/lib/python2.7/site-packages/matplotlib/backends/__init__.py\", line 16, in <module>\n",
      "    line for line in traceback.format_stack()\n",
      "\n",
      "\n",
      "  mpl.use('agg')\n",
      "process_datafiles.py:4: UserWarning: \n",
      "This call to matplotlib.use() has no effect because the backend has already\n",
      "been chosen; matplotlib.use() must be called *before* pylab, matplotlib.pyplot,\n",
      "or matplotlib.backends is imported for the first time.\n",
      "\n",
      "The backend was *originally* set to 'module://ipykernel.pylab.backend_inline' by the following code:\n",
      "  File \"/home/julianarhee/anaconda2/envs/behavior/lib/python2.7/runpy.py\", line 174, in _run_module_as_main\n",
      "    \"__main__\", fname, loader, pkg_name)\n",
      "  File \"/home/julianarhee/anaconda2/envs/behavior/lib/python2.7/runpy.py\", line 72, in _run_code\n",
      "    exec code in run_globals\n",
      "  File \"/home/julianarhee/anaconda2/envs/behavior/lib/python2.7/site-packages/ipykernel_launcher.py\", line 16, in <module>\n",
      "    app.launch_new_instance()\n",
      "  File \"/home/julianarhee/anaconda2/envs/behavior/lib/python2.7/site-packages/traitlets/config/application.py\", line 658, in launch_instance\n",
      "    app.start()\n",
      "  File \"/home/julianarhee/anaconda2/envs/behavior/lib/python2.7/site-packages/ipykernel/kernelapp.py\", line 499, in start\n",
      "    self.io_loop.start()\n",
      "  File \"/home/julianarhee/anaconda2/envs/behavior/lib/python2.7/site-packages/tornado/ioloop.py\", line 1073, in start\n",
      "    handler_func(fd_obj, events)\n",
      "  File \"/home/julianarhee/anaconda2/envs/behavior/lib/python2.7/site-packages/tornado/stack_context.py\", line 300, in null_wrapper\n",
      "    return fn(*args, **kwargs)\n",
      "  File \"/home/julianarhee/anaconda2/envs/behavior/lib/python2.7/site-packages/zmq/eventloop/zmqstream.py\", line 450, in _handle_events\n",
      "    self._handle_recv()\n",
      "  File \"/home/julianarhee/anaconda2/envs/behavior/lib/python2.7/site-packages/zmq/eventloop/zmqstream.py\", line 480, in _handle_recv\n",
      "    self._run_callback(callback, msg)\n",
      "  File \"/home/julianarhee/anaconda2/envs/behavior/lib/python2.7/site-packages/zmq/eventloop/zmqstream.py\", line 432, in _run_callback\n",
      "    callback(*args, **kwargs)\n",
      "  File \"/home/julianarhee/anaconda2/envs/behavior/lib/python2.7/site-packages/tornado/stack_context.py\", line 300, in null_wrapper\n",
      "    return fn(*args, **kwargs)\n",
      "  File \"/home/julianarhee/anaconda2/envs/behavior/lib/python2.7/site-packages/ipykernel/kernelbase.py\", line 283, in dispatcher\n",
      "    return self.dispatch_shell(stream, msg)\n",
      "  File \"/home/julianarhee/anaconda2/envs/behavior/lib/python2.7/site-packages/ipykernel/kernelbase.py\", line 233, in dispatch_shell\n",
      "    handler(stream, idents, msg)\n",
      "  File \"/home/julianarhee/anaconda2/envs/behavior/lib/python2.7/site-packages/ipykernel/kernelbase.py\", line 399, in execute_request\n",
      "    user_expressions, allow_stdin)\n",
      "  File \"/home/julianarhee/anaconda2/envs/behavior/lib/python2.7/site-packages/ipykernel/ipkernel.py\", line 208, in do_execute\n",
      "    res = shell.run_cell(code, store_history=store_history, silent=silent)\n",
      "  File \"/home/julianarhee/anaconda2/envs/behavior/lib/python2.7/site-packages/ipykernel/zmqshell.py\", line 537, in run_cell\n",
      "    return super(ZMQInteractiveShell, self).run_cell(*args, **kwargs)\n",
      "  File \"/home/julianarhee/anaconda2/envs/behavior/lib/python2.7/site-packages/IPython/core/interactiveshell.py\", line 2724, in run_cell\n",
      "    self.events.trigger('post_run_cell')\n",
      "  File \"/home/julianarhee/anaconda2/envs/behavior/lib/python2.7/site-packages/IPython/core/events.py\", line 74, in trigger\n",
      "    func(*args, **kwargs)\n",
      "  File \"/home/julianarhee/anaconda2/envs/behavior/lib/python2.7/site-packages/ipykernel/pylab/backend_inline.py\", line 164, in configure_once\n",
      "    activate_matplotlib(backend)\n",
      "  File \"/home/julianarhee/anaconda2/envs/behavior/lib/python2.7/site-packages/IPython/core/pylabtools.py\", line 315, in activate_matplotlib\n",
      "    matplotlib.pyplot.switch_backend(backend)\n",
      "  File \"/home/julianarhee/anaconda2/envs/behavior/lib/python2.7/site-packages/matplotlib/pyplot.py\", line 231, in switch_backend\n",
      "    matplotlib.use(newbackend, warn=False, force=True)\n",
      "  File \"/home/julianarhee/anaconda2/envs/behavior/lib/python2.7/site-packages/matplotlib/__init__.py\", line 1422, in use\n",
      "    reload(sys.modules['matplotlib.backends'])\n",
      "  File \"/home/julianarhee/anaconda2/envs/behavior/lib/python2.7/site-packages/matplotlib/backends/__init__.py\", line 16, in <module>\n",
      "    line for line in traceback.format_stack()\n",
      "\n",
      "\n",
      "  mpl.use('agg')\n"
     ]
    },
    {
     "data": {
      "text/plain": [
       "<module 'process_datafiles' from 'process_datafiles.pyc'>"
      ]
     },
     "execution_count": 17,
     "metadata": {},
     "output_type": "execute_result"
    }
   ],
   "source": [
    "reload(util)\n",
    "reload(procd)"
   ]
  },
  {
   "cell_type": "code",
   "execution_count": 18,
   "metadata": {},
   "outputs": [],
   "source": [
    "# def combine_cohorts_to_dataframe(phasemeta, cohorts=[], excluded_animals=[]):\n",
    "    \n",
    "#     if len(cohorts) == 0:\n",
    "#         cohorts = sorted(metadata['cohort'].unique(), key=natural_keys)\n",
    "#     print(\"combining data from %i cohorts:\" % len(cohorts), cohorts)\n",
    "    \n",
    "#     dflist = []\n",
    "#     for (cohort, animalid), animal_meta in phasemeta.groupby(['cohort', 'animalid']):\n",
    "#         if animalid in excluded_animals:\n",
    "#             print(\"... skipping %i\" % animalid)\n",
    "#             continue\n",
    "            \n",
    "#         if cohort not in cohorts:\n",
    "#             continue\n",
    "\n",
    "#         a_df = procd.sessiondata_to_df(animalid, paradigm, animal_meta, rootdir=rootdir)\n",
    "#         if a_df is None:\n",
    "#             print(\"... no DF found: %s\" % animalid)\n",
    "#             continue\n",
    "#         a_df = a_df.reset_index(drop=True)\n",
    "\n",
    "#         #included_sessions = check_against_manual_sorting(animalid, phase)\n",
    "#         #currdf = a_df[a_df['session'].isin(included_sessions)].copy()\n",
    "    \n",
    "#         #### Update some sorting values\n",
    "#         a_df['animalid'] = [animalid for _ in np.arange(0, len(a_df))]\n",
    "#         a_df['cohort'] = [cohort for _ in np.arange(0, len(a_df))]\n",
    "#         #a_df['phase'] = [phase for _ in np.arange(0, len(a_df))]\n",
    "\n",
    "#         dflist.append(a_df)\n",
    "        \n",
    "#     df = pd.concat(dflist, axis=0).reset_index(drop=True)\n",
    "    \n",
    "#     return df"
   ]
  },
  {
   "cell_type": "code",
   "execution_count": 19,
   "metadata": {},
   "outputs": [],
   "source": [
    "def combine_cohorts_to_dataframe(metadata, cohorts=[], excluded_animals=[]):\n",
    "    \n",
    "    if len(cohorts) == 0:\n",
    "        cohorts = sorted(metadata['cohort'].unique(), key=natural_keys)\n",
    "    print(\"combining data from %i cohorts:\" % len(cohorts), cohorts)\n",
    "    \n",
    "    dflist = []\n",
    "    for (cohort, animalid), animal_meta in metadata.groupby(['cohort', 'animalid']):\n",
    "        if animalid in excluded_animals:\n",
    "            print(\"... skipping %i\" % animalid)\n",
    "            continue\n",
    "            \n",
    "        if cohort not in cohorts:\n",
    "            continue\n",
    "            \n",
    "        a_df, _ = procd.get_animal_df(animalid, paradigm, metadata, create_new=False)\n",
    "        \n",
    "        if a_df is None:\n",
    "            print(\"... no DF found: %s\" % animalid)\n",
    "            continue\n",
    "        a_df = a_df.reset_index(drop=True)\n",
    "\n",
    "        #included_sessions = check_against_manual_sorting(animalid, phase)\n",
    "        #currdf = a_df[a_df['session'].isin(included_sessions)].copy()\n",
    "    \n",
    "        #### Update some sorting values\n",
    "        a_df['animalid'] = [animalid for _ in np.arange(0, len(a_df))]\n",
    "        a_df['cohort'] = [cohort for _ in np.arange(0, len(a_df))]\n",
    "        \n",
    "        dflist.append(a_df)\n",
    "        \n",
    "    df = pd.concat(dflist, axis=0).reset_index(drop=True)\n",
    "    \n",
    "    return df"
   ]
  },
  {
   "cell_type": "code",
   "execution_count": null,
   "metadata": {},
   "outputs": [],
   "source": []
  },
  {
   "cell_type": "code",
   "execution_count": 20,
   "metadata": {},
   "outputs": [
    {
     "name": "stdout",
     "output_type": "stream",
     "text": [
      "Loading existing metadata: /n/coxfs01/behavior-data/threeport/metadata.pkl\n"
     ]
    }
   ],
   "source": [
    "rootdir = '/n/coxfs01/behavior-data'\n",
    "paradigm = 'threeport'\n",
    "\n",
    "processed_dir = os.path.join(rootdir, paradigm, 'processed')\n",
    "\n",
    "metadata = util.get_metadata(paradigm, rootdir=rootdir, filtered=False, create_meta=False)\n"
   ]
  },
  {
   "cell_type": "code",
   "execution_count": 21,
   "metadata": {},
   "outputs": [],
   "source": [
    "cohort = 'AL'\n",
    "\n",
    "#### Load phase info for cohort\n",
    "phase_dfile = os.path.join(processed_dir, 'meta', 'phases_%s.pkl' % cohort)\n",
    "assert os.path.exists(phase_dfile), '[%s] Phase meta does not exist.' % cohort\n",
    "\n",
    "with open(phase_dfile, 'rb') as f:\n",
    "    phaseinfo = pkl.load(f)\n",
    "    "
   ]
  },
  {
   "cell_type": "code",
   "execution_count": 22,
   "metadata": {
    "scrolled": true
   },
   "outputs": [
    {
     "name": "stdout",
     "output_type": "stream",
     "text": [
      "('combining data from 1 cohorts:', ['AL'])\n",
      "... loading existing df\n",
      "... loading existing df\n",
      "... loading existing df\n",
      "... loading existing df\n",
      "... loading existing df\n",
      "... loading existing df\n",
      "... loading existing df\n",
      "... loading existing df\n",
      "... loading existing df\n",
      "... loading existing df\n",
      "... loading existing df\n",
      "... loading existing df\n",
      "... loading existing df\n",
      "... loading existing df\n",
      "... loading existing df\n",
      "... loading existing df\n"
     ]
    },
    {
     "name": "stderr",
     "output_type": "stream",
     "text": [
      "/home/julianarhee/anaconda2/envs/behavior/lib/python2.7/site-packages/ipykernel_launcher.py:32: FutureWarning: Sorting because non-concatenation axis is not aligned. A future version\n",
      "of pandas will change to not sort by default.\n",
      "\n",
      "To accept the future behavior, pass 'sort=False'.\n",
      "\n",
      "To retain the current behavior and silence the warning, pass 'sort=True'.\n",
      "\n"
     ]
    }
   ],
   "source": [
    "#### Get all animals in specified cohorts\n",
    "cohort_list = [cohort]\n",
    "excluded_animals = []\n",
    "cohortdf = combine_cohorts_to_dataframe(metadata, cohorts=cohort_list)\n"
   ]
  },
  {
   "cell_type": "code",
   "execution_count": 135,
   "metadata": {
    "scrolled": true
   },
   "outputs": [],
   "source": [
    "# standard_phases = [1, 2, 3, 4, 5]\n",
    "# standard_ = phaseinfo[phaseinfo['phase'].isin(standard_phases)]\n",
    "\n",
    "#### Select phase to analyze\n",
    "curr_phase = 5\n",
    "curr_phaseinfo =  phaseinfo[phaseinfo['phase']==curr_phase]\n"
   ]
  },
  {
   "cell_type": "code",
   "execution_count": 136,
   "metadata": {},
   "outputs": [
    {
     "data": {
      "text/html": [
       "<div>\n",
       "<style scoped>\n",
       "    .dataframe tbody tr th:only-of-type {\n",
       "        vertical-align: middle;\n",
       "    }\n",
       "\n",
       "    .dataframe tbody tr th {\n",
       "        vertical-align: top;\n",
       "    }\n",
       "\n",
       "    .dataframe thead th {\n",
       "        text-align: right;\n",
       "    }\n",
       "</style>\n",
       "<table border=\"1\" class=\"dataframe\">\n",
       "  <thead>\n",
       "    <tr style=\"text-align: right;\">\n",
       "      <th></th>\n",
       "      <th>cohort</th>\n",
       "      <th>datasource</th>\n",
       "      <th>session</th>\n",
       "      <th>suffix</th>\n",
       "      <th>phase</th>\n",
       "      <th>protocol</th>\n",
       "      <th>experiment</th>\n",
       "    </tr>\n",
       "    <tr>\n",
       "      <th>animalid</th>\n",
       "      <th></th>\n",
       "      <th></th>\n",
       "      <th></th>\n",
       "      <th></th>\n",
       "      <th></th>\n",
       "      <th></th>\n",
       "      <th></th>\n",
       "    </tr>\n",
       "  </thead>\n",
       "  <tbody>\n",
       "    <tr>\n",
       "      <th>AL1</th>\n",
       "      <td>40</td>\n",
       "      <td>40</td>\n",
       "      <td>40</td>\n",
       "      <td>40</td>\n",
       "      <td>40</td>\n",
       "      <td>40</td>\n",
       "      <td>40</td>\n",
       "    </tr>\n",
       "    <tr>\n",
       "      <th>AL10</th>\n",
       "      <td>17</td>\n",
       "      <td>17</td>\n",
       "      <td>17</td>\n",
       "      <td>17</td>\n",
       "      <td>17</td>\n",
       "      <td>17</td>\n",
       "      <td>17</td>\n",
       "    </tr>\n",
       "    <tr>\n",
       "      <th>AL11</th>\n",
       "      <td>29</td>\n",
       "      <td>29</td>\n",
       "      <td>29</td>\n",
       "      <td>29</td>\n",
       "      <td>29</td>\n",
       "      <td>29</td>\n",
       "      <td>29</td>\n",
       "    </tr>\n",
       "    <tr>\n",
       "      <th>AL12</th>\n",
       "      <td>9</td>\n",
       "      <td>9</td>\n",
       "      <td>9</td>\n",
       "      <td>9</td>\n",
       "      <td>9</td>\n",
       "      <td>9</td>\n",
       "      <td>9</td>\n",
       "    </tr>\n",
       "    <tr>\n",
       "      <th>AL13</th>\n",
       "      <td>30</td>\n",
       "      <td>30</td>\n",
       "      <td>30</td>\n",
       "      <td>30</td>\n",
       "      <td>30</td>\n",
       "      <td>30</td>\n",
       "      <td>30</td>\n",
       "    </tr>\n",
       "    <tr>\n",
       "      <th>AL14</th>\n",
       "      <td>38</td>\n",
       "      <td>38</td>\n",
       "      <td>38</td>\n",
       "      <td>38</td>\n",
       "      <td>38</td>\n",
       "      <td>38</td>\n",
       "      <td>38</td>\n",
       "    </tr>\n",
       "    <tr>\n",
       "      <th>AL15</th>\n",
       "      <td>35</td>\n",
       "      <td>35</td>\n",
       "      <td>35</td>\n",
       "      <td>35</td>\n",
       "      <td>35</td>\n",
       "      <td>35</td>\n",
       "      <td>35</td>\n",
       "    </tr>\n",
       "    <tr>\n",
       "      <th>AL16</th>\n",
       "      <td>39</td>\n",
       "      <td>39</td>\n",
       "      <td>39</td>\n",
       "      <td>39</td>\n",
       "      <td>39</td>\n",
       "      <td>39</td>\n",
       "      <td>39</td>\n",
       "    </tr>\n",
       "    <tr>\n",
       "      <th>AL2</th>\n",
       "      <td>38</td>\n",
       "      <td>38</td>\n",
       "      <td>38</td>\n",
       "      <td>38</td>\n",
       "      <td>38</td>\n",
       "      <td>38</td>\n",
       "      <td>38</td>\n",
       "    </tr>\n",
       "    <tr>\n",
       "      <th>AL3</th>\n",
       "      <td>63</td>\n",
       "      <td>63</td>\n",
       "      <td>63</td>\n",
       "      <td>63</td>\n",
       "      <td>63</td>\n",
       "      <td>63</td>\n",
       "      <td>63</td>\n",
       "    </tr>\n",
       "    <tr>\n",
       "      <th>AL4</th>\n",
       "      <td>58</td>\n",
       "      <td>58</td>\n",
       "      <td>58</td>\n",
       "      <td>58</td>\n",
       "      <td>58</td>\n",
       "      <td>58</td>\n",
       "      <td>58</td>\n",
       "    </tr>\n",
       "    <tr>\n",
       "      <th>AL5</th>\n",
       "      <td>54</td>\n",
       "      <td>54</td>\n",
       "      <td>54</td>\n",
       "      <td>54</td>\n",
       "      <td>54</td>\n",
       "      <td>54</td>\n",
       "      <td>54</td>\n",
       "    </tr>\n",
       "    <tr>\n",
       "      <th>AL6</th>\n",
       "      <td>42</td>\n",
       "      <td>42</td>\n",
       "      <td>42</td>\n",
       "      <td>42</td>\n",
       "      <td>42</td>\n",
       "      <td>42</td>\n",
       "      <td>42</td>\n",
       "    </tr>\n",
       "    <tr>\n",
       "      <th>AL7</th>\n",
       "      <td>57</td>\n",
       "      <td>57</td>\n",
       "      <td>57</td>\n",
       "      <td>57</td>\n",
       "      <td>57</td>\n",
       "      <td>57</td>\n",
       "      <td>57</td>\n",
       "    </tr>\n",
       "    <tr>\n",
       "      <th>AL8</th>\n",
       "      <td>56</td>\n",
       "      <td>56</td>\n",
       "      <td>56</td>\n",
       "      <td>56</td>\n",
       "      <td>56</td>\n",
       "      <td>56</td>\n",
       "      <td>56</td>\n",
       "    </tr>\n",
       "    <tr>\n",
       "      <th>AL9</th>\n",
       "      <td>29</td>\n",
       "      <td>29</td>\n",
       "      <td>29</td>\n",
       "      <td>29</td>\n",
       "      <td>29</td>\n",
       "      <td>29</td>\n",
       "      <td>29</td>\n",
       "    </tr>\n",
       "  </tbody>\n",
       "</table>\n",
       "</div>"
      ],
      "text/plain": [
       "          cohort  datasource  session  suffix  phase  protocol  experiment\n",
       "animalid                                                                  \n",
       "AL1           40          40       40      40     40        40          40\n",
       "AL10          17          17       17      17     17        17          17\n",
       "AL11          29          29       29      29     29        29          29\n",
       "AL12           9           9        9       9      9         9           9\n",
       "AL13          30          30       30      30     30        30          30\n",
       "AL14          38          38       38      38     38        38          38\n",
       "AL15          35          35       35      35     35        35          35\n",
       "AL16          39          39       39      39     39        39          39\n",
       "AL2           38          38       38      38     38        38          38\n",
       "AL3           63          63       63      63     63        63          63\n",
       "AL4           58          58       58      58     58        58          58\n",
       "AL5           54          54       54      54     54        54          54\n",
       "AL6           42          42       42      42     42        42          42\n",
       "AL7           57          57       57      57     57        57          57\n",
       "AL8           56          56       56      56     56        56          56\n",
       "AL9           29          29       29      29     29        29          29"
      ]
     },
     "execution_count": 136,
     "metadata": {},
     "output_type": "execute_result"
    }
   ],
   "source": [
    "phaseinfo[phaseinfo['phase']==curr_phase].groupby(['animalid']).count()\n"
   ]
  },
  {
   "cell_type": "code",
   "execution_count": 137,
   "metadata": {},
   "outputs": [
    {
     "data": {
      "text/plain": [
       "array([ 1,  2,  3,  5, -1,  8])"
      ]
     },
     "execution_count": 137,
     "metadata": {},
     "output_type": "execute_result"
    }
   ],
   "source": [
    "phaseinfo['phase'].unique()"
   ]
  },
  {
   "cell_type": "code",
   "execution_count": 138,
   "metadata": {},
   "outputs": [],
   "source": [
    "dlist = []\n",
    "for (animalid, session, suffix), g in curr_phaseinfo.groupby(['animalid', 'session', 'suffix']):\n",
    "    \n",
    "    tmpd = cohortdf[ (cohortdf['animalid']==animalid) \n",
    "                    & (cohortdf['session']==session) \n",
    "                    & (cohortdf['suffix']==suffix) ]\n",
    "    \n",
    "    dlist.append(tmpd)\n",
    "df = pd.concat(dlist, axis=0)\n"
   ]
  },
  {
   "cell_type": "code",
   "execution_count": 139,
   "metadata": {
    "scrolled": true
   },
   "outputs": [
    {
     "data": {
      "text/html": [
       "<div>\n",
       "<style scoped>\n",
       "    .dataframe tbody tr th:only-of-type {\n",
       "        vertical-align: middle;\n",
       "    }\n",
       "\n",
       "    .dataframe tbody tr th {\n",
       "        vertical-align: top;\n",
       "    }\n",
       "\n",
       "    .dataframe thead th {\n",
       "        text-align: right;\n",
       "    }\n",
       "</style>\n",
       "<table border=\"1\" class=\"dataframe\">\n",
       "  <thead>\n",
       "    <tr style=\"text-align: right;\">\n",
       "      <th></th>\n",
       "      <th>session</th>\n",
       "    </tr>\n",
       "    <tr>\n",
       "      <th>animalid</th>\n",
       "      <th></th>\n",
       "    </tr>\n",
       "  </thead>\n",
       "  <tbody>\n",
       "    <tr>\n",
       "      <th>AL1</th>\n",
       "      <td>40</td>\n",
       "    </tr>\n",
       "    <tr>\n",
       "      <th>AL10</th>\n",
       "      <td>17</td>\n",
       "    </tr>\n",
       "    <tr>\n",
       "      <th>AL11</th>\n",
       "      <td>29</td>\n",
       "    </tr>\n",
       "    <tr>\n",
       "      <th>AL12</th>\n",
       "      <td>9</td>\n",
       "    </tr>\n",
       "    <tr>\n",
       "      <th>AL13</th>\n",
       "      <td>30</td>\n",
       "    </tr>\n",
       "    <tr>\n",
       "      <th>AL14</th>\n",
       "      <td>38</td>\n",
       "    </tr>\n",
       "    <tr>\n",
       "      <th>AL15</th>\n",
       "      <td>35</td>\n",
       "    </tr>\n",
       "    <tr>\n",
       "      <th>AL16</th>\n",
       "      <td>39</td>\n",
       "    </tr>\n",
       "    <tr>\n",
       "      <th>AL2</th>\n",
       "      <td>38</td>\n",
       "    </tr>\n",
       "    <tr>\n",
       "      <th>AL3</th>\n",
       "      <td>63</td>\n",
       "    </tr>\n",
       "    <tr>\n",
       "      <th>AL4</th>\n",
       "      <td>57</td>\n",
       "    </tr>\n",
       "    <tr>\n",
       "      <th>AL5</th>\n",
       "      <td>54</td>\n",
       "    </tr>\n",
       "    <tr>\n",
       "      <th>AL6</th>\n",
       "      <td>42</td>\n",
       "    </tr>\n",
       "    <tr>\n",
       "      <th>AL7</th>\n",
       "      <td>57</td>\n",
       "    </tr>\n",
       "    <tr>\n",
       "      <th>AL8</th>\n",
       "      <td>56</td>\n",
       "    </tr>\n",
       "    <tr>\n",
       "      <th>AL9</th>\n",
       "      <td>29</td>\n",
       "    </tr>\n",
       "  </tbody>\n",
       "</table>\n",
       "</div>"
      ],
      "text/plain": [
       "          session\n",
       "animalid         \n",
       "AL1            40\n",
       "AL10           17\n",
       "AL11           29\n",
       "AL12            9\n",
       "AL13           30\n",
       "AL14           38\n",
       "AL15           35\n",
       "AL16           39\n",
       "AL2            38\n",
       "AL3            63\n",
       "AL4            57\n",
       "AL5            54\n",
       "AL6            42\n",
       "AL7            57\n",
       "AL8            56\n",
       "AL9            29"
      ]
     },
     "execution_count": 139,
     "metadata": {},
     "output_type": "execute_result"
    }
   ],
   "source": [
    "df[['animalid', 'session']].drop_duplicates().groupby(['animalid']).count()"
   ]
  },
  {
   "cell_type": "code",
   "execution_count": null,
   "metadata": {},
   "outputs": [],
   "source": []
  },
  {
   "cell_type": "markdown",
   "metadata": {},
   "source": [
    "# Create output dir"
   ]
  },
  {
   "cell_type": "code",
   "execution_count": 36,
   "metadata": {},
   "outputs": [
    {
     "name": "stdout",
     "output_type": "stream",
     "text": [
      "/n/coxfs01/behavior-data/threeport/processed/performance\n"
     ]
    }
   ],
   "source": [
    "outdir = os.path.join(rootdir, paradigm, 'processed', 'performance')\n",
    "if not os.path.exists(outdir):\n",
    "    print(\"making dir\")\n",
    "    os.makedirs(outdir)\n",
    "print(outdir)"
   ]
  },
  {
   "cell_type": "code",
   "execution_count": null,
   "metadata": {},
   "outputs": [],
   "source": []
  },
  {
   "cell_type": "markdown",
   "metadata": {},
   "source": [
    "# Create heatmaps"
   ]
  },
  {
   "cell_type": "code",
   "execution_count": 37,
   "metadata": {},
   "outputs": [],
   "source": [
    "def format_size_depth_ticks(ax, xvals=[], yvals=[]):\n",
    "    \n",
    "    ax.set_xticks(np.arange(0, len(xvals)))\n",
    "    ax.set_xticklabels(xvals)\n",
    "    \n",
    "    ax.set_yticks(np.arange(0, len(yvals)))\n",
    "    ax.set_yticklabels(yvals)\n",
    "    \n",
    "    return ax"
   ]
  },
  {
   "cell_type": "code",
   "execution_count": null,
   "metadata": {},
   "outputs": [],
   "source": []
  },
  {
   "cell_type": "code",
   "execution_count": 38,
   "metadata": {},
   "outputs": [],
   "source": [
    "#combine two color maps for 0-50% and 50-100% as in the PNAS paper\n",
    "colors1 = pl.cm.bone(np.linspace(1,0.,128))\n",
    "colors2 = pl.cm.hot(np.linspace(0.,1,128))\n",
    "colors = np.vstack((colors1, colors2))\n",
    "pnas_cmap = mcolors.LinearSegmentedColormap.from_list('pnas_map', colors)\n"
   ]
  },
  {
   "cell_type": "code",
   "execution_count": 43,
   "metadata": {},
   "outputs": [
    {
     "data": {
      "text/plain": [
       "'AL'"
      ]
     },
     "execution_count": 43,
     "metadata": {},
     "output_type": "execute_result"
    }
   ],
   "source": [
    "cohort"
   ]
  },
  {
   "cell_type": "code",
   "execution_count": 44,
   "metadata": {},
   "outputs": [
    {
     "name": "stderr",
     "output_type": "stream",
     "text": [
      "/home/julianarhee/anaconda2/envs/behavior/lib/python2.7/site-packages/ipykernel_launcher.py:6: DeprecationWarning: object of type <type 'float'> cannot be safely interpreted as an integer.\n",
      "  \n",
      "/home/julianarhee/anaconda2/envs/behavior/lib/python2.7/site-packages/ipykernel_launcher.py:7: DeprecationWarning: object of type <type 'float'> cannot be safely interpreted as an integer.\n",
      "  import sys\n"
     ]
    }
   ],
   "source": [
    "default_size = 30\n",
    "default_depth_rotation = 0.\n",
    "default_planar_rotation = 0.\n",
    "\n",
    "if cohort in ['AL']:\n",
    "    expected_sizes = np.linspace(15, 40, 11.)\n",
    "    expected_drots = np.linspace(-60, 60, 25.)\n",
    "    default_size = 40\n",
    "    \n",
    "elif cohort in ['AG']:\n",
    "    expected_sizes = np.linspace(15, 40, 6.)\n",
    "    expected_drots = np.linspace(-60, 60, 9.)\n",
    "\n",
    "\n",
    "expected_size_interval = np.diff(expected_sizes).mean()\n",
    "expected_drot_interval = np.diff(expected_drots).mean()\n"
   ]
  },
  {
   "cell_type": "code",
   "execution_count": 45,
   "metadata": {
    "scrolled": true
   },
   "outputs": [],
   "source": [
    "# sizes = sorted(np.unique([s for (o, d, s), _ in g.groupby(['object', 'depth_rotation', 'size'])]))\n",
    "# objects = sorted(np.unique([o for (o, d, s), _ in g.groupby(['object', 'depth_rotation', 'size'])]))\n",
    "# depth_rotations = sorted(np.unique([d for (o, d, s), _ in g.groupby(['object', 'depth_rotation', 'size'])]))\n",
    "\n",
    "# print(\"Objects:\", objects)\n",
    "# print(\"Sizes:\", sizes)\n",
    "# print(\"Depth rotations:\", depth_rotations)\n"
   ]
  },
  {
   "cell_type": "code",
   "execution_count": 114,
   "metadata": {
    "scrolled": true
   },
   "outputs": [],
   "source": [
    "object_ids = df['object'].unique()\n",
    "HMAPS = dict((animalid, dict((k, []) for k in object_ids)) for animalid in df['animalid'].unique())\n",
    "\n",
    "dlist = []\n",
    "i=0\n",
    "for (animalid, session, sfx), agroup in df.groupby(['animalid', 'session', 'suffix']):\n",
    "    datakey = '%s_%s_%s' % (animalid, session, sfx)\n",
    "    \n",
    "    for objectname, ogroup in agroup.groupby(['object']):\n",
    "        hmap = np.zeros((len(expected_sizes), len(expected_drots)))\n",
    "\n",
    "        for (drot, sz), sgroup in ogroup.groupby(['depth_rotation', 'size']):\n",
    "\n",
    "            n_trials = float(sgroup['outcome'].shape[0])\n",
    "            perc_correct = len(sgroup[sgroup['outcome']=='success']) / n_trials\n",
    "\n",
    "            r_ix = list(expected_sizes).index(sz)\n",
    "            c_ix = list(expected_drots).index(drot)\n",
    "\n",
    "            hmap[r_ix, c_ix] = perc_correct\n",
    "\n",
    "            dlist.append(pd.DataFrame({'perc_correct': perc_correct,\n",
    "                          'n_trials': n_trials,\n",
    "                          'size': sz,\n",
    "                          'depth_rotation': drot,\n",
    "                          'objectid': objectname,\n",
    "                          'animalid': animalid,\n",
    "                          'session': session,\n",
    "                          'suffix': sfx}, index=[i]))\n",
    "            i+=1\n",
    "    \n",
    "        HMAPS[animalid][objectname].append(hmap)\n",
    "\n",
    "perfdf = pd.concat(dlist, axis=0)       "
   ]
  },
  {
   "cell_type": "code",
   "execution_count": 115,
   "metadata": {},
   "outputs": [],
   "source": [
    "for animalid, hmap_d in HMAPS.items():\n",
    "    HMAPS[animalid] = dict((k, np.dstack(v)) for k, v in hmap_d.items())"
   ]
  },
  {
   "cell_type": "code",
   "execution_count": 116,
   "metadata": {},
   "outputs": [
    {
     "data": {
      "text/plain": [
       "(11, 25, 2)"
      ]
     },
     "execution_count": 116,
     "metadata": {},
     "output_type": "execute_result"
    }
   ],
   "source": [
    "HMAPS['AL1']['1'].shape"
   ]
  },
  {
   "cell_type": "code",
   "execution_count": null,
   "metadata": {},
   "outputs": [],
   "source": []
  },
  {
   "cell_type": "code",
   "execution_count": 117,
   "metadata": {},
   "outputs": [
    {
     "data": {
      "text/plain": [
       "<matplotlib.image.AxesImage at 0x7f295b24c490>"
      ]
     },
     "execution_count": 117,
     "metadata": {},
     "output_type": "execute_result"
    },
    {
     "data": {
      "image/png": "[encoded data removed]",
      "text/plain": [
       "<Figure size 432x288 with 2 Axes>"
      ]
     },
     "metadata": {
      "needs_background": "light"
     },
     "output_type": "display_data"
    }
   ],
   "source": [
    "fig, axes = pl.subplots(1,2)\n",
    "ax = axes[0]\n",
    "ax.imshow(HMAPS['AL1']['1'].mean(axis=-1), vmin=0, vmax=1, cmap=pnas_cmap)\n",
    "ax = axes[1]\n",
    "ax.imshow(HMAPS['AL1']['2'].mean(axis=-1), vmin=0, vmax=1, cmap=pnas_cmap)\n"
   ]
  },
  {
   "cell_type": "code",
   "execution_count": 118,
   "metadata": {},
   "outputs": [
    {
     "data": {
      "image/png": "[encoded data removed]",
      "text/plain": [
       "<Figure size 1440x360 with 26 Axes>"
      ]
     },
     "metadata": {
      "needs_background": "light"
     },
     "output_type": "display_data"
    }
   ],
   "source": [
    "fig, axes = pl.subplots(2, len(HMAPS.keys()), figsize=(20, 5), sharex=True, sharey=True)\n",
    "\n",
    "for ai, (animalid, hmap_d) in enumerate(HMAPS.items()):\n",
    "    for oi, okey in enumerate(['1', '2']):\n",
    "        ax = axes[oi, ai]\n",
    "        hmap = hmap_d[okey].mean(axis=-1)\n",
    "        ax.imshow(hmap, origin='bottom', cmap=pnas_cmap)\n",
    "        format_size_depth_ticks(ax, xvals=expected_drots, yvals=expected_sizes)\n",
    "        \n",
    "        ax.set_title(animalid)\n"
   ]
  },
  {
   "cell_type": "code",
   "execution_count": 119,
   "metadata": {},
   "outputs": [
    {
     "data": {
      "text/html": [
       "<div>\n",
       "<style scoped>\n",
       "    .dataframe tbody tr th:only-of-type {\n",
       "        vertical-align: middle;\n",
       "    }\n",
       "\n",
       "    .dataframe tbody tr th {\n",
       "        vertical-align: top;\n",
       "    }\n",
       "\n",
       "    .dataframe thead th {\n",
       "        text-align: right;\n",
       "    }\n",
       "</style>\n",
       "<table border=\"1\" class=\"dataframe\">\n",
       "  <thead>\n",
       "    <tr style=\"text-align: right;\">\n",
       "      <th></th>\n",
       "      <th>animalid</th>\n",
       "      <th>depth_rotation</th>\n",
       "      <th>n_trials</th>\n",
       "      <th>objectid</th>\n",
       "      <th>perc_correct</th>\n",
       "      <th>session</th>\n",
       "      <th>size</th>\n",
       "      <th>suffix</th>\n",
       "    </tr>\n",
       "  </thead>\n",
       "  <tbody>\n",
       "    <tr>\n",
       "      <th>0</th>\n",
       "      <td>AL1</td>\n",
       "      <td>0</td>\n",
       "      <td>28.0</td>\n",
       "      <td>1</td>\n",
       "      <td>0.785714</td>\n",
       "      <td>20170909</td>\n",
       "      <td>30.0</td>\n",
       "      <td></td>\n",
       "    </tr>\n",
       "    <tr>\n",
       "      <th>1</th>\n",
       "      <td>AL1</td>\n",
       "      <td>5</td>\n",
       "      <td>16.0</td>\n",
       "      <td>1</td>\n",
       "      <td>0.812500</td>\n",
       "      <td>20170909</td>\n",
       "      <td>30.0</td>\n",
       "      <td></td>\n",
       "    </tr>\n",
       "    <tr>\n",
       "      <th>2</th>\n",
       "      <td>AL1</td>\n",
       "      <td>10</td>\n",
       "      <td>16.0</td>\n",
       "      <td>1</td>\n",
       "      <td>0.812500</td>\n",
       "      <td>20170909</td>\n",
       "      <td>30.0</td>\n",
       "      <td></td>\n",
       "    </tr>\n",
       "    <tr>\n",
       "      <th>3</th>\n",
       "      <td>AL1</td>\n",
       "      <td>15</td>\n",
       "      <td>23.0</td>\n",
       "      <td>1</td>\n",
       "      <td>0.826087</td>\n",
       "      <td>20170909</td>\n",
       "      <td>30.0</td>\n",
       "      <td></td>\n",
       "    </tr>\n",
       "    <tr>\n",
       "      <th>4</th>\n",
       "      <td>AL1</td>\n",
       "      <td>20</td>\n",
       "      <td>19.0</td>\n",
       "      <td>1</td>\n",
       "      <td>0.684211</td>\n",
       "      <td>20170909</td>\n",
       "      <td>30.0</td>\n",
       "      <td></td>\n",
       "    </tr>\n",
       "  </tbody>\n",
       "</table>\n",
       "</div>"
      ],
      "text/plain": [
       "  animalid  depth_rotation  n_trials objectid  perc_correct   session  size  \\\n",
       "0      AL1               0      28.0        1      0.785714  20170909  30.0   \n",
       "1      AL1               5      16.0        1      0.812500  20170909  30.0   \n",
       "2      AL1              10      16.0        1      0.812500  20170909  30.0   \n",
       "3      AL1              15      23.0        1      0.826087  20170909  30.0   \n",
       "4      AL1              20      19.0        1      0.684211  20170909  30.0   \n",
       "\n",
       "  suffix  \n",
       "0         \n",
       "1         \n",
       "2         \n",
       "3         \n",
       "4         "
      ]
     },
     "execution_count": 119,
     "metadata": {},
     "output_type": "execute_result"
    }
   ],
   "source": [
    "perfdf.head()"
   ]
  },
  {
   "cell_type": "code",
   "execution_count": 129,
   "metadata": {},
   "outputs": [
    {
     "data": {
      "text/plain": [
       "13"
      ]
     },
     "execution_count": 129,
     "metadata": {},
     "output_type": "execute_result"
    }
   ],
   "source": [
    "len(perfdf['animalid'].unique())"
   ]
  },
  {
   "cell_type": "code",
   "execution_count": 131,
   "metadata": {},
   "outputs": [
    {
     "data": {
      "text/plain": [
       "{'1': (0.8705882352941177, 0.5607843137254902, 0.0196078431372549),\n",
       " '2': (0.00392156862745098, 0.45098039215686275, 0.6980392156862745)}"
      ]
     },
     "execution_count": 131,
     "metadata": {},
     "output_type": "execute_result"
    }
   ],
   "source": [
    "col_list = sns.color_palette('colorblind', n_colors=len(object_ids))\n",
    "object_colors = dict((k, c) for k, c in zip(object_ids, col_list))\n",
    "object_colors"
   ]
  },
  {
   "cell_type": "code",
   "execution_count": 134,
   "metadata": {},
   "outputs": [
    {
     "data": {
      "image/png": "[encoded data removed]",
      "text/plain": [
       "<Figure size 432x288 with 15 Axes>"
      ]
     },
     "metadata": {
      "needs_background": "light"
     },
     "output_type": "display_data"
    }
   ],
   "source": [
    "fig, axes = pl.subplots(3, 5, sharex=True, sharey=True)\n",
    "\n",
    "for ai, (animalid, agroup) in enumerate(perfdf.groupby(['animalid'])):\n",
    "    ax = axes.flat[ai]\n",
    "    for objectid, ogroup in agroup.groupby(['objectid']):\n",
    "        \n",
    "        tested_values = [v for v, g in ogroup.groupby(['depth_rotation'])]\n",
    "        performance_values = [g['perc_correct'].mean() for v, g in ogroup.groupby(['depth_rotation'])]\n",
    "\n",
    "        ax.plot(tested_values, performance_values, color=object_colors[objectid])"
   ]
  },
  {
   "cell_type": "code",
   "execution_count": 126,
   "metadata": {},
   "outputs": [
    {
     "data": {
      "text/html": [
       "<div>\n",
       "<style scoped>\n",
       "    .dataframe tbody tr th:only-of-type {\n",
       "        vertical-align: middle;\n",
       "    }\n",
       "\n",
       "    .dataframe tbody tr th {\n",
       "        vertical-align: top;\n",
       "    }\n",
       "\n",
       "    .dataframe thead th {\n",
       "        text-align: right;\n",
       "    }\n",
       "</style>\n",
       "<table border=\"1\" class=\"dataframe\">\n",
       "  <thead>\n",
       "    <tr style=\"text-align: right;\">\n",
       "      <th></th>\n",
       "      <th>animalid</th>\n",
       "      <th>depth_rotation</th>\n",
       "      <th>n_trials</th>\n",
       "      <th>objectid</th>\n",
       "      <th>perc_correct</th>\n",
       "      <th>session</th>\n",
       "      <th>size</th>\n",
       "      <th>suffix</th>\n",
       "    </tr>\n",
       "  </thead>\n",
       "  <tbody>\n",
       "    <tr>\n",
       "      <th>797</th>\n",
       "      <td>AL8</td>\n",
       "      <td>60</td>\n",
       "      <td>22.0</td>\n",
       "      <td>2</td>\n",
       "      <td>0.863636</td>\n",
       "      <td>20170803</td>\n",
       "      <td>30.0</td>\n",
       "      <td>b</td>\n",
       "    </tr>\n",
       "  </tbody>\n",
       "</table>\n",
       "</div>"
      ],
      "text/plain": [
       "    animalid  depth_rotation  n_trials objectid  perc_correct   session  size  \\\n",
       "797      AL8              60      22.0        2      0.863636  20170803  30.0   \n",
       "\n",
       "    suffix  \n",
       "797      b  "
      ]
     },
     "execution_count": 126,
     "metadata": {},
     "output_type": "execute_result"
    }
   ],
   "source": [
    "g"
   ]
  },
  {
   "cell_type": "code",
   "execution_count": 134,
   "metadata": {},
   "outputs": [
    {
     "data": {
      "text/plain": [
       "<matplotlib.image.AxesImage at 0x7f78d5a36810>"
      ]
     },
     "execution_count": 134,
     "metadata": {},
     "output_type": "execute_result"
    },
    {
     "data": {
      "image/png": "[encoded data removed]",
      "text/plain": [
       "<Figure size 432x288 with 1 Axes>"
      ]
     },
     "metadata": {
      "needs_background": "light"
     },
     "output_type": "display_data"
    }
   ],
   "source": [
    "pl.figure()\n",
    "pl.imshow(HMAPS['AG7']['1'].sum(axis=-1))"
   ]
  },
  {
   "cell_type": "code",
   "execution_count": 139,
   "metadata": {},
   "outputs": [],
   "source": [
    "test = perfdf[perfdf['animalid']=='AG7'].sort_values(by=['size', 'depth_rotation'])['size'].values\n"
   ]
  },
  {
   "cell_type": "code",
   "execution_count": 141,
   "metadata": {},
   "outputs": [
    {
     "data": {
      "text/html": [
       "<div>\n",
       "<style scoped>\n",
       "    .dataframe tbody tr th:only-of-type {\n",
       "        vertical-align: middle;\n",
       "    }\n",
       "\n",
       "    .dataframe tbody tr th {\n",
       "        vertical-align: top;\n",
       "    }\n",
       "\n",
       "    .dataframe thead th {\n",
       "        text-align: right;\n",
       "    }\n",
       "</style>\n",
       "<table border=\"1\" class=\"dataframe\">\n",
       "  <thead>\n",
       "    <tr style=\"text-align: right;\">\n",
       "      <th></th>\n",
       "      <th></th>\n",
       "      <th>n_trials</th>\n",
       "      <th>perc_correct</th>\n",
       "      <th>session</th>\n",
       "    </tr>\n",
       "    <tr>\n",
       "      <th>size</th>\n",
       "      <th>depth_rotation</th>\n",
       "      <th></th>\n",
       "      <th></th>\n",
       "      <th></th>\n",
       "    </tr>\n",
       "  </thead>\n",
       "  <tbody>\n",
       "    <tr>\n",
       "      <th>15.0</th>\n",
       "      <th>0</th>\n",
       "      <td>23.000000</td>\n",
       "      <td>0.515236</td>\n",
       "      <td>2.016096e+07</td>\n",
       "    </tr>\n",
       "    <tr>\n",
       "      <th>20.0</th>\n",
       "      <th>0</th>\n",
       "      <td>22.888889</td>\n",
       "      <td>0.589425</td>\n",
       "      <td>2.016096e+07</td>\n",
       "    </tr>\n",
       "    <tr>\n",
       "      <th>25.0</th>\n",
       "      <th>0</th>\n",
       "      <td>22.833333</td>\n",
       "      <td>0.657536</td>\n",
       "      <td>2.016096e+07</td>\n",
       "    </tr>\n",
       "    <tr>\n",
       "      <th>30.0</th>\n",
       "      <th>0</th>\n",
       "      <td>22.666667</td>\n",
       "      <td>0.673753</td>\n",
       "      <td>2.016096e+07</td>\n",
       "    </tr>\n",
       "    <tr>\n",
       "      <th rowspan=\"9\" valign=\"top\">35.0</th>\n",
       "      <th>-60</th>\n",
       "      <td>22.833333</td>\n",
       "      <td>0.544722</td>\n",
       "      <td>2.016096e+07</td>\n",
       "    </tr>\n",
       "    <tr>\n",
       "      <th>-45</th>\n",
       "      <td>22.722222</td>\n",
       "      <td>0.521032</td>\n",
       "      <td>2.016096e+07</td>\n",
       "    </tr>\n",
       "    <tr>\n",
       "      <th>-30</th>\n",
       "      <td>23.000000</td>\n",
       "      <td>0.643056</td>\n",
       "      <td>2.016096e+07</td>\n",
       "    </tr>\n",
       "    <tr>\n",
       "      <th>-15</th>\n",
       "      <td>22.722222</td>\n",
       "      <td>0.678376</td>\n",
       "      <td>2.016096e+07</td>\n",
       "    </tr>\n",
       "    <tr>\n",
       "      <th>0</th>\n",
       "      <td>22.888889</td>\n",
       "      <td>0.690913</td>\n",
       "      <td>2.016096e+07</td>\n",
       "    </tr>\n",
       "    <tr>\n",
       "      <th>15</th>\n",
       "      <td>22.777778</td>\n",
       "      <td>0.717852</td>\n",
       "      <td>2.016096e+07</td>\n",
       "    </tr>\n",
       "    <tr>\n",
       "      <th>30</th>\n",
       "      <td>22.888889</td>\n",
       "      <td>0.655659</td>\n",
       "      <td>2.016096e+07</td>\n",
       "    </tr>\n",
       "    <tr>\n",
       "      <th>45</th>\n",
       "      <td>22.666667</td>\n",
       "      <td>0.661555</td>\n",
       "      <td>2.016096e+07</td>\n",
       "    </tr>\n",
       "    <tr>\n",
       "      <th>60</th>\n",
       "      <td>22.888889</td>\n",
       "      <td>0.547195</td>\n",
       "      <td>2.016096e+07</td>\n",
       "    </tr>\n",
       "    <tr>\n",
       "      <th>40.0</th>\n",
       "      <th>0</th>\n",
       "      <td>22.833333</td>\n",
       "      <td>0.695929</td>\n",
       "      <td>2.016096e+07</td>\n",
       "    </tr>\n",
       "  </tbody>\n",
       "</table>\n",
       "</div>"
      ],
      "text/plain": [
       "                      n_trials  perc_correct       session\n",
       "size depth_rotation                                       \n",
       "15.0  0              23.000000      0.515236  2.016096e+07\n",
       "20.0  0              22.888889      0.589425  2.016096e+07\n",
       "25.0  0              22.833333      0.657536  2.016096e+07\n",
       "30.0  0              22.666667      0.673753  2.016096e+07\n",
       "35.0 -60             22.833333      0.544722  2.016096e+07\n",
       "     -45             22.722222      0.521032  2.016096e+07\n",
       "     -30             23.000000      0.643056  2.016096e+07\n",
       "     -15             22.722222      0.678376  2.016096e+07\n",
       "      0              22.888889      0.690913  2.016096e+07\n",
       "      15             22.777778      0.717852  2.016096e+07\n",
       "      30             22.888889      0.655659  2.016096e+07\n",
       "      45             22.666667      0.661555  2.016096e+07\n",
       "      60             22.888889      0.547195  2.016096e+07\n",
       "40.0  0              22.833333      0.695929  2.016096e+07"
      ]
     },
     "execution_count": 141,
     "metadata": {},
     "output_type": "execute_result"
    }
   ],
   "source": [
    "perfdf[perfdf['animalid']=='AG7'].groupby(['size', 'depth_rotation']).mean()"
   ]
  },
  {
   "cell_type": "code",
   "execution_count": 163,
   "metadata": {},
   "outputs": [
    {
     "data": {
      "text/plain": [
       "[20160913, 20160915, 20160920, 20160921, 20160922, 20161012, 20161013]"
      ]
     },
     "execution_count": 163,
     "metadata": {},
     "output_type": "execute_result"
    }
   ],
   "source": [
    "sorted(perfdf[perfdf['animalid']=='AG7']['session'].unique())"
   ]
  },
  {
   "cell_type": "code",
   "execution_count": null,
   "metadata": {},
   "outputs": [],
   "source": []
  }
 ],
 "metadata": {
  "kernelspec": {
   "display_name": "Python 2",
   "language": "python",
   "name": "python2"
  },
  "language_info": {
   "codemirror_mode": {
    "name": "ipython",
    "version": 2
   },
   "file_extension": ".py",
   "mimetype": "text/x-python",
   "name": "python",
   "nbconvert_exporter": "python",
   "pygments_lexer": "ipython2",
   "version": "2.7.15"
  }
 },
 "nbformat": 4,
 "nbformat_minor": 2
}
