{
 "cells": [
  {
   "cell_type": "code",
   "execution_count": 1,
   "metadata": {},
   "outputs": [
    {
     "name": "stderr",
     "output_type": "stream",
     "text": [
      "/home/julianarhee/anaconda2/envs/behavior/lib/python2.7/site-packages/pymworks/protocol/__init__.py:15: UserWarning: networkx is required for pymworks.protocols.states\n",
      "  warnings.warn('networkx is required for pymworks.protocols.states')\n",
      "/home/julianarhee/anaconda2/envs/behavior/lib/python2.7/site-packages/datautils/__init__.py:22: UserWarning: datautils.mongo failed to import with: No module named pymongo\n",
      "  warnings.warn('datautils.mongo failed to import with: %s' % E)\n",
      "utils.py:4: UserWarning: \n",
      "This call to matplotlib.use() has no effect because the backend has already\n",
      "been chosen; matplotlib.use() must be called *before* pylab, matplotlib.pyplot,\n",
      "or matplotlib.backends is imported for the first time.\n",
      "\n",
      "The backend was *originally* set to 'module://ipykernel.pylab.backend_inline' by the following code:\n",
      "  File \"/home/julianarhee/anaconda2/envs/behavior/lib/python2.7/runpy.py\", line 174, in _run_module_as_main\n",
      "    \"__main__\", fname, loader, pkg_name)\n",
      "  File \"/home/julianarhee/anaconda2/envs/behavior/lib/python2.7/runpy.py\", line 72, in _run_code\n",
      "    exec code in run_globals\n",
      "  File \"/home/julianarhee/anaconda2/envs/behavior/lib/python2.7/site-packages/ipykernel_launcher.py\", line 16, in <module>\n",
      "    app.launch_new_instance()\n",
      "  File \"/home/julianarhee/anaconda2/envs/behavior/lib/python2.7/site-packages/traitlets/config/application.py\", line 658, in launch_instance\n",
      "    app.start()\n",
      "  File \"/home/julianarhee/anaconda2/envs/behavior/lib/python2.7/site-packages/ipykernel/kernelapp.py\", line 499, in start\n",
      "    self.io_loop.start()\n",
      "  File \"/home/julianarhee/anaconda2/envs/behavior/lib/python2.7/site-packages/tornado/ioloop.py\", line 1073, in start\n",
      "    handler_func(fd_obj, events)\n",
      "  File \"/home/julianarhee/anaconda2/envs/behavior/lib/python2.7/site-packages/tornado/stack_context.py\", line 300, in null_wrapper\n",
      "    return fn(*args, **kwargs)\n",
      "  File \"/home/julianarhee/anaconda2/envs/behavior/lib/python2.7/site-packages/zmq/eventloop/zmqstream.py\", line 450, in _handle_events\n",
      "    self._handle_recv()\n",
      "  File \"/home/julianarhee/anaconda2/envs/behavior/lib/python2.7/site-packages/zmq/eventloop/zmqstream.py\", line 480, in _handle_recv\n",
      "    self._run_callback(callback, msg)\n",
      "  File \"/home/julianarhee/anaconda2/envs/behavior/lib/python2.7/site-packages/zmq/eventloop/zmqstream.py\", line 432, in _run_callback\n",
      "    callback(*args, **kwargs)\n",
      "  File \"/home/julianarhee/anaconda2/envs/behavior/lib/python2.7/site-packages/tornado/stack_context.py\", line 300, in null_wrapper\n",
      "    return fn(*args, **kwargs)\n",
      "  File \"/home/julianarhee/anaconda2/envs/behavior/lib/python2.7/site-packages/ipykernel/kernelbase.py\", line 283, in dispatcher\n",
      "    return self.dispatch_shell(stream, msg)\n",
      "  File \"/home/julianarhee/anaconda2/envs/behavior/lib/python2.7/site-packages/ipykernel/kernelbase.py\", line 233, in dispatch_shell\n",
      "    handler(stream, idents, msg)\n",
      "  File \"/home/julianarhee/anaconda2/envs/behavior/lib/python2.7/site-packages/ipykernel/kernelbase.py\", line 399, in execute_request\n",
      "    user_expressions, allow_stdin)\n",
      "  File \"/home/julianarhee/anaconda2/envs/behavior/lib/python2.7/site-packages/ipykernel/ipkernel.py\", line 208, in do_execute\n",
      "    res = shell.run_cell(code, store_history=store_history, silent=silent)\n",
      "  File \"/home/julianarhee/anaconda2/envs/behavior/lib/python2.7/site-packages/ipykernel/zmqshell.py\", line 537, in run_cell\n",
      "    return super(ZMQInteractiveShell, self).run_cell(*args, **kwargs)\n",
      "  File \"/home/julianarhee/anaconda2/envs/behavior/lib/python2.7/site-packages/IPython/core/interactiveshell.py\", line 2714, in run_cell\n",
      "    interactivity=interactivity, compiler=compiler, result=result)\n",
      "  File \"/home/julianarhee/anaconda2/envs/behavior/lib/python2.7/site-packages/IPython/core/interactiveshell.py\", line 2818, in run_ast_nodes\n",
      "    if self.run_code(code, result):\n",
      "  File \"/home/julianarhee/anaconda2/envs/behavior/lib/python2.7/site-packages/IPython/core/interactiveshell.py\", line 2878, in run_code\n",
      "    exec(code_obj, self.user_global_ns, self.user_ns)\n",
      "  File \"<ipython-input-1-ef7707bd383e>\", line 7, in <module>\n",
      "    import datautils\n",
      "  File \"/home/julianarhee/anaconda2/envs/behavior/lib/python2.7/site-packages/datautils/__init__.py\", line 33, in <module>\n",
      "    import plot\n",
      "  File \"/home/julianarhee/anaconda2/envs/behavior/lib/python2.7/site-packages/datautils/plot/__init__.py\", line 3, in <module>\n",
      "    from . import mapped\n",
      "  File \"/home/julianarhee/anaconda2/envs/behavior/lib/python2.7/site-packages/datautils/plot/mapped.py\", line 4, in <module>\n",
      "    import pylab\n",
      "  File \"/home/julianarhee/anaconda2/envs/behavior/lib/python2.7/site-packages/pylab.py\", line 1, in <module>\n",
      "    from matplotlib.pylab import *\n",
      "  File \"/home/julianarhee/anaconda2/envs/behavior/lib/python2.7/site-packages/matplotlib/pylab.py\", line 252, in <module>\n",
      "    from matplotlib import cbook, mlab, pyplot as plt\n",
      "  File \"/home/julianarhee/anaconda2/envs/behavior/lib/python2.7/site-packages/matplotlib/pyplot.py\", line 71, in <module>\n",
      "    from matplotlib.backends import pylab_setup\n",
      "  File \"/home/julianarhee/anaconda2/envs/behavior/lib/python2.7/site-packages/matplotlib/backends/__init__.py\", line 16, in <module>\n",
      "    line for line in traceback.format_stack()\n",
      "\n",
      "\n",
      "  mpl.use('agg')\n",
      "process_datafiles.py:4: UserWarning: \n",
      "This call to matplotlib.use() has no effect because the backend has already\n",
      "been chosen; matplotlib.use() must be called *before* pylab, matplotlib.pyplot,\n",
      "or matplotlib.backends is imported for the first time.\n",
      "\n",
      "The backend was *originally* set to 'module://ipykernel.pylab.backend_inline' by the following code:\n",
      "  File \"/home/julianarhee/anaconda2/envs/behavior/lib/python2.7/runpy.py\", line 174, in _run_module_as_main\n",
      "    \"__main__\", fname, loader, pkg_name)\n",
      "  File \"/home/julianarhee/anaconda2/envs/behavior/lib/python2.7/runpy.py\", line 72, in _run_code\n",
      "    exec code in run_globals\n",
      "  File \"/home/julianarhee/anaconda2/envs/behavior/lib/python2.7/site-packages/ipykernel_launcher.py\", line 16, in <module>\n",
      "    app.launch_new_instance()\n",
      "  File \"/home/julianarhee/anaconda2/envs/behavior/lib/python2.7/site-packages/traitlets/config/application.py\", line 658, in launch_instance\n",
      "    app.start()\n",
      "  File \"/home/julianarhee/anaconda2/envs/behavior/lib/python2.7/site-packages/ipykernel/kernelapp.py\", line 499, in start\n",
      "    self.io_loop.start()\n",
      "  File \"/home/julianarhee/anaconda2/envs/behavior/lib/python2.7/site-packages/tornado/ioloop.py\", line 1073, in start\n",
      "    handler_func(fd_obj, events)\n",
      "  File \"/home/julianarhee/anaconda2/envs/behavior/lib/python2.7/site-packages/tornado/stack_context.py\", line 300, in null_wrapper\n",
      "    return fn(*args, **kwargs)\n",
      "  File \"/home/julianarhee/anaconda2/envs/behavior/lib/python2.7/site-packages/zmq/eventloop/zmqstream.py\", line 450, in _handle_events\n",
      "    self._handle_recv()\n",
      "  File \"/home/julianarhee/anaconda2/envs/behavior/lib/python2.7/site-packages/zmq/eventloop/zmqstream.py\", line 480, in _handle_recv\n",
      "    self._run_callback(callback, msg)\n",
      "  File \"/home/julianarhee/anaconda2/envs/behavior/lib/python2.7/site-packages/zmq/eventloop/zmqstream.py\", line 432, in _run_callback\n",
      "    callback(*args, **kwargs)\n",
      "  File \"/home/julianarhee/anaconda2/envs/behavior/lib/python2.7/site-packages/tornado/stack_context.py\", line 300, in null_wrapper\n",
      "    return fn(*args, **kwargs)\n",
      "  File \"/home/julianarhee/anaconda2/envs/behavior/lib/python2.7/site-packages/ipykernel/kernelbase.py\", line 283, in dispatcher\n",
      "    return self.dispatch_shell(stream, msg)\n",
      "  File \"/home/julianarhee/anaconda2/envs/behavior/lib/python2.7/site-packages/ipykernel/kernelbase.py\", line 233, in dispatch_shell\n",
      "    handler(stream, idents, msg)\n",
      "  File \"/home/julianarhee/anaconda2/envs/behavior/lib/python2.7/site-packages/ipykernel/kernelbase.py\", line 399, in execute_request\n",
      "    user_expressions, allow_stdin)\n",
      "  File \"/home/julianarhee/anaconda2/envs/behavior/lib/python2.7/site-packages/ipykernel/ipkernel.py\", line 208, in do_execute\n",
      "    res = shell.run_cell(code, store_history=store_history, silent=silent)\n",
      "  File \"/home/julianarhee/anaconda2/envs/behavior/lib/python2.7/site-packages/ipykernel/zmqshell.py\", line 537, in run_cell\n",
      "    return super(ZMQInteractiveShell, self).run_cell(*args, **kwargs)\n",
      "  File \"/home/julianarhee/anaconda2/envs/behavior/lib/python2.7/site-packages/IPython/core/interactiveshell.py\", line 2714, in run_cell\n",
      "    interactivity=interactivity, compiler=compiler, result=result)\n",
      "  File \"/home/julianarhee/anaconda2/envs/behavior/lib/python2.7/site-packages/IPython/core/interactiveshell.py\", line 2818, in run_ast_nodes\n",
      "    if self.run_code(code, result):\n",
      "  File \"/home/julianarhee/anaconda2/envs/behavior/lib/python2.7/site-packages/IPython/core/interactiveshell.py\", line 2878, in run_code\n",
      "    exec(code_obj, self.user_global_ns, self.user_ns)\n",
      "  File \"<ipython-input-1-ef7707bd383e>\", line 7, in <module>\n",
      "    import datautils\n",
      "  File \"/home/julianarhee/anaconda2/envs/behavior/lib/python2.7/site-packages/datautils/__init__.py\", line 33, in <module>\n",
      "    import plot\n",
      "  File \"/home/julianarhee/anaconda2/envs/behavior/lib/python2.7/site-packages/datautils/plot/__init__.py\", line 3, in <module>\n",
      "    from . import mapped\n",
      "  File \"/home/julianarhee/anaconda2/envs/behavior/lib/python2.7/site-packages/datautils/plot/mapped.py\", line 4, in <module>\n",
      "    import pylab\n",
      "  File \"/home/julianarhee/anaconda2/envs/behavior/lib/python2.7/site-packages/pylab.py\", line 1, in <module>\n",
      "    from matplotlib.pylab import *\n",
      "  File \"/home/julianarhee/anaconda2/envs/behavior/lib/python2.7/site-packages/matplotlib/pylab.py\", line 252, in <module>\n",
      "    from matplotlib import cbook, mlab, pyplot as plt\n",
      "  File \"/home/julianarhee/anaconda2/envs/behavior/lib/python2.7/site-packages/matplotlib/pyplot.py\", line 71, in <module>\n",
      "    from matplotlib.backends import pylab_setup\n",
      "  File \"/home/julianarhee/anaconda2/envs/behavior/lib/python2.7/site-packages/matplotlib/backends/__init__.py\", line 16, in <module>\n",
      "    line for line in traceback.format_stack()\n",
      "\n",
      "\n",
      "  mpl.use('agg')\n"
     ]
    }
   ],
   "source": [
    "import matplotlib as mpl\n",
    "import os\n",
    "import glob\n",
    "import json\n",
    "import pymworks\n",
    "import re\n",
    "import datautils\n",
    "import copy\n",
    "import math\n",
    "import time\n",
    "\n",
    "import multiprocessing as mp\n",
    "import numpy as np\n",
    "import pandas as pd\n",
    "import seaborn as sns\n",
    "import pylab as pl\n",
    "import cPickle as pkl\n",
    "from cPickle import PicklingError\n",
    "\n",
    "import scipy.stats as spstats\n",
    "import utils as util\n",
    "import process_datafiles as processd\n",
    "\n",
    "import pprint\n",
    "\n",
    "pp = pprint.PrettyPrinter(indent=4)\n",
    "\n",
    "def atoi(text):\n",
    "    return int(text) if text.isdigit() else text\n",
    "def natural_keys(text):\n",
    "    return [ atoi(c) for c in re.split('(\\d+)', text) ]\n"
   ]
  },
  {
   "cell_type": "markdown",
   "metadata": {},
   "source": [
    "# Set source and get meta info"
   ]
  },
  {
   "cell_type": "code",
   "execution_count": 2,
   "metadata": {},
   "outputs": [
    {
     "name": "stdout",
     "output_type": "stream",
     "text": [
      "Loading existing metadata: /n/coxfs01/behavior-data/threeport/metadata.pkl\n"
     ]
    }
   ],
   "source": [
    "rootdir = '/n/coxfs01/behavior-data'\n",
    "paradigm = 'threeport'\n",
    "\n",
    "metadata = util.get_metadata(paradigm, rootdir=rootdir, create_meta=False)\n"
   ]
  },
  {
   "cell_type": "code",
   "execution_count": 4,
   "metadata": {},
   "outputs": [],
   "source": [
    "import assign_phase as ph"
   ]
  },
  {
   "cell_type": "markdown",
   "metadata": {},
   "source": [
    "# Assign phases to each datafile"
   ]
  },
  {
   "cell_type": "code",
   "execution_count": 6,
   "metadata": {},
   "outputs": [],
   "source": [
    "cohort = 'AL'"
   ]
  },
  {
   "cell_type": "code",
   "execution_count": 21,
   "metadata": {},
   "outputs": [
    {
     "data": {
      "text/plain": [
       "{'depth_rotation': 0.0,\n",
       " 'expected_depth_rotations': array([-60., -55., -50., -45., -40., -35., -30., -25., -20., -15., -10.,\n",
       "         -5.,   0.,   5.,  10.,  15.,  20.,  25.,  30.,  35.,  40.,  45.,\n",
       "         50.,  55.,  60.]),\n",
       " 'expected_sizes': array([15. , 17.5, 20. , 22.5, 25. , 27.5, 30. , 32.5, 35. , 37.5, 40. ]),\n",
       " 'fine_depth_rotations': array([-60., -55., -50., -45., -40., -35., -30., -25., -20., -15., -10.,\n",
       "         -5.,   0.,   5.,  10.,  15.,  20.,  25.,  30.,  35.,  40.,  45.,\n",
       "         50.,  55.,  60.]),\n",
       " 'planar_rotation': 0.0,\n",
       " 'size': 40.0,\n",
       " 'standard_depth_rotations': array([-60., -45., -30., -15.,   0.,  15.,  30.,  45.,  60.])}"
      ]
     },
     "execution_count": 21,
     "metadata": {},
     "output_type": "execute_result"
    }
   ],
   "source": [
    "\n",
    "defaults = ph.get_default_params(cohort)\n",
    "defaults"
   ]
  },
  {
   "cell_type": "code",
   "execution_count": 22,
   "metadata": {},
   "outputs": [],
   "source": [
    "default_size = defaults['size']\n",
    "default_depth_rotation = defaults['depth_rotation']\n",
    "default_planar_rotation = defaults['planar_rotation']\n",
    "\n",
    "expected_sizes = defaults['expected_sizes']\n",
    "expected_drots = defaults['expected_depth_rotations']\n",
    "expected_size_interval = np.diff(expected_sizes).mean()\n",
    "expected_drot_interval = np.diff(expected_drots).mean()\n"
   ]
  },
  {
   "cell_type": "code",
   "execution_count": 19,
   "metadata": {},
   "outputs": [],
   "source": [
    "# phase_lookup = {0: 'manual',\n",
    "#                 1: 'default',\n",
    "#                 2: 'size',\n",
    "#                 3: 'depth_rotation',\n",
    "#                 4: 'cross',\n",
    "#                 5: 'size_and_depth_rotation',\n",
    "#                 6: 'depth_and_planar_rotation',\n",
    "#                 7: 'morph',\n",
    "#                 8: 'newstimuli',\n",
    "#                 9: 'fine_grained_size',\n",
    "#                 10: 'fine_grained_depth_rotation',\n",
    "#                 11: 'fine_grained_size_and_depth_rotation',\n",
    "#                 12: 'transparency',\n",
    "#                 13: 'clutter',\n",
    "#                 -1: 'other'}\n",
    "\n",
    "# default_size = 30\n",
    "# default_depth_rotation = 0.\n",
    "# default_planar_rotation = 0.\n",
    "\n",
    "# if cohort in ['AK', 'AL', 'AM']:\n",
    "#     expected_sizes = np.linspace(15, 40, 11.)\n",
    "#     expected_drots = np.linspace(-60, 60, 25.)\n",
    "#     default_size = 40\n",
    "    \n",
    "# elif cohort in ['AG', 'AJ']:\n",
    "#     expected_sizes = np.linspace(15, 40, 6.)\n",
    "#     expected_drots = np.linspace(-60, 60, 9.)\n",
    "\n",
    "\n",
    "# expected_size_interval = np.diff(expected_sizes).mean()\n",
    "# expected_drot_interval = np.diff(expected_drots).mean()\n",
    "\n",
    "\n",
    "new_stim_descs = ['stimB', 'stimC', 'NewObjects']\n",
    "\n",
    "\n",
    "# array(['', 'b', 'big', 'stimB', 'stimBlowerbound', 'stimClowerbound',\n",
    "#        'stimBupperbound', 'stimCupperbound', 'small', 'stimC', 'c',\n",
    "#        'stimCalwaysReward', 'alwaysReward', 'size', 'adeptrotl',\n",
    "#        'bdeptrotr', 'deptrotl', 'adeptrotr', 'asize', 'bdeptrotl',\n",
    "#        'background', 'deptrotr', 'balwaysReward', 'initial', 'deprotl',\n",
    "#        'backgroundalwaysReward', 'bsize', 'morphs', 'aalwaysReward',\n",
    "#        'empty', 'aasize', 'a', 'probeNewObjects', 'occluded', 'r', 'd',\n",
    "#        'transparency', 'nominrt'], dtype=object)\n"
   ]
  },
  {
   "cell_type": "code",
   "execution_count": 469,
   "metadata": {},
   "outputs": [],
   "source": [
    "#nfiles = len([f for f, g in animal_meta.groupby(['animalid', 'datasource'])])\n"
   ]
  },
  {
   "cell_type": "code",
   "execution_count": 8,
   "metadata": {},
   "outputs": [
    {
     "data": {
      "text/plain": [
       "{'depth_rotation': 0.0,\n",
       " 'expected_depth_rotations': array([-60., -55., -50., -45., -40., -35., -30., -25., -20., -15., -10.,\n",
       "         -5.,   0.,   5.,  10.,  15.,  20.,  25.,  30.,  35.,  40.,  45.,\n",
       "         50.,  55.,  60.]),\n",
       " 'expected_sizes': array([15. , 17.5, 20. , 22.5, 25. , 27.5, 30. , 32.5, 35. , 37.5, 40. ]),\n",
       " 'fine_depth_rotations': array([-60., -55., -50., -45., -40., -35., -30., -25., -20., -15., -10.,\n",
       "         -5.,   0.,   5.,  10.,  15.,  20.,  25.,  30.,  35.,  40.,  45.,\n",
       "         50.,  55.,  60.]),\n",
       " 'planar_rotation': 0.0,\n",
       " 'size': 40.0,\n",
       " 'standard_depth_rotations': array([-60., -45., -30., -15.,   0.,  15.,  30.,  45.,  60.])}"
      ]
     },
     "execution_count": 8,
     "metadata": {},
     "output_type": "execute_result"
    }
   ],
   "source": [
    "defaults"
   ]
  },
  {
   "cell_type": "code",
   "execution_count": 69,
   "metadata": {},
   "outputs": [],
   "source": [
    "exclude_ixs = []\n",
    "phasedata = []\n",
    "animal_meta = metadata[metadata['cohort']== cohort]\n",
    "\n",
    "animalid = 'AL16'\n",
    "session = 20170815\n"
   ]
  },
  {
   "cell_type": "code",
   "execution_count": 70,
   "metadata": {},
   "outputs": [
    {
     "data": {
      "text/plain": [
       "('AL16', 20170815)"
      ]
     },
     "execution_count": 70,
     "metadata": {},
     "output_type": "execute_result"
    }
   ],
   "source": [
    "animalid, session"
   ]
  },
  {
   "cell_type": "code",
   "execution_count": 71,
   "metadata": {
    "scrolled": true
   },
   "outputs": [],
   "source": [
    "animal_meta = animal_meta[(animal_meta['animalid']==animalid) & (animal_meta['session']==session)]\n"
   ]
  },
  {
   "cell_type": "code",
   "execution_count": 72,
   "metadata": {},
   "outputs": [
    {
     "data": {
      "text/html": [
       "<div>\n",
       "<style scoped>\n",
       "    .dataframe tbody tr th:only-of-type {\n",
       "        vertical-align: middle;\n",
       "    }\n",
       "\n",
       "    .dataframe tbody tr th {\n",
       "        vertical-align: top;\n",
       "    }\n",
       "\n",
       "    .dataframe thead th {\n",
       "        text-align: right;\n",
       "    }\n",
       "</style>\n",
       "<table border=\"1\" class=\"dataframe\">\n",
       "  <thead>\n",
       "    <tr style=\"text-align: right;\">\n",
       "      <th></th>\n",
       "      <th>animalid</th>\n",
       "      <th>cohort</th>\n",
       "      <th>datasource</th>\n",
       "      <th>session</th>\n",
       "      <th>suffix</th>\n",
       "    </tr>\n",
       "  </thead>\n",
       "  <tbody>\n",
       "    <tr>\n",
       "      <th>454</th>\n",
       "      <td>AL16</td>\n",
       "      <td>AL</td>\n",
       "      <td>/n/coxfs01/behavior-data/threeport/cohort_data...</td>\n",
       "      <td>20170815</td>\n",
       "      <td>b</td>\n",
       "    </tr>\n",
       "    <tr>\n",
       "      <th>455</th>\n",
       "      <td>AL16</td>\n",
       "      <td>AL</td>\n",
       "      <td>/n/coxfs01/behavior-data/threeport/cohort_data...</td>\n",
       "      <td>20170815</td>\n",
       "      <td></td>\n",
       "    </tr>\n",
       "  </tbody>\n",
       "</table>\n",
       "</div>"
      ],
      "text/plain": [
       "    animalid cohort                                         datasource  \\\n",
       "454     AL16     AL  /n/coxfs01/behavior-data/threeport/cohort_data...   \n",
       "455     AL16     AL  /n/coxfs01/behavior-data/threeport/cohort_data...   \n",
       "\n",
       "      session suffix  \n",
       "454  20170815      b  \n",
       "455  20170815         "
      ]
     },
     "execution_count": 72,
     "metadata": {},
     "output_type": "execute_result"
    }
   ],
   "source": [
    "animal_meta"
   ]
  },
  {
   "cell_type": "code",
   "execution_count": 34,
   "metadata": {},
   "outputs": [
    {
     "data": {
      "text/plain": [
       "(animalid                                                   AL16\n",
       " cohort                                                       AL\n",
       " datasource    /n/coxfs01/behavior-data/threeport/cohort_data...\n",
       " session                                                20170815\n",
       " suffix                                                         \n",
       " Name: 455, dtype: object,\n",
       " '/n/coxfs01/behavior-data/threeport/cohort_data/AL/raw/AL16_170815.mwk')"
      ]
     },
     "execution_count": 34,
     "metadata": {},
     "output_type": "execute_result"
    }
   ],
   "source": [
    "mgroup = animal_meta.loc[455]\n",
    "dfn = mgroup['datasource']\n",
    "mgroup, dfn"
   ]
  },
  {
   "cell_type": "code",
   "execution_count": 63,
   "metadata": {},
   "outputs": [],
   "source": [
    "phase = -1\n",
    "#(animalid, cohort, dsource, session, sfx), = mgroup.values\n",
    "\n",
    "curr_trials, curr_flags, metainfo = util.parse_mw_file(dfn, create_new=False)\n",
    "\n",
    "# if curr_trials is None or len(curr_trials)==0:\n",
    "#     exclude_ixs.extend(mgroup.index.tolist())\n",
    "#     continue\n",
    "\n",
    "sizes = sorted(np.unique([t['size'] for t in curr_trials]))\n",
    "drots = sorted(np.unique([t['depth_rotation'] for t in curr_trials]))\n",
    "prots = sorted(np.unique([t['rotation'] for t in curr_trials]))\n",
    "\n",
    "tested_size_interval = np.median(np.diff(sizes))\n",
    "tested_drot_interval = np.median(np.diff(drots))\n",
    "\n",
    "protocol = metainfo['protocol']\n",
    "experiment_folder = metainfo['experiment']\n",
    "\n",
    "alpha_values = []\n",
    "if any(['alpha_multiplier' in s.keys() for s in curr_trials]):\n",
    "    alpha_values = np.unique([s['alpha_multiplier'] for s in curr_trials])\n"
   ]
  },
  {
   "cell_type": "code",
   "execution_count": 65,
   "metadata": {},
   "outputs": [
    {
     "name": "stdout",
     "output_type": "stream",
     "text": [
      "2\n"
     ]
    },
    {
     "name": "stderr",
     "output_type": "stream",
     "text": [
      "/home/julianarhee/anaconda2/envs/behavior/lib/python2.7/site-packages/ipykernel_launcher.py:3: DeprecationWarning: elementwise == comparison failed; this will raise an error in the future.\n",
      "  This is separate from the ipykernel package so we can avoid doing imports until\n"
     ]
    }
   ],
   "source": [
    "if len(sizes) > 1 and (len(drots)==1 and len(prots)==1):\n",
    "    #if metainfo['protocol'] in ['Staircase through shape parameters', '']:        \n",
    "    if ( (expected_sizes==sizes) is False):\n",
    "        if (tested_size_interval < expected_size_interval):\n",
    "            phase = 9\n",
    "        elif (tested_size_interval==expected_size_interval):\n",
    "            if (len(sizes) > len(expected_sizes)-1):\n",
    "                # Probably just screwed up indexing\n",
    "                phase = 2\n",
    "            elif all([d in expected_sizes for d in sizes]) : \n",
    "                # only testing a subset of the expected values\n",
    "                phase = 2\n",
    "    elif all(expected_sizes==sizes):\n",
    "        print(\"h\")\n",
    "        phase = 2\n",
    "print(phase)"
   ]
  },
  {
   "cell_type": "code",
   "execution_count": 64,
   "metadata": {},
   "outputs": [
    {
     "data": {
      "text/plain": [
       "[0]"
      ]
     },
     "execution_count": 64,
     "metadata": {},
     "output_type": "execute_result"
    }
   ],
   "source": [
    "drots"
   ]
  },
  {
   "cell_type": "code",
   "execution_count": null,
   "metadata": {},
   "outputs": [],
   "source": []
  },
  {
   "cell_type": "code",
   "execution_count": 75,
   "metadata": {
    "scrolled": true
   },
   "outputs": [
    {
     "name": "stderr",
     "output_type": "stream",
     "text": [
      "/home/julianarhee/anaconda2/envs/behavior/lib/python2.7/site-packages/ipykernel_launcher.py:58: DeprecationWarning: elementwise == comparison failed; this will raise an error in the future.\n",
      "/home/julianarhee/anaconda2/envs/behavior/lib/python2.7/site-packages/ipykernel_launcher.py:130: SettingWithCopyWarning: \n",
      "A value is trying to be set on a copy of a slice from a DataFrame.\n",
      "Try using .loc[row_indexer,col_indexer] = value instead\n",
      "\n",
      "See the caveats in the documentation: http://pandas.pydata.org/pandas-docs/stable/indexing.html#indexing-view-versus-copy\n",
      "/home/julianarhee/anaconda2/envs/behavior/lib/python2.7/site-packages/ipykernel_launcher.py:131: SettingWithCopyWarning: \n",
      "A value is trying to be set on a copy of a slice from a DataFrame.\n",
      "Try using .loc[row_indexer,col_indexer] = value instead\n",
      "\n",
      "See the caveats in the documentation: http://pandas.pydata.org/pandas-docs/stable/indexing.html#indexing-view-versus-copy\n",
      "/home/julianarhee/anaconda2/envs/behavior/lib/python2.7/site-packages/ipykernel_launcher.py:132: SettingWithCopyWarning: \n",
      "A value is trying to be set on a copy of a slice from a DataFrame.\n",
      "Try using .loc[row_indexer,col_indexer] = value instead\n",
      "\n",
      "See the caveats in the documentation: http://pandas.pydata.org/pandas-docs/stable/indexing.html#indexing-view-versus-copy\n"
     ]
    },
    {
     "name": "stdout",
     "output_type": "stream",
     "text": [
      "('AL16', '20170815', 2)\n",
      "('AL16', '20170815b', 5)\n"
     ]
    },
    {
     "name": "stderr",
     "output_type": "stream",
     "text": [
      "/home/julianarhee/anaconda2/envs/behavior/lib/python2.7/site-packages/ipykernel_launcher.py:93: DeprecationWarning: elementwise == comparison failed; this will raise an error in the future.\n"
     ]
    },
    {
     "ename": "TypeError",
     "evalue": "first argument must be an iterable of pandas objects, you passed an object of type \"DataFrame\"",
     "output_type": "error",
     "traceback": [
      "\u001b[0;31m---------------------------------------------------------------------------\u001b[0m",
      "\u001b[0;31mTypeError\u001b[0m                                 Traceback (most recent call last)",
      "\u001b[0;32m<ipython-input-75-0ed7eb96b89a>\u001b[0m in \u001b[0;36m<module>\u001b[0;34m()\u001b[0m\n\u001b[1;32m    134\u001b[0m     \u001b[0mphasedata\u001b[0m\u001b[0;34m.\u001b[0m\u001b[0mappend\u001b[0m\u001b[0;34m(\u001b[0m\u001b[0mmgroup\u001b[0m\u001b[0;34m)\u001b[0m\u001b[0;34m\u001b[0m\u001b[0m\n\u001b[1;32m    135\u001b[0m \u001b[0;34m\u001b[0m\u001b[0m\n\u001b[0;32m--> 136\u001b[0;31m \u001b[0mphasedata\u001b[0m \u001b[0;34m=\u001b[0m \u001b[0mpd\u001b[0m\u001b[0;34m.\u001b[0m\u001b[0mconcat\u001b[0m\u001b[0;34m(\u001b[0m\u001b[0mphasedata\u001b[0m\u001b[0;34m,\u001b[0m \u001b[0maxis\u001b[0m\u001b[0;34m=\u001b[0m\u001b[0;36m0\u001b[0m\u001b[0;34m)\u001b[0m\u001b[0;34m\u001b[0m\u001b[0m\n\u001b[0m",
      "\u001b[0;32m/home/julianarhee/anaconda2/envs/behavior/lib/python2.7/site-packages/pandas/core/reshape/concat.pyc\u001b[0m in \u001b[0;36mconcat\u001b[0;34m(objs, axis, join, join_axes, ignore_index, keys, levels, names, verify_integrity, sort, copy)\u001b[0m\n\u001b[1;32m    223\u001b[0m                        \u001b[0mkeys\u001b[0m\u001b[0;34m=\u001b[0m\u001b[0mkeys\u001b[0m\u001b[0;34m,\u001b[0m \u001b[0mlevels\u001b[0m\u001b[0;34m=\u001b[0m\u001b[0mlevels\u001b[0m\u001b[0;34m,\u001b[0m \u001b[0mnames\u001b[0m\u001b[0;34m=\u001b[0m\u001b[0mnames\u001b[0m\u001b[0;34m,\u001b[0m\u001b[0;34m\u001b[0m\u001b[0m\n\u001b[1;32m    224\u001b[0m                        \u001b[0mverify_integrity\u001b[0m\u001b[0;34m=\u001b[0m\u001b[0mverify_integrity\u001b[0m\u001b[0;34m,\u001b[0m\u001b[0;34m\u001b[0m\u001b[0m\n\u001b[0;32m--> 225\u001b[0;31m                        copy=copy, sort=sort)\n\u001b[0m\u001b[1;32m    226\u001b[0m     \u001b[0;32mreturn\u001b[0m \u001b[0mop\u001b[0m\u001b[0;34m.\u001b[0m\u001b[0mget_result\u001b[0m\u001b[0;34m(\u001b[0m\u001b[0;34m)\u001b[0m\u001b[0;34m\u001b[0m\u001b[0m\n\u001b[1;32m    227\u001b[0m \u001b[0;34m\u001b[0m\u001b[0m\n",
      "\u001b[0;32m/home/julianarhee/anaconda2/envs/behavior/lib/python2.7/site-packages/pandas/core/reshape/concat.pyc\u001b[0m in \u001b[0;36m__init__\u001b[0;34m(self, objs, axis, join, join_axes, keys, levels, names, ignore_index, verify_integrity, copy, sort)\u001b[0m\n\u001b[1;32m    239\u001b[0m             raise TypeError('first argument must be an iterable of pandas '\n\u001b[1;32m    240\u001b[0m                             \u001b[0;34m'objects, you passed an object of type '\u001b[0m\u001b[0;34m\u001b[0m\u001b[0m\n\u001b[0;32m--> 241\u001b[0;31m                             '\"{name}\"'.format(name=type(objs).__name__))\n\u001b[0m\u001b[1;32m    242\u001b[0m \u001b[0;34m\u001b[0m\u001b[0m\n\u001b[1;32m    243\u001b[0m         \u001b[0;32mif\u001b[0m \u001b[0mjoin\u001b[0m \u001b[0;34m==\u001b[0m \u001b[0;34m'outer'\u001b[0m\u001b[0;34m:\u001b[0m\u001b[0;34m\u001b[0m\u001b[0m\n",
      "\u001b[0;31mTypeError\u001b[0m: first argument must be an iterable of pandas objects, you passed an object of type \"DataFrame\""
     ]
    }
   ],
   "source": [
    "# exclude_ixs = []\n",
    "# phasedata = []\n",
    "# animal_meta = metadata[metadata['cohort']== cohort]\n",
    "\n",
    "for (animalid, dfn), mgroup in animal_meta.sort_values(by=['animalid', 'session']).groupby(['animalid', 'datasource']):\n",
    "    \n",
    "    phase = -1\n",
    "    (animalid, cohort, dsource, session, sfx), = mgroup.values\n",
    "\n",
    "    curr_trials, curr_flags, metainfo = util.parse_mw_file(dfn, create_new=False)\n",
    "    \n",
    "    if curr_trials is None or len(curr_trials)==0:\n",
    "        exclude_ixs.extend(mgroup.index.tolist())\n",
    "        continue\n",
    "        \n",
    "    sizes = sorted(np.unique([t['size'] for t in curr_trials]))\n",
    "    drots = sorted(np.unique([t['depth_rotation'] for t in curr_trials]))\n",
    "    prots = sorted(np.unique([t['rotation'] for t in curr_trials]))\n",
    "    \n",
    "    tested_size_interval = np.median(np.diff(sizes))\n",
    "    tested_drot_interval = np.median(np.diff(drots))\n",
    "\n",
    "\n",
    "    protocol = metainfo['protocol']\n",
    "    experiment_folder = metainfo['experiment']\n",
    "    \n",
    "    alpha_values = []\n",
    "    if any(['alpha_multiplier' in s.keys() for s in curr_trials]):\n",
    "        alpha_values = np.unique([s['alpha_multiplier'] for s in curr_trials])\n",
    "    \n",
    "#     if session == 20180625:\n",
    "#         break\n",
    "\n",
    "    if 'morph' in protocol or any(['morph' in s['name'] for s in S.trials]):\n",
    "        phase = 7\n",
    "    \n",
    "    elif 'newstim' in metainfo['experiment'] or any([descr in sfx for descr in new_stim_descs]):\n",
    "        phase = 8\n",
    "\n",
    "    elif len(alpha_values) > 1 or any([a != 1 for a in alpha_values]):\n",
    "        phase = 12\n",
    "\n",
    "    elif any(['background' in desc for desc in [sfx, metainfo['experiment']]]):\n",
    "        phase = 13\n",
    "    \n",
    "    elif 'occluded' in sfx:\n",
    "        phase = 13\n",
    "    \n",
    "    # ====== PHASE 1 ====================================\n",
    "    elif len(sizes) == 1 and len(drots) == 1 and len(prots)==1:\n",
    "        #if protocol in ['Initiate VIsual Pres Protocol', 'Initiate Visual Pres Protocol', '']:\n",
    "        if (sizes[0]==default_size and drots[0]==default_depth_rotation and prots[0]==default_planar_rotation):\n",
    "            phase = 1\n",
    "    \n",
    "    # ====== PHASE 2 ====================================\n",
    "    elif len(sizes) > 1 and (len(drots)==1 and len(prots)==1):\n",
    "        #if metainfo['protocol'] in ['Staircase through shape parameters', '']:        \n",
    "        if ( (expected_sizes==sizes) is False):\n",
    "            if (tested_size_interval < expected_size_interval):\n",
    "                phase = 9\n",
    "            elif (tested_size_interval==expected_size_interval):\n",
    "                if (len(sizes) > len(expected_sizes)-1):\n",
    "                    # Probably just screwed up indexing\n",
    "                    phase = 2\n",
    "                elif all([d in expected_sizes for d in sizes]) : \n",
    "                    # only testing a subset of the expected values\n",
    "                    phase = 2\n",
    "        elif all(expected_sizes==sizes):\n",
    "            phase = 2\n",
    "            \n",
    "    # ====== PHASE 3 ====================================\n",
    "    elif len(drots) > 1 and (len(sizes)==1 and len(prots)==1):\n",
    "        #if metainfo['protocol'] in ['Staircase through shape parameters', '']:\n",
    "        if ( (expected_drots==drots) is False):\n",
    "            if (tested_drot_interval < expected_drot_interval):\n",
    "                # Fine-grained spacing\n",
    "                phase = 10\n",
    "            elif (tested_drot_interval==expected_drot_interval):\n",
    "                if (len(drots) > len(expected_drots)-1):\n",
    "                    # Probably just screwed up indexing\n",
    "                    phase = 3\n",
    "                elif all([d in expected_drots for d in drots]): \n",
    "                    # only testing a subset of the expected values\n",
    "                    phase = 3\n",
    "        elif all(expected_drots==drots):\n",
    "            phase = 3\n",
    "            \n",
    "    # ====== PHASE 4/5 ====================================\n",
    "    elif len(drots) > 1 and len(sizes) > 1 and len(prots) == 1:\n",
    "        #if metainfo['protocol'] in ['Test all transformations', '']:\n",
    "        off_cross_transforms = list(set([(t['size'], t['depth_rotation']) for t in curr_trials \\\n",
    "                                         if t['size']!=default_size \\\n",
    "                                         and t['depth_rotation']!=default_depth_rotation]))\n",
    "        \n",
    "        if ( (expected_drots==drots) is False) or ( (expected_sizes==sizes) is False):\n",
    "            if (tested_size_interval < expected_size_interval) or (tested_drot_interval < expected_drot_interval):\n",
    "                # Fine-grained size/rotation transformations\n",
    "                phase = 11\n",
    "#             elif (len(drots) == len(expected_drots)-1) or (len(sizes) == len(expected_sizes)-1):\n",
    "#                 # Probably just screwed up indexing\n",
    "#                 if len(off_cross_transforms) == 0:\n",
    "#                     phase = 4 if len(off_cross_transforms) == 0 else 5\n",
    "#             elif ((expected_drots==drots) is False):\n",
    "#                 if all(sizes==expected_sizes):\n",
    "#                     # Another screw up, just not changing 1 of the depth-rot sides\n",
    "#                     phase = 4 if len(off_cross_transforms)==0 else 5\n",
    "#             elif ((expected_sizes==sizes) is False):\n",
    "#                 if all(drots==expected_drots):\n",
    "#                     # Another screw up, just not changing 1 of the sizes\n",
    "#                     phase = 4 if len(off_cross_transforms)==0 else 5       \n",
    "            elif all([d in expected_drots for d in drots]) and all([s in expected_sizes for s in sizes]):\n",
    "                phase = 4 if (len(off_cross_transforms)==0) else 5\n",
    "        else:\n",
    "            # STANDARD\n",
    "            if all(drots==expected_drots) and all(sizes==expected_sizes):\n",
    "                phase = 4 if (len(off_cross_transforms)==0) else 5\n",
    "\n",
    "    # ====== PHASE 6 (in-plane) ====================================\n",
    "    elif len(prots) > 1 and len(sizes)==1:\n",
    "        if metainfo['protocol'] == 'Test all transformations':\n",
    "            phase = 6\n",
    "    \n",
    "    else:\n",
    "        print(\"NO CLUE.\")\n",
    "        print(\"[%s, %s%s] unknown protocol: %s\" % (animalid, session, suffix, protocol) )\n",
    "\n",
    "        print(\"Size\", sizes)\n",
    "        print(\"D-rots\", drots)\n",
    "        print(\"P-rots\", prots)\n",
    "    \n",
    "    print(animalid, '%s%s' % (session, sfx), phase)\n",
    "    mgroup['phase'] = [phase for _ in np.arange(0, len(mgroup))]\n",
    "    mgroup['protocol'] = [protocol for _ in np.arange(0, len(mgroup))]\n",
    "    mgroup['experiment'] = [experiment_folder for _ in np.arange(0, len(mgroup))]\n",
    "    \n",
    "    phasedata.append(mgroup)\n",
    "    \n",
    "phasedata = pd.concat(phasedata, axis=0)\n"
   ]
  },
  {
   "cell_type": "code",
   "execution_count": null,
   "metadata": {},
   "outputs": [],
   "source": []
  },
  {
   "cell_type": "code",
   "execution_count": null,
   "metadata": {},
   "outputs": [],
   "source": []
  },
  {
   "cell_type": "code",
   "execution_count": 497,
   "metadata": {},
   "outputs": [],
   "source": [
    "phase_dfile = os.path.join(rootdir, paradigm, 'processed', 'meta', 'phases_%s.pkl' % cohort)\n",
    "with open(phase_dfile, 'wb') as f:\n",
    "    pkl.dump(phasedata, f, protocol=pkl.HIGHEST_PROTOCOL)\n",
    "        "
   ]
  },
  {
   "cell_type": "code",
   "execution_count": 500,
   "metadata": {},
   "outputs": [
    {
     "data": {
      "text/plain": [
       "'/n/coxfs01/behavior-data/threeport/processed/meta/phases_AK.pkl'"
      ]
     },
     "execution_count": 500,
     "metadata": {},
     "output_type": "execute_result"
    }
   ],
   "source": [
    "phase_dfile"
   ]
  },
  {
   "cell_type": "code",
   "execution_count": null,
   "metadata": {},
   "outputs": [],
   "source": []
  },
  {
   "cell_type": "code",
   "execution_count": 501,
   "metadata": {},
   "outputs": [
    {
     "data": {
      "text/plain": [
       "array([ 1,  2,  3,  5, -1, 12])"
      ]
     },
     "execution_count": 501,
     "metadata": {},
     "output_type": "execute_result"
    }
   ],
   "source": [
    "phasedata['phase'].unique()"
   ]
  },
  {
   "cell_type": "code",
   "execution_count": 502,
   "metadata": {
    "scrolled": true
   },
   "outputs": [
    {
     "data": {
      "text/html": [
       "<div>\n",
       "<style scoped>\n",
       "    .dataframe tbody tr th:only-of-type {\n",
       "        vertical-align: middle;\n",
       "    }\n",
       "\n",
       "    .dataframe tbody tr th {\n",
       "        vertical-align: top;\n",
       "    }\n",
       "\n",
       "    .dataframe thead th {\n",
       "        text-align: right;\n",
       "    }\n",
       "</style>\n",
       "<table border=\"1\" class=\"dataframe\">\n",
       "  <thead>\n",
       "    <tr style=\"text-align: right;\">\n",
       "      <th></th>\n",
       "      <th></th>\n",
       "      <th>cohort</th>\n",
       "      <th>datasource</th>\n",
       "      <th>session</th>\n",
       "      <th>suffix</th>\n",
       "      <th>protocol</th>\n",
       "      <th>experiment</th>\n",
       "    </tr>\n",
       "    <tr>\n",
       "      <th>animalid</th>\n",
       "      <th>phase</th>\n",
       "      <th></th>\n",
       "      <th></th>\n",
       "      <th></th>\n",
       "      <th></th>\n",
       "      <th></th>\n",
       "      <th></th>\n",
       "    </tr>\n",
       "  </thead>\n",
       "  <tbody>\n",
       "    <tr>\n",
       "      <th rowspan=\"6\" valign=\"top\">AK1</th>\n",
       "      <th>-1</th>\n",
       "      <td>1</td>\n",
       "      <td>1</td>\n",
       "      <td>1</td>\n",
       "      <td>1</td>\n",
       "      <td>1</td>\n",
       "      <td>1</td>\n",
       "    </tr>\n",
       "    <tr>\n",
       "      <th>1</th>\n",
       "      <td>8</td>\n",
       "      <td>8</td>\n",
       "      <td>8</td>\n",
       "      <td>8</td>\n",
       "      <td>8</td>\n",
       "      <td>8</td>\n",
       "    </tr>\n",
       "    <tr>\n",
       "      <th>2</th>\n",
       "      <td>2</td>\n",
       "      <td>2</td>\n",
       "      <td>2</td>\n",
       "      <td>2</td>\n",
       "      <td>2</td>\n",
       "      <td>2</td>\n",
       "    </tr>\n",
       "    <tr>\n",
       "      <th>3</th>\n",
       "      <td>2</td>\n",
       "      <td>2</td>\n",
       "      <td>2</td>\n",
       "      <td>2</td>\n",
       "      <td>2</td>\n",
       "      <td>2</td>\n",
       "    </tr>\n",
       "    <tr>\n",
       "      <th>5</th>\n",
       "      <td>90</td>\n",
       "      <td>90</td>\n",
       "      <td>90</td>\n",
       "      <td>90</td>\n",
       "      <td>90</td>\n",
       "      <td>90</td>\n",
       "    </tr>\n",
       "    <tr>\n",
       "      <th>12</th>\n",
       "      <td>11</td>\n",
       "      <td>11</td>\n",
       "      <td>11</td>\n",
       "      <td>11</td>\n",
       "      <td>11</td>\n",
       "      <td>11</td>\n",
       "    </tr>\n",
       "    <tr>\n",
       "      <th rowspan=\"4\" valign=\"top\">AK10</th>\n",
       "      <th>1</th>\n",
       "      <td>11</td>\n",
       "      <td>11</td>\n",
       "      <td>11</td>\n",
       "      <td>11</td>\n",
       "      <td>11</td>\n",
       "      <td>11</td>\n",
       "    </tr>\n",
       "    <tr>\n",
       "      <th>2</th>\n",
       "      <td>3</td>\n",
       "      <td>3</td>\n",
       "      <td>3</td>\n",
       "      <td>3</td>\n",
       "      <td>3</td>\n",
       "      <td>3</td>\n",
       "    </tr>\n",
       "    <tr>\n",
       "      <th>3</th>\n",
       "      <td>10</td>\n",
       "      <td>10</td>\n",
       "      <td>10</td>\n",
       "      <td>10</td>\n",
       "      <td>10</td>\n",
       "      <td>10</td>\n",
       "    </tr>\n",
       "    <tr>\n",
       "      <th>5</th>\n",
       "      <td>88</td>\n",
       "      <td>88</td>\n",
       "      <td>88</td>\n",
       "      <td>88</td>\n",
       "      <td>88</td>\n",
       "      <td>88</td>\n",
       "    </tr>\n",
       "    <tr>\n",
       "      <th rowspan=\"4\" valign=\"top\">AK11</th>\n",
       "      <th>1</th>\n",
       "      <td>14</td>\n",
       "      <td>14</td>\n",
       "      <td>14</td>\n",
       "      <td>14</td>\n",
       "      <td>14</td>\n",
       "      <td>14</td>\n",
       "    </tr>\n",
       "    <tr>\n",
       "      <th>2</th>\n",
       "      <td>2</td>\n",
       "      <td>2</td>\n",
       "      <td>2</td>\n",
       "      <td>2</td>\n",
       "      <td>2</td>\n",
       "      <td>2</td>\n",
       "    </tr>\n",
       "    <tr>\n",
       "      <th>3</th>\n",
       "      <td>4</td>\n",
       "      <td>4</td>\n",
       "      <td>4</td>\n",
       "      <td>4</td>\n",
       "      <td>4</td>\n",
       "      <td>4</td>\n",
       "    </tr>\n",
       "    <tr>\n",
       "      <th>5</th>\n",
       "      <td>91</td>\n",
       "      <td>91</td>\n",
       "      <td>91</td>\n",
       "      <td>91</td>\n",
       "      <td>91</td>\n",
       "      <td>91</td>\n",
       "    </tr>\n",
       "    <tr>\n",
       "      <th rowspan=\"5\" valign=\"top\">AK12</th>\n",
       "      <th>-1</th>\n",
       "      <td>1</td>\n",
       "      <td>1</td>\n",
       "      <td>1</td>\n",
       "      <td>1</td>\n",
       "      <td>1</td>\n",
       "      <td>1</td>\n",
       "    </tr>\n",
       "    <tr>\n",
       "      <th>1</th>\n",
       "      <td>8</td>\n",
       "      <td>8</td>\n",
       "      <td>8</td>\n",
       "      <td>8</td>\n",
       "      <td>8</td>\n",
       "      <td>8</td>\n",
       "    </tr>\n",
       "    <tr>\n",
       "      <th>2</th>\n",
       "      <td>2</td>\n",
       "      <td>2</td>\n",
       "      <td>2</td>\n",
       "      <td>2</td>\n",
       "      <td>2</td>\n",
       "      <td>2</td>\n",
       "    </tr>\n",
       "    <tr>\n",
       "      <th>3</th>\n",
       "      <td>2</td>\n",
       "      <td>2</td>\n",
       "      <td>2</td>\n",
       "      <td>2</td>\n",
       "      <td>2</td>\n",
       "      <td>2</td>\n",
       "    </tr>\n",
       "    <tr>\n",
       "      <th>5</th>\n",
       "      <td>91</td>\n",
       "      <td>91</td>\n",
       "      <td>91</td>\n",
       "      <td>91</td>\n",
       "      <td>91</td>\n",
       "      <td>91</td>\n",
       "    </tr>\n",
       "    <tr>\n",
       "      <th rowspan=\"6\" valign=\"top\">AK2</th>\n",
       "      <th>-1</th>\n",
       "      <td>2</td>\n",
       "      <td>2</td>\n",
       "      <td>2</td>\n",
       "      <td>2</td>\n",
       "      <td>2</td>\n",
       "      <td>2</td>\n",
       "    </tr>\n",
       "    <tr>\n",
       "      <th>1</th>\n",
       "      <td>18</td>\n",
       "      <td>18</td>\n",
       "      <td>18</td>\n",
       "      <td>18</td>\n",
       "      <td>18</td>\n",
       "      <td>18</td>\n",
       "    </tr>\n",
       "    <tr>\n",
       "      <th>2</th>\n",
       "      <td>7</td>\n",
       "      <td>7</td>\n",
       "      <td>7</td>\n",
       "      <td>7</td>\n",
       "      <td>7</td>\n",
       "      <td>7</td>\n",
       "    </tr>\n",
       "    <tr>\n",
       "      <th>3</th>\n",
       "      <td>5</td>\n",
       "      <td>5</td>\n",
       "      <td>5</td>\n",
       "      <td>5</td>\n",
       "      <td>5</td>\n",
       "      <td>5</td>\n",
       "    </tr>\n",
       "    <tr>\n",
       "      <th>5</th>\n",
       "      <td>75</td>\n",
       "      <td>75</td>\n",
       "      <td>75</td>\n",
       "      <td>75</td>\n",
       "      <td>75</td>\n",
       "      <td>75</td>\n",
       "    </tr>\n",
       "    <tr>\n",
       "      <th>12</th>\n",
       "      <td>11</td>\n",
       "      <td>11</td>\n",
       "      <td>11</td>\n",
       "      <td>11</td>\n",
       "      <td>11</td>\n",
       "      <td>11</td>\n",
       "    </tr>\n",
       "    <tr>\n",
       "      <th rowspan=\"5\" valign=\"top\">AK3</th>\n",
       "      <th>-1</th>\n",
       "      <td>4</td>\n",
       "      <td>4</td>\n",
       "      <td>4</td>\n",
       "      <td>4</td>\n",
       "      <td>4</td>\n",
       "      <td>4</td>\n",
       "    </tr>\n",
       "    <tr>\n",
       "      <th>1</th>\n",
       "      <td>7</td>\n",
       "      <td>7</td>\n",
       "      <td>7</td>\n",
       "      <td>7</td>\n",
       "      <td>7</td>\n",
       "      <td>7</td>\n",
       "    </tr>\n",
       "    <tr>\n",
       "      <th>2</th>\n",
       "      <td>1</td>\n",
       "      <td>1</td>\n",
       "      <td>1</td>\n",
       "      <td>1</td>\n",
       "      <td>1</td>\n",
       "      <td>1</td>\n",
       "    </tr>\n",
       "    <tr>\n",
       "      <th>3</th>\n",
       "      <td>1</td>\n",
       "      <td>1</td>\n",
       "      <td>1</td>\n",
       "      <td>1</td>\n",
       "      <td>1</td>\n",
       "      <td>1</td>\n",
       "    </tr>\n",
       "    <tr>\n",
       "      <th>5</th>\n",
       "      <td>92</td>\n",
       "      <td>92</td>\n",
       "      <td>92</td>\n",
       "      <td>92</td>\n",
       "      <td>92</td>\n",
       "      <td>92</td>\n",
       "    </tr>\n",
       "    <tr>\n",
       "      <th>...</th>\n",
       "      <th>...</th>\n",
       "      <td>...</td>\n",
       "      <td>...</td>\n",
       "      <td>...</td>\n",
       "      <td>...</td>\n",
       "      <td>...</td>\n",
       "      <td>...</td>\n",
       "    </tr>\n",
       "    <tr>\n",
       "      <th rowspan=\"4\" valign=\"top\">AK4</th>\n",
       "      <th>1</th>\n",
       "      <td>9</td>\n",
       "      <td>9</td>\n",
       "      <td>9</td>\n",
       "      <td>9</td>\n",
       "      <td>9</td>\n",
       "      <td>9</td>\n",
       "    </tr>\n",
       "    <tr>\n",
       "      <th>2</th>\n",
       "      <td>3</td>\n",
       "      <td>3</td>\n",
       "      <td>3</td>\n",
       "      <td>3</td>\n",
       "      <td>3</td>\n",
       "      <td>3</td>\n",
       "    </tr>\n",
       "    <tr>\n",
       "      <th>3</th>\n",
       "      <td>1</td>\n",
       "      <td>1</td>\n",
       "      <td>1</td>\n",
       "      <td>1</td>\n",
       "      <td>1</td>\n",
       "      <td>1</td>\n",
       "    </tr>\n",
       "    <tr>\n",
       "      <th>5</th>\n",
       "      <td>92</td>\n",
       "      <td>92</td>\n",
       "      <td>92</td>\n",
       "      <td>92</td>\n",
       "      <td>92</td>\n",
       "      <td>92</td>\n",
       "    </tr>\n",
       "    <tr>\n",
       "      <th rowspan=\"6\" valign=\"top\">AK5</th>\n",
       "      <th>-1</th>\n",
       "      <td>1</td>\n",
       "      <td>1</td>\n",
       "      <td>1</td>\n",
       "      <td>1</td>\n",
       "      <td>1</td>\n",
       "      <td>1</td>\n",
       "    </tr>\n",
       "    <tr>\n",
       "      <th>1</th>\n",
       "      <td>10</td>\n",
       "      <td>10</td>\n",
       "      <td>10</td>\n",
       "      <td>10</td>\n",
       "      <td>10</td>\n",
       "      <td>10</td>\n",
       "    </tr>\n",
       "    <tr>\n",
       "      <th>2</th>\n",
       "      <td>1</td>\n",
       "      <td>1</td>\n",
       "      <td>1</td>\n",
       "      <td>1</td>\n",
       "      <td>1</td>\n",
       "      <td>1</td>\n",
       "    </tr>\n",
       "    <tr>\n",
       "      <th>3</th>\n",
       "      <td>2</td>\n",
       "      <td>2</td>\n",
       "      <td>2</td>\n",
       "      <td>2</td>\n",
       "      <td>2</td>\n",
       "      <td>2</td>\n",
       "    </tr>\n",
       "    <tr>\n",
       "      <th>5</th>\n",
       "      <td>87</td>\n",
       "      <td>87</td>\n",
       "      <td>87</td>\n",
       "      <td>87</td>\n",
       "      <td>87</td>\n",
       "      <td>87</td>\n",
       "    </tr>\n",
       "    <tr>\n",
       "      <th>12</th>\n",
       "      <td>11</td>\n",
       "      <td>11</td>\n",
       "      <td>11</td>\n",
       "      <td>11</td>\n",
       "      <td>11</td>\n",
       "      <td>11</td>\n",
       "    </tr>\n",
       "    <tr>\n",
       "      <th rowspan=\"6\" valign=\"top\">AK6</th>\n",
       "      <th>-1</th>\n",
       "      <td>2</td>\n",
       "      <td>2</td>\n",
       "      <td>2</td>\n",
       "      <td>2</td>\n",
       "      <td>2</td>\n",
       "      <td>2</td>\n",
       "    </tr>\n",
       "    <tr>\n",
       "      <th>1</th>\n",
       "      <td>18</td>\n",
       "      <td>18</td>\n",
       "      <td>18</td>\n",
       "      <td>18</td>\n",
       "      <td>18</td>\n",
       "      <td>18</td>\n",
       "    </tr>\n",
       "    <tr>\n",
       "      <th>2</th>\n",
       "      <td>2</td>\n",
       "      <td>2</td>\n",
       "      <td>2</td>\n",
       "      <td>2</td>\n",
       "      <td>2</td>\n",
       "      <td>2</td>\n",
       "    </tr>\n",
       "    <tr>\n",
       "      <th>3</th>\n",
       "      <td>7</td>\n",
       "      <td>7</td>\n",
       "      <td>7</td>\n",
       "      <td>7</td>\n",
       "      <td>7</td>\n",
       "      <td>7</td>\n",
       "    </tr>\n",
       "    <tr>\n",
       "      <th>5</th>\n",
       "      <td>70</td>\n",
       "      <td>70</td>\n",
       "      <td>70</td>\n",
       "      <td>70</td>\n",
       "      <td>70</td>\n",
       "      <td>70</td>\n",
       "    </tr>\n",
       "    <tr>\n",
       "      <th>12</th>\n",
       "      <td>11</td>\n",
       "      <td>11</td>\n",
       "      <td>11</td>\n",
       "      <td>11</td>\n",
       "      <td>11</td>\n",
       "      <td>11</td>\n",
       "    </tr>\n",
       "    <tr>\n",
       "      <th rowspan=\"6\" valign=\"top\">AK7</th>\n",
       "      <th>-1</th>\n",
       "      <td>3</td>\n",
       "      <td>3</td>\n",
       "      <td>3</td>\n",
       "      <td>3</td>\n",
       "      <td>3</td>\n",
       "      <td>3</td>\n",
       "    </tr>\n",
       "    <tr>\n",
       "      <th>1</th>\n",
       "      <td>14</td>\n",
       "      <td>14</td>\n",
       "      <td>14</td>\n",
       "      <td>14</td>\n",
       "      <td>14</td>\n",
       "      <td>14</td>\n",
       "    </tr>\n",
       "    <tr>\n",
       "      <th>2</th>\n",
       "      <td>2</td>\n",
       "      <td>2</td>\n",
       "      <td>2</td>\n",
       "      <td>2</td>\n",
       "      <td>2</td>\n",
       "      <td>2</td>\n",
       "    </tr>\n",
       "    <tr>\n",
       "      <th>3</th>\n",
       "      <td>4</td>\n",
       "      <td>4</td>\n",
       "      <td>4</td>\n",
       "      <td>4</td>\n",
       "      <td>4</td>\n",
       "      <td>4</td>\n",
       "    </tr>\n",
       "    <tr>\n",
       "      <th>5</th>\n",
       "      <td>80</td>\n",
       "      <td>80</td>\n",
       "      <td>80</td>\n",
       "      <td>80</td>\n",
       "      <td>80</td>\n",
       "      <td>80</td>\n",
       "    </tr>\n",
       "    <tr>\n",
       "      <th>12</th>\n",
       "      <td>11</td>\n",
       "      <td>11</td>\n",
       "      <td>11</td>\n",
       "      <td>11</td>\n",
       "      <td>11</td>\n",
       "      <td>11</td>\n",
       "    </tr>\n",
       "    <tr>\n",
       "      <th rowspan=\"4\" valign=\"top\">AK8</th>\n",
       "      <th>-1</th>\n",
       "      <td>1</td>\n",
       "      <td>1</td>\n",
       "      <td>1</td>\n",
       "      <td>1</td>\n",
       "      <td>1</td>\n",
       "      <td>1</td>\n",
       "    </tr>\n",
       "    <tr>\n",
       "      <th>1</th>\n",
       "      <td>26</td>\n",
       "      <td>26</td>\n",
       "      <td>26</td>\n",
       "      <td>26</td>\n",
       "      <td>26</td>\n",
       "      <td>26</td>\n",
       "    </tr>\n",
       "    <tr>\n",
       "      <th>5</th>\n",
       "      <td>5</td>\n",
       "      <td>5</td>\n",
       "      <td>5</td>\n",
       "      <td>5</td>\n",
       "      <td>5</td>\n",
       "      <td>5</td>\n",
       "    </tr>\n",
       "    <tr>\n",
       "      <th>12</th>\n",
       "      <td>1</td>\n",
       "      <td>1</td>\n",
       "      <td>1</td>\n",
       "      <td>1</td>\n",
       "      <td>1</td>\n",
       "      <td>1</td>\n",
       "    </tr>\n",
       "    <tr>\n",
       "      <th rowspan=\"4\" valign=\"top\">AK9</th>\n",
       "      <th>1</th>\n",
       "      <td>11</td>\n",
       "      <td>11</td>\n",
       "      <td>11</td>\n",
       "      <td>11</td>\n",
       "      <td>11</td>\n",
       "      <td>11</td>\n",
       "    </tr>\n",
       "    <tr>\n",
       "      <th>2</th>\n",
       "      <td>4</td>\n",
       "      <td>4</td>\n",
       "      <td>4</td>\n",
       "      <td>4</td>\n",
       "      <td>4</td>\n",
       "      <td>4</td>\n",
       "    </tr>\n",
       "    <tr>\n",
       "      <th>3</th>\n",
       "      <td>7</td>\n",
       "      <td>7</td>\n",
       "      <td>7</td>\n",
       "      <td>7</td>\n",
       "      <td>7</td>\n",
       "      <td>7</td>\n",
       "    </tr>\n",
       "    <tr>\n",
       "      <th>5</th>\n",
       "      <td>85</td>\n",
       "      <td>85</td>\n",
       "      <td>85</td>\n",
       "      <td>85</td>\n",
       "      <td>85</td>\n",
       "      <td>85</td>\n",
       "    </tr>\n",
       "  </tbody>\n",
       "</table>\n",
       "<p>62 rows × 6 columns</p>\n",
       "</div>"
      ],
      "text/plain": [
       "                cohort  datasource  session  suffix  protocol  experiment\n",
       "animalid phase                                                           \n",
       "AK1      -1          1           1        1       1         1           1\n",
       "          1          8           8        8       8         8           8\n",
       "          2          2           2        2       2         2           2\n",
       "          3          2           2        2       2         2           2\n",
       "          5         90          90       90      90        90          90\n",
       "          12        11          11       11      11        11          11\n",
       "AK10      1         11          11       11      11        11          11\n",
       "          2          3           3        3       3         3           3\n",
       "          3         10          10       10      10        10          10\n",
       "          5         88          88       88      88        88          88\n",
       "AK11      1         14          14       14      14        14          14\n",
       "          2          2           2        2       2         2           2\n",
       "          3          4           4        4       4         4           4\n",
       "          5         91          91       91      91        91          91\n",
       "AK12     -1          1           1        1       1         1           1\n",
       "          1          8           8        8       8         8           8\n",
       "          2          2           2        2       2         2           2\n",
       "          3          2           2        2       2         2           2\n",
       "          5         91          91       91      91        91          91\n",
       "AK2      -1          2           2        2       2         2           2\n",
       "          1         18          18       18      18        18          18\n",
       "          2          7           7        7       7         7           7\n",
       "          3          5           5        5       5         5           5\n",
       "          5         75          75       75      75        75          75\n",
       "          12        11          11       11      11        11          11\n",
       "AK3      -1          4           4        4       4         4           4\n",
       "          1          7           7        7       7         7           7\n",
       "          2          1           1        1       1         1           1\n",
       "          3          1           1        1       1         1           1\n",
       "          5         92          92       92      92        92          92\n",
       "...                ...         ...      ...     ...       ...         ...\n",
       "AK4       1          9           9        9       9         9           9\n",
       "          2          3           3        3       3         3           3\n",
       "          3          1           1        1       1         1           1\n",
       "          5         92          92       92      92        92          92\n",
       "AK5      -1          1           1        1       1         1           1\n",
       "          1         10          10       10      10        10          10\n",
       "          2          1           1        1       1         1           1\n",
       "          3          2           2        2       2         2           2\n",
       "          5         87          87       87      87        87          87\n",
       "          12        11          11       11      11        11          11\n",
       "AK6      -1          2           2        2       2         2           2\n",
       "          1         18          18       18      18        18          18\n",
       "          2          2           2        2       2         2           2\n",
       "          3          7           7        7       7         7           7\n",
       "          5         70          70       70      70        70          70\n",
       "          12        11          11       11      11        11          11\n",
       "AK7      -1          3           3        3       3         3           3\n",
       "          1         14          14       14      14        14          14\n",
       "          2          2           2        2       2         2           2\n",
       "          3          4           4        4       4         4           4\n",
       "          5         80          80       80      80        80          80\n",
       "          12        11          11       11      11        11          11\n",
       "AK8      -1          1           1        1       1         1           1\n",
       "          1         26          26       26      26        26          26\n",
       "          5          5           5        5       5         5           5\n",
       "          12         1           1        1       1         1           1\n",
       "AK9       1         11          11       11      11        11          11\n",
       "          2          4           4        4       4         4           4\n",
       "          3          7           7        7       7         7           7\n",
       "          5         85          85       85      85        85          85\n",
       "\n",
       "[62 rows x 6 columns]"
      ]
     },
     "execution_count": 502,
     "metadata": {},
     "output_type": "execute_result"
    }
   ],
   "source": [
    "phasedata.groupby(['animalid', 'phase']).count()"
   ]
  },
  {
   "cell_type": "code",
   "execution_count": 504,
   "metadata": {
    "scrolled": false
   },
   "outputs": [
    {
     "data": {
      "text/html": [
       "<div>\n",
       "<style scoped>\n",
       "    .dataframe tbody tr th:only-of-type {\n",
       "        vertical-align: middle;\n",
       "    }\n",
       "\n",
       "    .dataframe tbody tr th {\n",
       "        vertical-align: top;\n",
       "    }\n",
       "\n",
       "    .dataframe thead th {\n",
       "        text-align: right;\n",
       "    }\n",
       "</style>\n",
       "<table border=\"1\" class=\"dataframe\">\n",
       "  <thead>\n",
       "    <tr style=\"text-align: right;\">\n",
       "      <th></th>\n",
       "      <th></th>\n",
       "      <th>animalid</th>\n",
       "      <th>cohort</th>\n",
       "      <th>datasource</th>\n",
       "      <th>session</th>\n",
       "      <th>suffix</th>\n",
       "      <th>phase</th>\n",
       "    </tr>\n",
       "    <tr>\n",
       "      <th>protocol</th>\n",
       "      <th>experiment</th>\n",
       "      <th></th>\n",
       "      <th></th>\n",
       "      <th></th>\n",
       "      <th></th>\n",
       "      <th></th>\n",
       "      <th></th>\n",
       "    </tr>\n",
       "  </thead>\n",
       "  <tbody>\n",
       "    <tr>\n",
       "      <th rowspan=\"2\" valign=\"top\">Initiate Visual Pres Protocol</th>\n",
       "      <th>_Users_labuser_Documents_MWorks_behavior_protocols_Behavior_3Dtransforms_2way_blobs</th>\n",
       "      <td>2</td>\n",
       "      <td>2</td>\n",
       "      <td>2</td>\n",
       "      <td>2</td>\n",
       "      <td>2</td>\n",
       "      <td>2</td>\n",
       "    </tr>\n",
       "    <tr>\n",
       "      <th>_Users_labuser_Downloads_RatBehaviorGeneral_Behavior_3Dtransforms_2way_blobs</th>\n",
       "      <td>1</td>\n",
       "      <td>1</td>\n",
       "      <td>1</td>\n",
       "      <td>1</td>\n",
       "      <td>1</td>\n",
       "      <td>1</td>\n",
       "    </tr>\n",
       "    <tr>\n",
       "      <th>Staircase through shape parameters</th>\n",
       "      <th>_Users_labuser_Downloads_RatBehaviorGeneral_Behavior_3Dtransforms_2way_blobs</th>\n",
       "      <td>5</td>\n",
       "      <td>5</td>\n",
       "      <td>5</td>\n",
       "      <td>5</td>\n",
       "      <td>5</td>\n",
       "      <td>5</td>\n",
       "    </tr>\n",
       "    <tr>\n",
       "      <th>Test all transformations</th>\n",
       "      <th>_Users_labuser_Documents_MWorks_behavior_protocols_Behavior_3Dtransforms_2way_blobs</th>\n",
       "      <td>9</td>\n",
       "      <td>9</td>\n",
       "      <td>9</td>\n",
       "      <td>9</td>\n",
       "      <td>9</td>\n",
       "      <td>9</td>\n",
       "    </tr>\n",
       "  </tbody>\n",
       "</table>\n",
       "</div>"
      ],
      "text/plain": [
       "                                                                                       animalid  \\\n",
       "protocol                           experiment                                                     \n",
       "Initiate Visual Pres Protocol      _Users_labuser_Documents_MWorks_behavior_protoc...         2   \n",
       "                                   _Users_labuser_Downloads_RatBehaviorGeneral_Beh...         1   \n",
       "Staircase through shape parameters _Users_labuser_Downloads_RatBehaviorGeneral_Beh...         5   \n",
       "Test all transformations           _Users_labuser_Documents_MWorks_behavior_protoc...         9   \n",
       "\n",
       "                                                                                       cohort  \\\n",
       "protocol                           experiment                                                   \n",
       "Initiate Visual Pres Protocol      _Users_labuser_Documents_MWorks_behavior_protoc...       2   \n",
       "                                   _Users_labuser_Downloads_RatBehaviorGeneral_Beh...       1   \n",
       "Staircase through shape parameters _Users_labuser_Downloads_RatBehaviorGeneral_Beh...       5   \n",
       "Test all transformations           _Users_labuser_Documents_MWorks_behavior_protoc...       9   \n",
       "\n",
       "                                                                                       datasource  \\\n",
       "protocol                           experiment                                                       \n",
       "Initiate Visual Pres Protocol      _Users_labuser_Documents_MWorks_behavior_protoc...           2   \n",
       "                                   _Users_labuser_Downloads_RatBehaviorGeneral_Beh...           1   \n",
       "Staircase through shape parameters _Users_labuser_Downloads_RatBehaviorGeneral_Beh...           5   \n",
       "Test all transformations           _Users_labuser_Documents_MWorks_behavior_protoc...           9   \n",
       "\n",
       "                                                                                       session  \\\n",
       "protocol                           experiment                                                    \n",
       "Initiate Visual Pres Protocol      _Users_labuser_Documents_MWorks_behavior_protoc...        2   \n",
       "                                   _Users_labuser_Downloads_RatBehaviorGeneral_Beh...        1   \n",
       "Staircase through shape parameters _Users_labuser_Downloads_RatBehaviorGeneral_Beh...        5   \n",
       "Test all transformations           _Users_labuser_Documents_MWorks_behavior_protoc...        9   \n",
       "\n",
       "                                                                                       suffix  \\\n",
       "protocol                           experiment                                                   \n",
       "Initiate Visual Pres Protocol      _Users_labuser_Documents_MWorks_behavior_protoc...       2   \n",
       "                                   _Users_labuser_Downloads_RatBehaviorGeneral_Beh...       1   \n",
       "Staircase through shape parameters _Users_labuser_Downloads_RatBehaviorGeneral_Beh...       5   \n",
       "Test all transformations           _Users_labuser_Documents_MWorks_behavior_protoc...       9   \n",
       "\n",
       "                                                                                       phase  \n",
       "protocol                           experiment                                                 \n",
       "Initiate Visual Pres Protocol      _Users_labuser_Documents_MWorks_behavior_protoc...      2  \n",
       "                                   _Users_labuser_Downloads_RatBehaviorGeneral_Beh...      1  \n",
       "Staircase through shape parameters _Users_labuser_Downloads_RatBehaviorGeneral_Beh...      5  \n",
       "Test all transformations           _Users_labuser_Documents_MWorks_behavior_protoc...      9  "
      ]
     },
     "execution_count": 504,
     "metadata": {},
     "output_type": "execute_result"
    }
   ],
   "source": [
    "phasedata[phasedata['phase']==-1].groupby(['protocol', 'experiment']).count()"
   ]
  },
  {
   "cell_type": "code",
   "execution_count": null,
   "metadata": {},
   "outputs": [],
   "source": [
    "# check if this is in excluded:\n",
    "# ABORTED:  /n/coxfs01/behavior-data/threeport/cohort_data/AL/raw/AL4_170919.mwk\n",
    "# \n"
   ]
  },
  {
   "cell_type": "code",
   "execution_count": 7,
   "metadata": {},
   "outputs": [
    {
     "name": "stdout",
     "output_type": "stream",
     "text": [
      "(13, 1498, (1511, 5))\n"
     ]
    }
   ],
   "source": [
    "include_ixs = [i for i in animal_meta.index.tolist() if i not in exclude_ixs]\n",
    "print(len(exclude_ixs), len(include_ixs), animal_meta.shape)\n"
   ]
  },
  {
   "cell_type": "code",
   "execution_count": null,
   "metadata": {},
   "outputs": [],
   "source": []
  },
  {
   "cell_type": "code",
   "execution_count": 547,
   "metadata": {},
   "outputs": [],
   "source": [
    "def check_against_manual_sorting(animalid, phase, paradigm='threeport', \n",
    "                                 rootdir='/n/coxfs01/behavior-data'):\n",
    "    '''\n",
    "    Based on JM's sorting, expects:\n",
    "        PHASE:\n",
    "            2_size\n",
    "            3_deptrotr_l\n",
    "            4_fullcross, etc.\n",
    "            \n",
    "        os.path.join(by_phase_cohort_dir, 'AL13 - AL16', <PHASE>, AL*_YYMMDD.mwk)\n",
    "    \n",
    "    '''\n",
    "    \n",
    "    included_sessions =  None\n",
    "    sorted_dfns = None\n",
    "    \n",
    "    cohort = re.search('(\\D+)', animalid).group(0)\n",
    "    sorted_cohort_dir = os.path.join(rootdir, paradigm, 'by_cohort', '%s_Cohort' % cohort, 'sorted', '_data')\n",
    "\n",
    "    if cohort in ['AM', 'AN']:\n",
    "        # 'PHASE_description'\n",
    "        sorted_dfns = sorted(glob.glob(os.path.join(sorted_cohort_dir, '%i_*' % phase, \\\n",
    "                                                    '%s*' % cohort, '%s_*.mwk' % animalid)), key=natural_keys)\n",
    "    elif cohort == 'AL':\n",
    "        sorted_dfns = sorted(glob.glob(os.path.join(rootdir, paradigm, 'by_phase', '%s*' % cohort, \n",
    "                                                          '%i_*' % phase, '%s*' % cohort, \n",
    "                                                          '%s_*.mwk' % animalid)), key=natural_keys)\n",
    "    elif cohort == 'AK':\n",
    "        if phase in [4, 5]:\n",
    "            phase_dir_str = '*full*'\n",
    "        else:\n",
    "            phase_dir_str = '%i_*' % phase\n",
    "\n",
    "        sorted_dfns = sorted(glob.glob(os.path.join(sorted_cohort_dir, 'regular*', phase_dir_str, \\\n",
    "                                                            '%s*' % cohort, '%s_*.mwk' % animalid)), key=natural_keys)\n",
    "        sorted_dfns.extend(glob.glob(os.path.join(sorted_cohort_dir, 'regular*', phase_dir_str, \\\n",
    "                                                            '%s_*.mwk' % animalid)))\n",
    "\n",
    "\n",
    "        extra_dfns = glob.glob(os.path.join(sorted_cohort_dir, phase_dir_str,\n",
    "                                                   '%s*' % cohort, '%s_*.mwk' % animalid))\n",
    "        extra_dfns2 = glob.glob(os.path.join(sorted_cohort_dir, phase_dir_str, phase_dir_str,\n",
    "                                                   '%s*' % cohort, '%s_*.mwk' % animalid))\n",
    "\n",
    "        sorted_dfns.extend(extra_dfns)\n",
    "        sorted_dfns.extend(extra_dfns2)\n",
    "        sorted_dfns = sorted(list(set(sorted_dfns)), key=natural_keys)\n",
    "        \n",
    "    elif cohort == 'AO':\n",
    "        sorted_dfns = sorted(glob.glob(os.path.join(rootdir, paradigm, 'by_cohort', '%s_Cohort' % cohort,\n",
    "                                                    'sorted', '_data', '*', '%i_*' % phase, \n",
    "                                         '%s*' % cohort, '%s_*.mwk' % animalid)), key=natural_keys)\n",
    "        extra_dfns = sorted(glob.glob(os.path.join(rootdir, paradigm, 'by_cohort', '%s_Cohort' % cohort,\n",
    "                                                    'sorted', '_data_test', '%i_*' % phase, \n",
    "                                         '%s*' % cohort, '%s_*.mwk' % animalid)), key=natural_keys)\n",
    "        sorted_dfns.extend(extra_dfns)\n",
    "        sorted_dfns = sorted(list(set(sorted_dfns)), key=natural_keys)\n",
    "\n",
    "    elif cohort == 'AJ':\n",
    "        sorted_dfns = sorted(glob.glob(os.path.join(rootdir, paradigm, 'by_cohort', '%s_Cohort' % cohort, 'phase%i' % phase,\n",
    "                                         '%s*' % cohort, '%s_*.mwk' % animalid)), key=natural_keys)\n",
    "    elif cohort == 'AG':\n",
    "        if phase in [3, 4]:\n",
    "            sorted_dfns = glob.glob(os.path.join(rootdir, paradigm, 'by_cohort', '%s_Cohort' % cohort,\n",
    "                                     '%s phase%i' % (cohort, phase), '%s*' % cohort, '%s_*.mwk' % animalid))\n",
    "        else:\n",
    "            return None\n",
    "\n",
    "    #print(\"[%s] %i datafiles for phase %i\" % (animalid, len(sorted_dfns), phase))\n",
    "    if sorted_dfns is not None:\n",
    "        included_sessions = [str(i) for i in \\\n",
    "                             sorted(list(set([util.parse_datafile_name(dfn)[1] for dfn in sorted_dfns])), \n",
    "                                    key=natural_keys)]\n",
    "\n",
    "    return included_sessions\n",
    "\n"
   ]
  },
  {
   "cell_type": "code",
   "execution_count": 548,
   "metadata": {},
   "outputs": [
    {
     "data": {
      "text/plain": [
       "('AK', 'AK1')"
      ]
     },
     "execution_count": 548,
     "metadata": {},
     "output_type": "execute_result"
    }
   ],
   "source": [
    "cohort, animalid"
   ]
  },
  {
   "cell_type": "code",
   "execution_count": 549,
   "metadata": {},
   "outputs": [
    {
     "name": "stdout",
     "output_type": "stream",
     "text": [
      "AK1: Manual 59, Auto 90 \n",
      "AK10: Manual 46, Auto 88 \n",
      "AK11: Manual 49, Auto 91 \n",
      "AK12: Manual 57, Auto 91 \n",
      "AK2: Manual 43, Auto 75 \n",
      "AK3: Manual 63, Auto 92 \n",
      "AK4: Manual 61, Auto 92 \n",
      "AK5: Manual 56, Auto 87 \n",
      "AK6: Manual 44, Auto 70 \n",
      "AK7: Manual 51, Auto 80 \n",
      "AK8: Manual 6, Auto 5 \n",
      "AK9: Manual 46, Auto 85 \n"
     ]
    }
   ],
   "source": [
    "phase = 5\n",
    "cohort = 'AK'\n",
    "\n",
    "# excluded_animals = {3: ['AG12']}\n",
    "\n",
    "\n",
    "check_these = dict((animalid, {}) for animalid in phasedata['animalid'].unique())\n",
    "not_found = []\n",
    "for animalid, pdata in phasedata[phasedata['phase']==phase].groupby(['animalid']):\n",
    "    \n",
    "    manual_list = check_against_manual_sorting(animalid, phase)\n",
    "    if manual_list is None:\n",
    "        not_found.append((phase, animalid))\n",
    "    \n",
    "#     manual_list = sorted([str('20%s' % os.path.splitext(os.path.split(fn)[1])[0].split('_')[-1]) \\\n",
    "#                           for fn in manual_sorted_dfiles], key=natural_keys)\n",
    "    \n",
    "    found_list = sorted(['%s%s' % (session, suffix) for (session, suffix), g in pdata.groupby(['session', 'suffix'])], key=natural_keys)\n",
    "    print(\"%s: Manual %i, Auto %i \" % (animalid, len(manual_list), len(found_list)))\n",
    "    \n",
    "    if manual_list != found_list:\n",
    "        check_these[animalid].update({'not_in_manual': [i for i in found_list if i not in manual_list],\n",
    "                                      'not_in_found': [i for i in manual_list if i not in found_list]})\n",
    "        "
   ]
  },
  {
   "cell_type": "code",
   "execution_count": 550,
   "metadata": {},
   "outputs": [
    {
     "data": {
      "text/plain": [
       "[]"
      ]
     },
     "execution_count": 550,
     "metadata": {},
     "output_type": "execute_result"
    }
   ],
   "source": [
    "not_found"
   ]
  },
  {
   "cell_type": "code",
   "execution_count": 560,
   "metadata": {
    "scrolled": true
   },
   "outputs": [
    {
     "data": {
      "text/plain": [
       "{'not_in_found': [],\n",
       " 'not_in_manual': ['20170627b',\n",
       "  '20171107',\n",
       "  '20171110',\n",
       "  '20171111',\n",
       "  '20171112',\n",
       "  '20171113',\n",
       "  '20171116',\n",
       "  '20171117',\n",
       "  '20171120',\n",
       "  '20171130',\n",
       "  '20171201',\n",
       "  '20171205',\n",
       "  '20171206',\n",
       "  '20171207',\n",
       "  '20171208',\n",
       "  '20171210',\n",
       "  '20171211',\n",
       "  '20171212',\n",
       "  '20171213',\n",
       "  '20171214',\n",
       "  '20180206',\n",
       "  '20180207',\n",
       "  '20180208',\n",
       "  '20180209',\n",
       "  '20180213',\n",
       "  '20180214',\n",
       "  '20180215',\n",
       "  '20180220',\n",
       "  '20181002nominrt',\n",
       "  '20181003nominrt',\n",
       "  '20181004nominrt']}"
      ]
     },
     "execution_count": 560,
     "metadata": {},
     "output_type": "execute_result"
    }
   ],
   "source": [
    "check_these['AK5']"
   ]
  },
  {
   "cell_type": "code",
   "execution_count": 164,
   "metadata": {},
   "outputs": [
    {
     "data": {
      "text/plain": [
       "array([20170727])"
      ]
     },
     "execution_count": 164,
     "metadata": {},
     "output_type": "execute_result"
    }
   ],
   "source": [
    "animalid = 'AL7'\n",
    "# check_sessions = ['20170912'] \n",
    "check_sessions = check_these[animalid]['not_in_found'] # Not in auto-sorted\n",
    "\n",
    "check_pdata = phasedata[ (phasedata['animalid']==animalid) & (phasedata['session'].isin(check_sessions))].copy()\n",
    "for (prot, exp), g in check_pdata.groupby(['protocol', 'experiment']):\n",
    "    if 'morph' in prot:\n",
    "        print prot\n",
    "\n",
    "exp = '_Users_labuser_Downloads_RatBehaviorGeneral_Behavior_3Dtransforms_2way_blobs'\n",
    "check_pdata[check_pdata['experiment']==exp]['session'].unique()\n"
   ]
  },
  {
   "cell_type": "code",
   "execution_count": 165,
   "metadata": {},
   "outputs": [
    {
     "name": "stdout",
     "output_type": "stream",
     "text": [
      "AL7\n"
     ]
    },
    {
     "data": {
      "text/plain": [
       "{'not_in_found': ['20170727'], 'not_in_manual': ['20170727b', '20170728b']}"
      ]
     },
     "execution_count": 165,
     "metadata": {},
     "output_type": "execute_result"
    }
   ],
   "source": [
    "print(animalid)\n",
    "check_these[animalid]"
   ]
  },
  {
   "cell_type": "code",
   "execution_count": 166,
   "metadata": {},
   "outputs": [
    {
     "data": {
      "text/html": [
       "<div>\n",
       "<style scoped>\n",
       "    .dataframe tbody tr th:only-of-type {\n",
       "        vertical-align: middle;\n",
       "    }\n",
       "\n",
       "    .dataframe tbody tr th {\n",
       "        vertical-align: top;\n",
       "    }\n",
       "\n",
       "    .dataframe thead th {\n",
       "        text-align: right;\n",
       "    }\n",
       "</style>\n",
       "<table border=\"1\" class=\"dataframe\">\n",
       "  <thead>\n",
       "    <tr style=\"text-align: right;\">\n",
       "      <th></th>\n",
       "      <th>animalid</th>\n",
       "      <th>cohort</th>\n",
       "      <th>datasource</th>\n",
       "      <th>session</th>\n",
       "      <th>suffix</th>\n",
       "      <th>phase</th>\n",
       "      <th>protocol</th>\n",
       "      <th>experiment</th>\n",
       "    </tr>\n",
       "  </thead>\n",
       "  <tbody>\n",
       "    <tr>\n",
       "      <th>1231</th>\n",
       "      <td>AL7</td>\n",
       "      <td>AL</td>\n",
       "      <td>/n/coxfs01/behavior-data/threeport/cohort_data...</td>\n",
       "      <td>20170727</td>\n",
       "      <td></td>\n",
       "      <td>2</td>\n",
       "      <td>Staircase through shape parameters</td>\n",
       "      <td>_Users_labuser_Downloads_RatBehaviorGeneral_Be...</td>\n",
       "    </tr>\n",
       "    <tr>\n",
       "      <th>1230</th>\n",
       "      <td>AL7</td>\n",
       "      <td>AL</td>\n",
       "      <td>/n/coxfs01/behavior-data/threeport/cohort_data...</td>\n",
       "      <td>20170727</td>\n",
       "      <td>b</td>\n",
       "      <td>3</td>\n",
       "      <td>Staircase through shape parameters</td>\n",
       "      <td>_Users_labuser_Downloads_RatBehaviorGeneral_Be...</td>\n",
       "    </tr>\n",
       "  </tbody>\n",
       "</table>\n",
       "</div>"
      ],
      "text/plain": [
       "     animalid cohort                                         datasource  \\\n",
       "1231      AL7     AL  /n/coxfs01/behavior-data/threeport/cohort_data...   \n",
       "1230      AL7     AL  /n/coxfs01/behavior-data/threeport/cohort_data...   \n",
       "\n",
       "       session suffix  phase                            protocol  \\\n",
       "1231  20170727             2  Staircase through shape parameters   \n",
       "1230  20170727      b      3  Staircase through shape parameters   \n",
       "\n",
       "                                             experiment  \n",
       "1231  _Users_labuser_Downloads_RatBehaviorGeneral_Be...  \n",
       "1230  _Users_labuser_Downloads_RatBehaviorGeneral_Be...  "
      ]
     },
     "execution_count": 166,
     "metadata": {},
     "output_type": "execute_result"
    }
   ],
   "source": [
    "check_pdata"
   ]
  },
  {
   "cell_type": "code",
   "execution_count": 455,
   "metadata": {},
   "outputs": [
    {
     "data": {
      "text/plain": [
       "array(['', 'b', 'big', 'stimB', 'stimBlowerbound', 'stimClowerbound',\n",
       "       'stimBupperbound', 'stimCupperbound', 'small', 'stimC', 'c',\n",
       "       'stimCalwaysReward', 'alwaysReward', 'size', 'adeptrotl',\n",
       "       'bdeptrotr', 'deptrotl', 'adeptrotr', 'asize', 'bdeptrotl',\n",
       "       'background', 'deptrotr', 'balwaysReward', 'initial', 'deprotl',\n",
       "       'backgroundalwaysReward', 'bsize', 'morphs', 'aalwaysReward',\n",
       "       'empty', 'aasize', 'a', 'probeNewObjects', 'occluded', 'r', 'd',\n",
       "       'transparency', 'nominrt'], dtype=object)"
      ]
     },
     "execution_count": 455,
     "metadata": {},
     "output_type": "execute_result"
    }
   ],
   "source": [
    "metadata['suffix'].unique()"
   ]
  },
  {
   "cell_type": "code",
   "execution_count": 134,
   "metadata": {
    "scrolled": true
   },
   "outputs": [
    {
     "name": "stderr",
     "output_type": "stream",
     "text": [
      "utils.py:4: UserWarning: \n",
      "This call to matplotlib.use() has no effect because the backend has already\n",
      "been chosen; matplotlib.use() must be called *before* pylab, matplotlib.pyplot,\n",
      "or matplotlib.backends is imported for the first time.\n",
      "\n",
      "The backend was *originally* set to 'module://ipykernel.pylab.backend_inline' by the following code:\n",
      "  File \"/home/julianarhee/anaconda2/envs/behavior/lib/python2.7/runpy.py\", line 174, in _run_module_as_main\n",
      "    \"__main__\", fname, loader, pkg_name)\n",
      "  File \"/home/julianarhee/anaconda2/envs/behavior/lib/python2.7/runpy.py\", line 72, in _run_code\n",
      "    exec code in run_globals\n",
      "  File \"/home/julianarhee/anaconda2/envs/behavior/lib/python2.7/site-packages/ipykernel_launcher.py\", line 16, in <module>\n",
      "    app.launch_new_instance()\n",
      "  File \"/home/julianarhee/anaconda2/envs/behavior/lib/python2.7/site-packages/traitlets/config/application.py\", line 658, in launch_instance\n",
      "    app.start()\n",
      "  File \"/home/julianarhee/anaconda2/envs/behavior/lib/python2.7/site-packages/ipykernel/kernelapp.py\", line 499, in start\n",
      "    self.io_loop.start()\n",
      "  File \"/home/julianarhee/anaconda2/envs/behavior/lib/python2.7/site-packages/tornado/ioloop.py\", line 1073, in start\n",
      "    handler_func(fd_obj, events)\n",
      "  File \"/home/julianarhee/anaconda2/envs/behavior/lib/python2.7/site-packages/tornado/stack_context.py\", line 300, in null_wrapper\n",
      "    return fn(*args, **kwargs)\n",
      "  File \"/home/julianarhee/anaconda2/envs/behavior/lib/python2.7/site-packages/zmq/eventloop/zmqstream.py\", line 450, in _handle_events\n",
      "    self._handle_recv()\n",
      "  File \"/home/julianarhee/anaconda2/envs/behavior/lib/python2.7/site-packages/zmq/eventloop/zmqstream.py\", line 480, in _handle_recv\n",
      "    self._run_callback(callback, msg)\n",
      "  File \"/home/julianarhee/anaconda2/envs/behavior/lib/python2.7/site-packages/zmq/eventloop/zmqstream.py\", line 432, in _run_callback\n",
      "    callback(*args, **kwargs)\n",
      "  File \"/home/julianarhee/anaconda2/envs/behavior/lib/python2.7/site-packages/tornado/stack_context.py\", line 300, in null_wrapper\n",
      "    return fn(*args, **kwargs)\n",
      "  File \"/home/julianarhee/anaconda2/envs/behavior/lib/python2.7/site-packages/ipykernel/kernelbase.py\", line 283, in dispatcher\n",
      "    return self.dispatch_shell(stream, msg)\n",
      "  File \"/home/julianarhee/anaconda2/envs/behavior/lib/python2.7/site-packages/ipykernel/kernelbase.py\", line 233, in dispatch_shell\n",
      "    handler(stream, idents, msg)\n",
      "  File \"/home/julianarhee/anaconda2/envs/behavior/lib/python2.7/site-packages/ipykernel/kernelbase.py\", line 399, in execute_request\n",
      "    user_expressions, allow_stdin)\n",
      "  File \"/home/julianarhee/anaconda2/envs/behavior/lib/python2.7/site-packages/ipykernel/ipkernel.py\", line 208, in do_execute\n",
      "    res = shell.run_cell(code, store_history=store_history, silent=silent)\n",
      "  File \"/home/julianarhee/anaconda2/envs/behavior/lib/python2.7/site-packages/ipykernel/zmqshell.py\", line 537, in run_cell\n",
      "    return super(ZMQInteractiveShell, self).run_cell(*args, **kwargs)\n",
      "  File \"/home/julianarhee/anaconda2/envs/behavior/lib/python2.7/site-packages/IPython/core/interactiveshell.py\", line 2724, in run_cell\n",
      "    self.events.trigger('post_run_cell')\n",
      "  File \"/home/julianarhee/anaconda2/envs/behavior/lib/python2.7/site-packages/IPython/core/events.py\", line 74, in trigger\n",
      "    func(*args, **kwargs)\n",
      "  File \"/home/julianarhee/anaconda2/envs/behavior/lib/python2.7/site-packages/ipykernel/pylab/backend_inline.py\", line 164, in configure_once\n",
      "    activate_matplotlib(backend)\n",
      "  File \"/home/julianarhee/anaconda2/envs/behavior/lib/python2.7/site-packages/IPython/core/pylabtools.py\", line 315, in activate_matplotlib\n",
      "    matplotlib.pyplot.switch_backend(backend)\n",
      "  File \"/home/julianarhee/anaconda2/envs/behavior/lib/python2.7/site-packages/matplotlib/pyplot.py\", line 231, in switch_backend\n",
      "    matplotlib.use(newbackend, warn=False, force=True)\n",
      "  File \"/home/julianarhee/anaconda2/envs/behavior/lib/python2.7/site-packages/matplotlib/__init__.py\", line 1422, in use\n",
      "    reload(sys.modules['matplotlib.backends'])\n",
      "  File \"/home/julianarhee/anaconda2/envs/behavior/lib/python2.7/site-packages/matplotlib/backends/__init__.py\", line 16, in <module>\n",
      "    line for line in traceback.format_stack()\n",
      "\n",
      "\n",
      "  mpl.use('agg')\n"
     ]
    },
    {
     "data": {
      "text/plain": [
       "<module 'assign_phase' from 'assign_phase.py'>"
      ]
     },
     "execution_count": 134,
     "metadata": {},
     "output_type": "execute_result"
    }
   ],
   "source": [
    "reload(util)\n",
    "reload(ph)"
   ]
  },
  {
   "cell_type": "code",
   "execution_count": 189,
   "metadata": {},
   "outputs": [],
   "source": [
    "import assign_phase as ph"
   ]
  },
  {
   "cell_type": "code",
   "execution_count": 413,
   "metadata": {},
   "outputs": [
    {
     "name": "stdout",
     "output_type": "stream",
     "text": [
      "--> [1] of 1: /n/coxfs01/behavior-data/threeport/cohort_data/AK/raw/AK1_180621_CBwrong_discard.mwk\n"
     ]
    },
    {
     "data": {
      "text/plain": [
       "{'address': '192.168.0.36',\n",
       " 'experiment': '_Users_labuser_Documents_MWorks_behavior_protocols_Behavior_3Dtransforms_2way_blobs',\n",
       " 'experiment_path': '/var/folders/ct/9rl6yygn7474gnc092xp2mzc0000gp/T/MWorks/Experiment Cache/_Users_labuser_Documents_MWorks_behavior_protocols_Behavior_3Dtransforms_2way_blobs',\n",
       " 'protocol': 'Test all transformations',\n",
       " 'screen': {'distance': 12.5,\n",
       "  'height': 11.75,\n",
       "  'refresh_rate_hz': 60.0,\n",
       "  'units': 'inches',\n",
       "  'width': 14.75},\n",
       " 'server': 'Setup 18'}"
      ]
     },
     "execution_count": 413,
     "metadata": {},
     "output_type": "execute_result"
    }
   ],
   "source": [
    "\n",
    "# animalid = 'AG2'\n",
    "# session = 20151201 # newelevation (x_rotation)\n",
    "# # session = 20160314 # newelevation-upsidedown '.../Blobs_Training_Rot_xy_flipped/Blob_N2_CamRot_y45_CamRot_x10_LighPos_x0_y-10_z-10.png',\n",
    "# # session = 20160213  # new positions\n",
    "# session = 20160217  # new positions\n",
    "\n",
    "\n",
    "# animalid = 'AL10'\n",
    "# # session = 20171205 #20171130 #20170918 #20170727 -- what is \"bigstim\"/\"smallstim\"?\n",
    "# # protocol = Test all transformations\n",
    "# #session = 20170728 - canonical\n",
    "# session = 20170822\n",
    "\n",
    "animalid = 'AK1'\n",
    "session = 20180621 #20171212\n",
    "\n",
    "# animalid = 'AL1'\n",
    "# session = 20170719 # Always Reward\n",
    "\n",
    "# animalid = 'AO6'\n",
    "# session = 20180522 #20151214\n",
    "\n",
    "session_meta = metadata[(metadata['animalid']==animalid) & (metadata['session']==session)]\n",
    "S = util.Session(session_meta)\n",
    "_, _, metainfo = S.get_trials(create_new=False)\n",
    "metainfo"
   ]
  },
  {
   "cell_type": "code",
   "execution_count": 414,
   "metadata": {},
   "outputs": [
    {
     "data": {
      "text/plain": [
       "{'address': '192.168.0.36',\n",
       " 'experiment': '_Users_labuser_Documents_MWorks_behavior_protocols_Behavior_3Dtransforms_2way_blobs',\n",
       " 'experiment_path': '/var/folders/ct/9rl6yygn7474gnc092xp2mzc0000gp/T/MWorks/Experiment Cache/_Users_labuser_Documents_MWorks_behavior_protocols_Behavior_3Dtransforms_2way_blobs',\n",
       " 'protocol': 'Test all transformations',\n",
       " 'screen': {'distance': 12.5,\n",
       "  'height': 11.75,\n",
       "  'refresh_rate_hz': 60.0,\n",
       "  'units': 'inches',\n",
       "  'width': 14.75},\n",
       " 'server': 'Setup 18'}"
      ]
     },
     "execution_count": 414,
     "metadata": {},
     "output_type": "execute_result"
    }
   ],
   "source": [
    "metainfo"
   ]
  },
  {
   "cell_type": "code",
   "execution_count": 415,
   "metadata": {},
   "outputs": [
    {
     "data": {
      "text/plain": [
       "[]"
      ]
     },
     "execution_count": 415,
     "metadata": {},
     "output_type": "execute_result"
    }
   ],
   "source": [
    "[]"
   ]
  },
  {
   "cell_type": "code",
   "execution_count": null,
   "metadata": {},
   "outputs": [],
   "source": []
  },
  {
   "cell_type": "code",
   "execution_count": 416,
   "metadata": {},
   "outputs": [
    {
     "name": "stdout",
     "output_type": "stream",
     "text": [
      "{   -1: 'other',\n",
      "    0: 'always_reward',\n",
      "    1: 'default',\n",
      "    2: 'size',\n",
      "    3: 'depth_rotation',\n",
      "    4: 'cross',\n",
      "    5: 'size_and_depth_rotation',\n",
      "    6: 'depth_and_planar_rotation',\n",
      "    7: 'morph',\n",
      "    8: 'newstimuli',\n",
      "    9: 'fine_grained_size',\n",
      "    10: 'fine_grained_depth_rotation',\n",
      "    11: 'fine_grained_size_and_depth_rotation',\n",
      "    12: 'transparency',\n",
      "    13: 'clutter',\n",
      "    14: 'light_position',\n",
      "    15: 'x_rotation',\n",
      "    16: 'position',\n",
      "    17: 'punishcycle_long',\n",
      "    18: 'punishcycle_short',\n",
      "    19: 'no_min_RT'}\n"
     ]
    }
   ],
   "source": [
    "_ = ph.print_phase_lookup()"
   ]
  },
  {
   "cell_type": "code",
   "execution_count": 417,
   "metadata": {},
   "outputs": [
    {
     "data": {
      "text/plain": [
       "<module 'assign_phase' from 'assign_phase.pyc'>"
      ]
     },
     "execution_count": 417,
     "metadata": {},
     "output_type": "execute_result"
    }
   ],
   "source": [
    "reload(ph)"
   ]
  },
  {
   "cell_type": "code",
   "execution_count": 379,
   "metadata": {},
   "outputs": [
    {
     "data": {
      "text/plain": [
       "'AM10'"
      ]
     },
     "execution_count": 379,
     "metadata": {},
     "output_type": "execute_result"
    }
   ],
   "source": [
    "animalid"
   ]
  },
  {
   "cell_type": "code",
   "execution_count": 380,
   "metadata": {},
   "outputs": [],
   "source": [
    "session_meta = metadata[metadata['animalid']=='AM11']\n"
   ]
  },
  {
   "cell_type": "code",
   "execution_count": 381,
   "metadata": {
    "scrolled": true
   },
   "outputs": [
    {
     "name": "stdout",
     "output_type": "stream",
     "text": [
      "('AM11', '20171207alwaysReward', 0)\n"
     ]
    },
    {
     "name": "stderr",
     "output_type": "stream",
     "text": [
      "assign_phase.py:270: SettingWithCopyWarning: \n",
      "A value is trying to be set on a copy of a slice from a DataFrame.\n",
      "Try using .loc[row_indexer,col_indexer] = value instead\n",
      "\n",
      "See the caveats in the documentation: http://pandas.pydata.org/pandas-docs/stable/indexing.html#indexing-view-versus-copy\n",
      "  ameta['phase'] = [phase for _ in np.arange(0, len(ameta))]\n",
      "assign_phase.py:271: SettingWithCopyWarning: \n",
      "A value is trying to be set on a copy of a slice from a DataFrame.\n",
      "Try using .loc[row_indexer,col_indexer] = value instead\n",
      "\n",
      "See the caveats in the documentation: http://pandas.pydata.org/pandas-docs/stable/indexing.html#indexing-view-versus-copy\n",
      "  ameta['protocol'] = [protocol for _ in np.arange(0, len(ameta))]\n",
      "assign_phase.py:272: SettingWithCopyWarning: \n",
      "A value is trying to be set on a copy of a slice from a DataFrame.\n",
      "Try using .loc[row_indexer,col_indexer] = value instead\n",
      "\n",
      "See the caveats in the documentation: http://pandas.pydata.org/pandas-docs/stable/indexing.html#indexing-view-versus-copy\n",
      "  ameta['experiment'] = [experiment_folder for _ in np.arange(0, len(ameta))]\n"
     ]
    },
    {
     "name": "stdout",
     "output_type": "stream",
     "text": [
      "('AM11', '20171208alwaysReward', 0)\n",
      "('AM11', '20171209alwaysReward', 0)\n",
      "('AM11', '20171210', 17)\n",
      "('AM11', '20171211', 17)\n",
      "('AM11', '20171212', 17)\n",
      "('AM11', '20171212size', 17)\n",
      "('AM11', '20171213size', 17)\n",
      "('AM11', '20171214size', 17)\n",
      "('AM11', '20180206deptrotl', 17)\n",
      "('AM11', '20180207adeptrotr', 17)\n",
      "('AM11', '20180207b', 17)\n",
      "('AM11', '20180208', 17)\n",
      "('AM11', '20180209', 17)\n",
      "('AM11', '20180213', 17)\n",
      "('AM11', '20180214', 17)\n",
      "('AM11', '20180215', 17)\n",
      "('AM11', '20180220', 17)\n",
      "('AM11', '20180403', 17)\n",
      "('AM11', '20180404', 17)\n",
      "('AM11', '20180405', 17)\n",
      "('AM11', '20180410', 17)\n",
      "('AM11', '20180411', 17)\n",
      "('AM11', '20180412', 17)\n",
      "('AM11', '20180413', 17)\n",
      "('AM11', '20180414', 17)\n",
      "('AM11', '20180415', 17)\n",
      "('AM11', '20180416', 17)\n",
      "('AM11', '20180417', 17)\n",
      "('AM11', '20180418', 17)\n",
      "('AM11', '20180419', 17)\n",
      "('AM11', '20180420', 17)\n",
      "('AM11', '20180421', 17)\n",
      "('AM11', '20180423', 17)\n",
      "('AM11', '20180424', 17)\n",
      "('AM11', '20180425', 17)\n",
      "('AM11', '20180426', 17)\n",
      "('AM11', '20180427', 17)\n",
      "('AM11', '20180522', 17)\n",
      "('AM11', '20180523', 17)\n",
      "('AM11', '20180524', 17)\n",
      "('AM11', '20180607', 17)\n",
      "('AM11', '20180608', 17)\n",
      "('AM11', '20180620', 17)\n",
      "('AM11', '20180621', 17)\n",
      "('AM11', '20180622', 17)\n",
      "('AM11', '20180623', 17)\n",
      "('AM11', '20180624', 17)\n",
      "('AM11', '20180625', 17)\n",
      "('AM11', '20180626', 17)\n",
      "('AM11', '20180627', 17)\n",
      "('AM11', '20180628', 17)\n",
      "('AM11', '20180629', 17)\n"
     ]
    }
   ],
   "source": [
    "p = ph.assign_phase_by_animal(animalid, session_meta, create_new=False)"
   ]
  },
  {
   "cell_type": "code",
   "execution_count": 202,
   "metadata": {},
   "outputs": [
    {
     "data": {
      "text/html": [
       "<div>\n",
       "<style scoped>\n",
       "    .dataframe tbody tr th:only-of-type {\n",
       "        vertical-align: middle;\n",
       "    }\n",
       "\n",
       "    .dataframe tbody tr th {\n",
       "        vertical-align: top;\n",
       "    }\n",
       "\n",
       "    .dataframe thead th {\n",
       "        text-align: right;\n",
       "    }\n",
       "</style>\n",
       "<table border=\"1\" class=\"dataframe\">\n",
       "  <thead>\n",
       "    <tr style=\"text-align: right;\">\n",
       "      <th></th>\n",
       "      <th>animalid</th>\n",
       "      <th>cohort</th>\n",
       "      <th>datasource</th>\n",
       "      <th>session</th>\n",
       "      <th>suffix</th>\n",
       "      <th>phase</th>\n",
       "      <th>protocol</th>\n",
       "      <th>experiment</th>\n",
       "    </tr>\n",
       "  </thead>\n",
       "  <tbody>\n",
       "    <tr>\n",
       "      <th>4933</th>\n",
       "      <td>AG2</td>\n",
       "      <td>AG</td>\n",
       "      <td>/n/coxfs01/behavior-data/threeport/cohort_data...</td>\n",
       "      <td>20160217</td>\n",
       "      <td></td>\n",
       "      <td>15</td>\n",
       "      <td>Test all transformations wih depth rotation in...</td>\n",
       "      <td>_Users_labuser_Downloads_RatBehaviorGeneral_Be...</td>\n",
       "    </tr>\n",
       "  </tbody>\n",
       "</table>\n",
       "</div>"
      ],
      "text/plain": [
       "     animalid cohort                                         datasource  \\\n",
       "4933      AG2     AG  /n/coxfs01/behavior-data/threeport/cohort_data...   \n",
       "\n",
       "       session suffix  phase  \\\n",
       "4933  20160217            15   \n",
       "\n",
       "                                               protocol  \\\n",
       "4933  Test all transformations wih depth rotation in...   \n",
       "\n",
       "                                             experiment  \n",
       "4933  _Users_labuser_Downloads_RatBehaviorGeneral_Be...  "
      ]
     },
     "execution_count": 202,
     "metadata": {},
     "output_type": "execute_result"
    }
   ],
   "source": [
    "p"
   ]
  },
  {
   "cell_type": "code",
   "execution_count": 418,
   "metadata": {},
   "outputs": [
    {
     "data": {
      "text/plain": [
       "array([''], dtype='|S1')"
      ]
     },
     "execution_count": 418,
     "metadata": {},
     "output_type": "execute_result"
    }
   ],
   "source": [
    "suffix_values = np.unique([s['suffix'] for s in S.trials])\n",
    "suffix_values"
   ]
  },
  {
   "cell_type": "code",
   "execution_count": 419,
   "metadata": {},
   "outputs": [
    {
     "name": "stdout",
     "output_type": "stream",
     "text": [
      "1 of 1 -- \n",
      "('off-cross:', [])\n",
      "---\n",
      "('sizes:', [15.0, 20.0, 25.0, 30.0, 35.0, 40.0])\n",
      "('depth rots:', [-60, -45, -30, -15, 0, 15, 30, 45, 60])\n",
      "('planar rots:', [0.0])\n",
      "---\n",
      "('Light:', [None])\n"
     ]
    }
   ],
   "source": [
    "for si, sfx in enumerate(suffix_values): #[ suffix_values ]):\n",
    "    \n",
    "    print(\"%i of %i -- %s\" % (int(si+1), len(suffix_values), sfx))\n",
    "    \n",
    "    curr_trials = [s for s in S.trials if s['suffix']==sfx]\n",
    "\n",
    "    off_cross_transforms = list(set([(t['size'], t['depth_rotation']) for t in curr_trials \\\n",
    "                                     if (t['size'] not in [30, 40] #defaults['size'] \\\n",
    "                                     and t['depth_rotation']!=0)])) #defaults['depth_rotation']) ]))\n",
    "    \n",
    "    print(\"off-cross:\", off_cross_transforms)\n",
    "    print(\"---\")\n",
    "\n",
    "    sizes = sorted(np.unique([t['size'] for t in curr_trials]))\n",
    "    drots = sorted(np.unique([t['depth_rotation'] for t in curr_trials]))\n",
    "    prots = sorted(np.unique([t['rotation'] for t in curr_trials]))\n",
    "\n",
    "    print(\"sizes:\", sizes)\n",
    "    print(\"depth rots:\", drots)\n",
    "    print(\"planar rots:\", prots)\n",
    "    \n",
    "    print(\"---\")\n",
    "\n",
    "    #phasedata[ (phasedata['animalid']==animalid) & (phasedata['session']==int(session)) ]\n",
    "    \n",
    "    light_positions = list(set([s['light_position'] for s in curr_trials]))\n",
    "    print(\"Light:\", light_positions)"
   ]
  },
  {
   "cell_type": "code",
   "execution_count": 420,
   "metadata": {},
   "outputs": [
    {
     "data": {
      "text/plain": [
       "{'FlagAddFreeRewardToEarnedReward': 0,\n",
       " 'FlagAlwaysEnforceMaxSeqLeng': 1,\n",
       " 'FlagAlwaysReward': 0,\n",
       " 'FlagAutomaticBiasSuppression': 0,\n",
       " 'FlagCorrectionTrials': 0,\n",
       " 'FlagCueStimSound': 0,\n",
       " 'FlagDiscardHalfOfTheTrials': 1,\n",
       " 'FlagEnrichSomeStaircases': 0,\n",
       " 'FlagLongPunishment': 1,\n",
       " 'FlagPlayOutcomeSound': 1,\n",
       " 'FlagRepeatedTrial': 0,\n",
       " 'FlagSampUniformDistr': 0,\n",
       " 'FlagShowOnlyTrainedAxes': 1,\n",
       " 'FlagShowStimAfterResponse': 1,\n",
       " 'FlagShowVisualStimuli': 1,\n",
       " 'FlagStaircaseDeptRotLeft': -1,\n",
       " 'FlagStaircaseDeptRotRight': 1,\n",
       " 'FlagStaircaseHorizSeparation': 1,\n",
       " 'FlagStaircasePosHL': 0,\n",
       " 'FlagStaircasePosHR': 0,\n",
       " 'FlagStaircasePosVD': 0,\n",
       " 'FlagStaircasePosVU': 0,\n",
       " 'FlagStaircaseProbFreeRew': 1,\n",
       " 'FlagStaircaseRotACW': 1,\n",
       " 'FlagStaircaseRotCW': 1,\n",
       " 'FlagStaircaseSize': -1,\n",
       " 'N_PunishmentCycles': 5,\n",
       " 'TooFast_time': 350000,\n",
       " 'run_bounds': [(5611776881546, 5619944848999)]}"
      ]
     },
     "execution_count": 420,
     "metadata": {},
     "output_type": "execute_result"
    }
   ],
   "source": [
    "S.flags"
   ]
  },
  {
   "cell_type": "code",
   "execution_count": 421,
   "metadata": {},
   "outputs": [
    {
     "data": {
      "text/plain": [
       "array([1.])"
      ]
     },
     "execution_count": 421,
     "metadata": {},
     "output_type": "execute_result"
    }
   ],
   "source": [
    "alpha_values=[]\n",
    "if any(['alpha_multiplier' in s.keys() for s in S.trials]):\n",
    "    alpha_values = [s['alpha_multiplier'] for s in S.trials]\n",
    "\n",
    "np.unique(alpha_values)"
   ]
  },
  {
   "cell_type": "code",
   "execution_count": 422,
   "metadata": {},
   "outputs": [
    {
     "data": {
      "text/plain": [
       "{'action': 'draw',\n",
       " 'alpha_multiplier': 1.0,\n",
       " 'depth_rotation': 0,\n",
       " 'duration': 5531531,\n",
       " 'file_hash': '3c0f591fcbbe5741dbb1b2982cee3e696603f72d',\n",
       " 'filename': '/var/folders/ct/9rl6yygn7474gnc092xp2mzc0000gp/T/MWorks/Experiment Cache/_Users_labuser_Documents_MWorks_behavior_protocols_Behavior_3Dtransforms_2way_blobs/tmp/Blobs_TrainingRatsD1D2/Blob_N1_CamRot_y0.png',\n",
       " 'light_position': None,\n",
       " 'name': 'Blob_N1_CamRot_y0',\n",
       " 'no_feedback': False,\n",
       " 'object': '1',\n",
       " 'outcome': 'success',\n",
       " 'outcome_time': 5611905470937,\n",
       " 'pos_x': 0.0,\n",
       " 'pos_y': 0.0,\n",
       " 'response': 'Announce_AcquirePort1',\n",
       " 'response_time': 5611905470321,\n",
       " 'rotation': 0.0,\n",
       " 'size': 25.0,\n",
       " 'size_x': 43.67499923706055,\n",
       " 'size_y': 43.67499923706055,\n",
       " 'suffix': '',\n",
       " 'time': 5611904530068,\n",
       " 'type': 'image',\n",
       " 'x_rotation': None}"
      ]
     },
     "execution_count": 422,
     "metadata": {},
     "output_type": "execute_result"
    }
   ],
   "source": [
    "S.trials[0]"
   ]
  },
  {
   "cell_type": "code",
   "execution_count": 423,
   "metadata": {},
   "outputs": [
    {
     "name": "stdout",
     "output_type": "stream",
     "text": [
      "/n/coxfs01/behavior-data/threeport/cohort_data/AK/raw/AK1_180621_CBwrong_discard.mwk\n"
     ]
    }
   ],
   "source": [
    "print(S.source[0])\n",
    "df = pymworks.open(S.source[0])\n"
   ]
  },
  {
   "cell_type": "code",
   "execution_count": 406,
   "metadata": {},
   "outputs": [
    {
     "data": {
      "text/plain": [
       "{0: '#codec',\n",
       " 1: '#systemEvent',\n",
       " 2: '#components',\n",
       " 3: '#termination',\n",
       " 4: '#allowAltFailover',\n",
       " 5: '#state_system_mode',\n",
       " 6: '#announceMessage',\n",
       " 7: '#stimDisplayUpdate',\n",
       " 8: '#experimentLoadProgress',\n",
       " 9: '#loadedExperiment',\n",
       " 10: '#announceStimulus',\n",
       " 11: '#announceSound',\n",
       " 12: '#announceCalibrator',\n",
       " 13: '#requestCalibrator',\n",
       " 14: '#announceCurrentState',\n",
       " 15: '#announceTrial',\n",
       " 16: '#announceBlock',\n",
       " 17: '#announceAssertion',\n",
       " 18: '#serverName',\n",
       " 19: '#mainScreenInfo',\n",
       " 20: '#warnOnSkippedRefresh',\n",
       " 21: '#realtimeComponents',\n",
       " 22: 'debuggerActive',\n",
       " 23: 'debuggerRunning',\n",
       " 24: 'debuggerStep',\n",
       " 25: '#serialBridgeAddress',\n",
       " 26: '#syringePumpPort',\n",
       " 27: 'Adjusted_Metric_Correct_Strategy',\n",
       " 28: 'GainFactorCorrectMetric',\n",
       " 29: 'FlagAutomaticBiasSuppression',\n",
       " 30: 'WatchResponseSide',\n",
       " 31: 'WatchSuccessBias',\n",
       " 32: 'Metric_Correct_Strategy',\n",
       " 33: 'Metric_Biased_Strategy',\n",
       " 34: 'Metric_Alternation_Strategy',\n",
       " 35: 'FlagStaircaseHorizSeparation',\n",
       " 36: 'WatchSuccessStair_HorizSep',\n",
       " 37: 'HorizSep_stair_up_criterion',\n",
       " 38: 'HorizSep_stair_down_criterion',\n",
       " 39: 'deg_HorizSep_current',\n",
       " 40: 'deg_HorizSep_upper_limit',\n",
       " 41: 'deg_HorizSep_lower_limit',\n",
       " 42: 'deg_HorizSep_stair_step',\n",
       " 43: 'y',\n",
       " 44: 'FlagStaircaseProbFreeRew',\n",
       " 45: 'WatchSuccessStair_FreeRew',\n",
       " 46: 'FreeRew_stair_up_criterion',\n",
       " 47: 'FreeRew_stair_down_criterion',\n",
       " 48: 'FreeRew_CurrRandSamp',\n",
       " 49: 'p_FreeRew_current',\n",
       " 50: 'p_FreeRew_upper_limit',\n",
       " 51: 'p_FreeRew_lower_limit',\n",
       " 52: 'p_FreeRew_stair_step',\n",
       " 53: 'CurrTrialsFraction',\n",
       " 54: 'IdxStairToBeEnriched_1',\n",
       " 55: 'IdxStairToBeEnriched_2',\n",
       " 56: 'IdxStairNotToBeEnriched',\n",
       " 57: 'FlagEnrichSomeStaircases',\n",
       " 58: 'TotNumFractionsOfTrialsInCaseOfEnrichment',\n",
       " 59: 'FlagForceCueStimSoundOff',\n",
       " 60: 'FlagShowOnlyTrainedAxes',\n",
       " 61: 'reject_size1',\n",
       " 62: 'reject_size2',\n",
       " 63: 'reject_size3',\n",
       " 64: 'reject_size4',\n",
       " 65: 'reject_size5',\n",
       " 66: 'reject_rot1',\n",
       " 67: 'reject_rot2',\n",
       " 68: 'reject_rot3',\n",
       " 69: 'reject_rot4',\n",
       " 70: 'reject_rot5',\n",
       " 71: 'reject_pos_x1',\n",
       " 72: 'reject_pos_x2',\n",
       " 73: 'reject_pos_x3',\n",
       " 74: 'reject_pos_x4',\n",
       " 75: 'reject_pos_x5',\n",
       " 76: 'FlagNoFeedbackInCurrentTrial',\n",
       " 77: 'Test_Size',\n",
       " 78: 'Test_X_Position',\n",
       " 79: 'Test_Rotation',\n",
       " 80: 'Announce_TrialNoFeedback',\n",
       " 81: 'Announce_TrialStart',\n",
       " 82: 'Announce_TrialEnd',\n",
       " 83: 'Announce_StimOn',\n",
       " 84: 'Announce_StimOff',\n",
       " 85: 'Announce_AcquirePort1',\n",
       " 86: 'Announce_AcquirePort3',\n",
       " 87: 'FlagDiscardHalfOfTheTrials',\n",
       " 88: 'FlagDiscardTrialWithCurrentDeptRot',\n",
       " 89: 'FlagSampUniformDistr',\n",
       " 90: 'FlagStaircaseSize',\n",
       " 91: 'FlagStaircasePosHR',\n",
       " 92: 'FlagStaircasePosHL',\n",
       " 93: 'FlagStaircasePosVU',\n",
       " 94: 'FlagStaircasePosVD',\n",
       " 95: 'FlagStaircaseRotCW',\n",
       " 96: 'FlagStaircaseRotACW',\n",
       " 97: 'FlagStaircaseDeptRotRight',\n",
       " 98: 'FlagStaircaseDeptRotLeft',\n",
       " 99: 'Default_size',\n",
       " 100: 'Default_size_for_StairRotation',\n",
       " 101: 'Default_PosH',\n",
       " 102: 'Default_PosV',\n",
       " 103: 'Default_Rotation',\n",
       " 104: 'Default_Rotation_in_Depth',\n",
       " 105: 'CurrStairTrial',\n",
       " 106: 'Flag_MatchCurrStairTrial',\n",
       " 107: 'N_Staircases',\n",
       " 108: 'p_GeomDistr_stair_size',\n",
       " 109: 'WatchSuccessStair_size',\n",
       " 110: 'size_stair_up_criterion',\n",
       " 111: 'size_stair_down_criterion',\n",
       " 112: 'initial_size_stair',\n",
       " 113: 'current_size_limit_stair',\n",
       " 114: 'size_stair_step',\n",
       " 115: 'N_sizes_stair_upper_limit',\n",
       " 116: 'N_sizes_stair_current',\n",
       " 117: 'p_GeomDistr_stair_PosHR',\n",
       " 118: 'WatchSuccessStair_PosHR',\n",
       " 119: 'PosHR_stair_up_criterion',\n",
       " 120: 'PosHR_stair_down_criterion',\n",
       " 121: 'initial_PosHR_stair',\n",
       " 122: 'current_PosHR_limit_stair',\n",
       " 123: 'PosHR_stair_step',\n",
       " 124: 'N_PosHR_stair_upper_limit',\n",
       " 125: 'N_PosHR_stair_current',\n",
       " 126: 'p_GeomDistr_stair_PosHL',\n",
       " 127: 'WatchSuccessStair_PosHL',\n",
       " 128: 'PosHL_stair_up_criterion',\n",
       " 129: 'PosHL_stair_down_criterion',\n",
       " 130: 'initial_PosHL_stair',\n",
       " 131: 'current_PosHL_limit_stair',\n",
       " 132: 'PosHL_stair_step',\n",
       " 133: 'N_PosHL_stair_upper_limit',\n",
       " 134: 'N_PosHL_stair_current',\n",
       " 135: 'p_GeomDistr_stair_PosVU',\n",
       " 136: 'WatchSuccessStair_PosVU',\n",
       " 137: 'PosVU_stair_up_criterion',\n",
       " 138: 'PosVU_stair_down_criterion',\n",
       " 139: 'initial_PosVU_stair',\n",
       " 140: 'current_PosVU_limit_stair',\n",
       " 141: 'PosVU_stair_step',\n",
       " 142: 'N_PosVU_stair_upper_limit',\n",
       " 143: 'N_PosVU_stair_current',\n",
       " 144: 'p_GeomDistr_stair_PosVD',\n",
       " 145: 'WatchSuccessStair_PosVD',\n",
       " 146: 'PosVD_stair_up_criterion',\n",
       " 147: 'PosVD_stair_down_criterion',\n",
       " 148: 'initial_PosVD_stair',\n",
       " 149: 'current_PosVD_limit_stair',\n",
       " 150: 'PosVD_stair_step',\n",
       " 151: 'N_PosVD_stair_upper_limit',\n",
       " 152: 'N_PosVD_stair_current',\n",
       " 153: 'p_GeomDistr_stair_RotCW',\n",
       " 154: 'WatchSuccessStair_RotCW',\n",
       " 155: 'RotCW_stair_up_criterion',\n",
       " 156: 'RotCW_stair_down_criterion',\n",
       " 157: 'initial_RotCW_stair',\n",
       " 158: 'current_RotCW_limit_stair',\n",
       " 159: 'RotCW_stair_step',\n",
       " 160: 'N_RotCW_stair_upper_limit',\n",
       " 161: 'N_RotCW_stair_current',\n",
       " 162: 'p_GeomDistr_stair_RotACW',\n",
       " 163: 'WatchSuccessStair_RotACW',\n",
       " 164: 'RotACW_stair_up_criterion',\n",
       " 165: 'RotACW_stair_down_criterion',\n",
       " 166: 'initial_RotACW_stair',\n",
       " 167: 'current_RotACW_limit_stair',\n",
       " 168: 'RotACW_stair_step',\n",
       " 169: 'N_RotACW_stair_upper_limit',\n",
       " 170: 'N_RotACW_stair_current',\n",
       " 171: 'p_GeomDistr_stair_DeptRotR',\n",
       " 172: 'WatchSuccessStair_DeptRotR',\n",
       " 173: 'DeptRotR_stair_up_criterion',\n",
       " 174: 'DeptRotR_stair_down_criterion',\n",
       " 175: 'initial_DeptRotR_stair',\n",
       " 176: 'current_DeptRotR_limit_stair',\n",
       " 177: 'DeptRotR_stair_step',\n",
       " 178: 'N_DeptRotR_stair_upper_limit',\n",
       " 179: 'N_DeptRotR_stair_current',\n",
       " 180: 'p_GeomDistr_stair_DeptRotL',\n",
       " 181: 'WatchSuccessStair_DeptRotL',\n",
       " 182: 'DeptRotL_stair_up_criterion',\n",
       " 183: 'DeptRotL_stair_down_criterion',\n",
       " 184: 'initial_DeptRotL_stair',\n",
       " 185: 'current_DeptRotL_limit_stair',\n",
       " 186: 'DeptRotL_stair_step',\n",
       " 187: 'N_DeptRotL_stair_upper_limit',\n",
       " 188: 'N_DeptRotL_stair_current',\n",
       " 189: 'FlagPlayOutcomeSound',\n",
       " 190: 'PunishmentCyclesIndex',\n",
       " 191: 'success',\n",
       " 192: 'failure',\n",
       " 193: 'ignore',\n",
       " 194: 'success_trials',\n",
       " 195: 'failure_trials',\n",
       " 196: 'ignore_trials',\n",
       " 197: 'total_trials',\n",
       " 198: 'backgr_punish_flickering_period',\n",
       " 199: 'Backgr_GrayLevel',\n",
       " 200: 'N_PunishmentCycles',\n",
       " 201: 'FlagLongPunishment',\n",
       " 202: 'FlagCorrectionTrials',\n",
       " 203: 'FlagRepeatedTrial',\n",
       " 204: 'FlagAlwaysReward',\n",
       " 205: 'FlagAddFreeRewardToEarnedReward',\n",
       " 206: 'MaxDeptRotAngle',\n",
       " 207: 'BlobIdentityIdx',\n",
       " 208: 'FlagAlwaysEnforceMaxSeqLeng',\n",
       " 209: 'FlagDiscardCurrStim',\n",
       " 210: 'StimAspectRatio',\n",
       " 211: 'FlagShowVisualStimuli',\n",
       " 212: 'FlagCueStimSound',\n",
       " 213: 'FlagShowStimRight',\n",
       " 214: 'FlagShowStimLeft',\n",
       " 215: 'MaxN_IdenticalStims',\n",
       " 216: 'RightStim_Counter',\n",
       " 217: 'LeftStim_Counter',\n",
       " 218: 'StimRejections_Counter',\n",
       " 219: 'MaxN_ConsecutiveRejections',\n",
       " 220: 'ImageIndex',\n",
       " 221: 'CounterBalance',\n",
       " 222: 'DepRotIdx',\n",
       " 223: 'stm_pos_x',\n",
       " 224: 'stm_pos_y',\n",
       " 225: 'abs_stm_pos_x',\n",
       " 226: 'stm_size',\n",
       " 227: 'stm_rotation',\n",
       " 228: 'stm_rotation_in_depth',\n",
       " 229: 'stm_lighting',\n",
       " 230: 'Lighting',\n",
       " 231: 'number_of_different_lightings',\n",
       " 232: 'nofeedback_depth_rotation_min',\n",
       " 233: 'nofeedback_depth_rotation_max',\n",
       " 234: 'nofeedback_size_min',\n",
       " 235: 'nofeedback_size_max',\n",
       " 236: 'StimulusPresentation_time',\n",
       " 237: 'CueStimSoundPresentation_time',\n",
       " 238: 'curr_reward_duration',\n",
       " 239: 'FlagShowStimAfterResponse',\n",
       " 240: 'TooFast_time',\n",
       " 241: 'acquire_time',\n",
       " 242: 'reward_duration',\n",
       " 243: 'minimal_reward_duration',\n",
       " 244: 'maximal_reward_duration',\n",
       " 245: 'increment_reward_duration',\n",
       " 246: 'cue_reward_duration',\n",
       " 247: 'licking_time',\n",
       " 248: 'intertrial_interval',\n",
       " 249: 'WaitForTrigger_time',\n",
       " 250: 'CheckForBlockedTrialDuration',\n",
       " 251: 'BlockTrial_time',\n",
       " 252: 'prestim_time',\n",
       " 253: 'WaitForTriggerToneDuration_time',\n",
       " 254: 'large_water_priming',\n",
       " 255: 'medium_water_priming',\n",
       " 256: 'LickInput1',\n",
       " 257: 'LickInput2',\n",
       " 258: 'LickInput3',\n",
       " 259: 'LickOutput1',\n",
       " 260: 'LickOutput2',\n",
       " 261: 'LickOutput3'}"
      ]
     },
     "execution_count": 406,
     "metadata": {},
     "output_type": "execute_result"
    }
   ],
   "source": [
    "df.get_codec()"
   ]
  },
  {
   "cell_type": "code",
   "execution_count": 407,
   "metadata": {},
   "outputs": [
    {
     "data": {
      "text/plain": [
       "[Event[code=200, name=N_PunishmentCycles, time=173645672848, value=21],\n",
       " Event[code=200, name=N_PunishmentCycles, time=173645716680, value=21],\n",
       " Event[code=200, name=N_PunishmentCycles, time=174566482629, value=21],\n",
       " Event[code=200, name=N_PunishmentCycles, time=186689416934, value=21],\n",
       " Event[code=200, name=N_PunishmentCycles, time=186689466772, value=21]]"
      ]
     },
     "execution_count": 407,
     "metadata": {},
     "output_type": "execute_result"
    }
   ],
   "source": [
    "df.get_events('N_PunishmentCycles')"
   ]
  },
  {
   "cell_type": "code",
   "execution_count": 408,
   "metadata": {},
   "outputs": [
    {
     "data": {
      "text/plain": [
       "[Event[code=240, name=TooFast_time, time=173645672876, value=350000],\n",
       " Event[code=240, name=TooFast_time, time=173645716718, value=350000],\n",
       " Event[code=240, name=TooFast_time, time=174566482760, value=350000],\n",
       " Event[code=240, name=TooFast_time, time=186689416981, value=350000],\n",
       " Event[code=240, name=TooFast_time, time=186689466811, value=350000]]"
      ]
     },
     "execution_count": 408,
     "metadata": {},
     "output_type": "execute_result"
    }
   ],
   "source": [
    "tevs = sorted(df.get_events('TooFast_time'), key=lambda x: x.time)\n",
    "tevs"
   ]
  },
  {
   "cell_type": "code",
   "execution_count": 409,
   "metadata": {},
   "outputs": [
    {
     "data": {
      "text/plain": [
       "350000"
      ]
     },
     "execution_count": 409,
     "metadata": {},
     "output_type": "execute_result"
    }
   ],
   "source": [
    "int(tevs[-1].value)\n"
   ]
  },
  {
   "cell_type": "code",
   "execution_count": null,
   "metadata": {},
   "outputs": [],
   "source": []
  },
  {
   "cell_type": "code",
   "execution_count": null,
   "metadata": {},
   "outputs": [],
   "source": []
  },
  {
   "cell_type": "code",
   "execution_count": null,
   "metadata": {},
   "outputs": [],
   "source": []
  },
  {
   "cell_type": "code",
   "execution_count": 123,
   "metadata": {},
   "outputs": [
    {
     "data": {
      "text/plain": [
       "6"
      ]
     },
     "execution_count": 123,
     "metadata": {},
     "output_type": "execute_result"
    }
   ],
   "source": [
    "sysevs = df.get_events('#systemEvent')  \n",
    "len(sysevs)"
   ]
  },
  {
   "cell_type": "code",
   "execution_count": 125,
   "metadata": {
    "scrolled": false
   },
   "outputs": [
    {
     "name": "stdout",
     "output_type": "stream",
     "text": [
      "{'payload': {'experiment path': '/var/folders/bq/d_40rj9j1slfyy_dz1h7_7p80000gn/T/MWorks/Experiment Cache/_Users_labuser_Downloads_RatBehaviorGeneral_Behavior_3Dtransforms_2way_blobs', 'saved variables': ['AB2_140919_vars', 'AB2_140922_vars', 'AB2_140924_vars', 'AB2_140930_vars', 'AB2_141003_vars', 'AB2_141203_vars', 'AB5_140922_vars', 'AB6_140919_vars', 'AB6_140922_vars', 'AB6_140924_vars', 'AB6_140930_vars', 'AB6_141003_vars', 'AB6_141203_vars', 'AF2_150130_vars', 'AG2_150202_vars', 'AG2_150314_vars', 'AG2_150428', 'AG2_150428_vars', 'AG2_150512_vars', 'AG2_150608_vars', 'AG2_151123_vars', 'AG2_160127_vars', 'AG2_160216_vars', 'AG2_1606025_vars', 'AG2_160603_vars', 'AG2_160604_vars', 'AG2_160606_vars', 'AG2_160607', 'AG2_160607_vars', 'AG2_160608_vars', 'AG2_160609_vars', 'AG2_160610_vars', 'AG2_160613_vars', 'AG2_160614_vars', 'AG2_160615_vars', 'AG2_160616_vars', 'AG2_160617_vars', 'AG2_160618_vars', 'AG2_160620_vars', 'AG2_160621_vars', 'AG2_160622_vars', 'AG2_160623_vars', 'AG2_160624_vars', 'AG2_160625_vars', 'AG2_160626_vars', 'AG2_160627_vars', 'AG2_160628_vars', 'AG2_160630_vars', 'AG2_160701_vars', 'AG2_160705_vars', 'AG2_160706_vars', 'AG2_161108_vars', 'AG2_161109_vars', 'AG2_161110_vars', 'AG2_161114_vars', 'AG2_161115_vars', 'AG2_161116_vars', 'AG2_161117_vars', 'AG2_161118_vars', 'AG2_161121_vars', 'AG2_161122_vars', 'AG2_161123_vars', 'AG2_161128_vars', 'AG2_161129_vars', 'AG2_161130_vars', 'AG2_161201', 'AG2_161201_vars', 'AG2_161202_vars', 'AG2_161205_vars', 'AG2_161206_vars', 'AG2_161207_vars', 'AG2_161208_vars', 'AG2_161209_vars', 'AG2_161212_vars', 'AG2_161213_vars', 'AI1_160726_vars', 'AI2_170104_vars', 'AI2_170106_vars', 'AJ10_151215', 'AJ10_160406_vars', 'AJ10_160510_vars', 'AJ10_160517_vars', 'AJ10_160610_vars', 'AJ10_160624_vars', 'AJ10_170118_vars', 'AJ10_170119_vars', 'AJ10_170120_vars', 'AJ10_170201_vars', 'AJ10_170202_vars', 'AJ2_151215', 'AJ2_160406_vars', 'AJ9_161017_vars', 'AJ9_161018_vars', 'AJ9_170104_vars', 'AJ9_170116_vars', 'AJ9_170117_vars', 'AJ9_170118_vars', 'AJ9_170119_vars', 'AK_initial_170609_vars', 'AL_initial_counterbalance_170711_vars', 'Initiation_Variables_150130', 'Initiation_Variables_151214', 'TC_phase3_2vars', 'TC_phase3_vars', 'WaterSetup_Phase1', 'WaterSetup_Phase2'], 'paused': 0, 'experiment name': 'Experiment', 'running': 0, 'loaded': 1}, 'payload_type': 4013, 'event_type': 1002}\n",
      "---\n",
      "{'payload': [5001, '/Users/labuser/Documents/MWorks/Data/AL10_170728.mwk'], 'payload_type': 4007, 'event_type': 1002}\n",
      "---\n",
      "{'payload': {'current protocol': 'Initiate Visual Pres Protocol', 'protocols': [{'protocol name': 'Initiate Visual Pres Protocol', 'description': 'Initiate Visual Pres Protocol'}, {'protocol name': 'Staircase through shape parameters', 'description': 'Staircase through shape parameters'}, {'protocol name': 'Test all transformations', 'description': 'Test all transformations'}], 'experiment name': 'Experiment'}, 'payload_type': 2001, 'event_type': 1001}\n",
      "---\n",
      "{'payload': {'experiment path': '/var/folders/bq/d_40rj9j1slfyy_dz1h7_7p80000gn/T/MWorks/Experiment Cache/_Users_labuser_Downloads_RatBehaviorGeneral_Behavior_3Dtransforms_2way_blobs', 'saved variables': ['AB2_140919_vars', 'AB2_140922_vars', 'AB2_140924_vars', 'AB2_140930_vars', 'AB2_141003_vars', 'AB2_141203_vars', 'AB5_140922_vars', 'AB6_140919_vars', 'AB6_140922_vars', 'AB6_140924_vars', 'AB6_140930_vars', 'AB6_141003_vars', 'AB6_141203_vars', 'AF2_150130_vars', 'AG2_150202_vars', 'AG2_150314_vars', 'AG2_150428', 'AG2_150428_vars', 'AG2_150512_vars', 'AG2_150608_vars', 'AG2_151123_vars', 'AG2_160127_vars', 'AG2_160216_vars', 'AG2_1606025_vars', 'AG2_160603_vars', 'AG2_160604_vars', 'AG2_160606_vars', 'AG2_160607', 'AG2_160607_vars', 'AG2_160608_vars', 'AG2_160609_vars', 'AG2_160610_vars', 'AG2_160613_vars', 'AG2_160614_vars', 'AG2_160615_vars', 'AG2_160616_vars', 'AG2_160617_vars', 'AG2_160618_vars', 'AG2_160620_vars', 'AG2_160621_vars', 'AG2_160622_vars', 'AG2_160623_vars', 'AG2_160624_vars', 'AG2_160625_vars', 'AG2_160626_vars', 'AG2_160627_vars', 'AG2_160628_vars', 'AG2_160630_vars', 'AG2_160701_vars', 'AG2_160705_vars', 'AG2_160706_vars', 'AG2_161108_vars', 'AG2_161109_vars', 'AG2_161110_vars', 'AG2_161114_vars', 'AG2_161115_vars', 'AG2_161116_vars', 'AG2_161117_vars', 'AG2_161118_vars', 'AG2_161121_vars', 'AG2_161122_vars', 'AG2_161123_vars', 'AG2_161128_vars', 'AG2_161129_vars', 'AG2_161130_vars', 'AG2_161201', 'AG2_161201_vars', 'AG2_161202_vars', 'AG2_161205_vars', 'AG2_161206_vars', 'AG2_161207_vars', 'AG2_161208_vars', 'AG2_161209_vars', 'AG2_161212_vars', 'AG2_161213_vars', 'AI1_160726_vars', 'AI2_170104_vars', 'AI2_170106_vars', 'AJ10_151215', 'AJ10_160406_vars', 'AJ10_160510_vars', 'AJ10_160517_vars', 'AJ10_160610_vars', 'AJ10_160624_vars', 'AJ10_170118_vars', 'AJ10_170119_vars', 'AJ10_170120_vars', 'AJ10_170201_vars', 'AJ10_170202_vars', 'AJ2_151215', 'AJ2_160406_vars', 'AJ9_161017_vars', 'AJ9_161018_vars', 'AJ9_170104_vars', 'AJ9_170116_vars', 'AJ9_170117_vars', 'AJ9_170118_vars', 'AJ9_170119_vars', 'AK_initial_170609_vars', 'AL_initial_counterbalance_170711_vars', 'Initiation_Variables_150130', 'Initiation_Variables_151214', 'TC_phase3_2vars', 'TC_phase3_vars', 'WaterSetup_Phase1', 'WaterSetup_Phase2'], 'paused': 0, 'experiment name': 'Experiment', 'running': 1, 'loaded': 1}, 'payload_type': 4013, 'event_type': 1002}\n",
      "---\n",
      "{'payload': {'experiment path': '/var/folders/bq/d_40rj9j1slfyy_dz1h7_7p80000gn/T/MWorks/Experiment Cache/_Users_labuser_Downloads_RatBehaviorGeneral_Behavior_3Dtransforms_2way_blobs', 'saved variables': ['AB2_140919_vars', 'AB2_140922_vars', 'AB2_140924_vars', 'AB2_140930_vars', 'AB2_141003_vars', 'AB2_141203_vars', 'AB5_140922_vars', 'AB6_140919_vars', 'AB6_140922_vars', 'AB6_140924_vars', 'AB6_140930_vars', 'AB6_141003_vars', 'AB6_141203_vars', 'AF2_150130_vars', 'AG2_150202_vars', 'AG2_150314_vars', 'AG2_150428', 'AG2_150428_vars', 'AG2_150512_vars', 'AG2_150608_vars', 'AG2_151123_vars', 'AG2_160127_vars', 'AG2_160216_vars', 'AG2_1606025_vars', 'AG2_160603_vars', 'AG2_160604_vars', 'AG2_160606_vars', 'AG2_160607', 'AG2_160607_vars', 'AG2_160608_vars', 'AG2_160609_vars', 'AG2_160610_vars', 'AG2_160613_vars', 'AG2_160614_vars', 'AG2_160615_vars', 'AG2_160616_vars', 'AG2_160617_vars', 'AG2_160618_vars', 'AG2_160620_vars', 'AG2_160621_vars', 'AG2_160622_vars', 'AG2_160623_vars', 'AG2_160624_vars', 'AG2_160625_vars', 'AG2_160626_vars', 'AG2_160627_vars', 'AG2_160628_vars', 'AG2_160630_vars', 'AG2_160701_vars', 'AG2_160705_vars', 'AG2_160706_vars', 'AG2_161108_vars', 'AG2_161109_vars', 'AG2_161110_vars', 'AG2_161114_vars', 'AG2_161115_vars', 'AG2_161116_vars', 'AG2_161117_vars', 'AG2_161118_vars', 'AG2_161121_vars', 'AG2_161122_vars', 'AG2_161123_vars', 'AG2_161128_vars', 'AG2_161129_vars', 'AG2_161130_vars', 'AG2_161201', 'AG2_161201_vars', 'AG2_161202_vars', 'AG2_161205_vars', 'AG2_161206_vars', 'AG2_161207_vars', 'AG2_161208_vars', 'AG2_161209_vars', 'AG2_161212_vars', 'AG2_161213_vars', 'AI1_160726_vars', 'AI2_170104_vars', 'AI2_170106_vars', 'AJ10_151215', 'AJ10_160406_vars', 'AJ10_160510_vars', 'AJ10_160517_vars', 'AJ10_160610_vars', 'AJ10_160624_vars', 'AJ10_170118_vars', 'AJ10_170119_vars', 'AJ10_170120_vars', 'AJ10_170201_vars', 'AJ10_170202_vars', 'AJ2_151215', 'AJ2_160406_vars', 'AJ9_161017_vars', 'AJ9_161018_vars', 'AJ9_170104_vars', 'AJ9_170116_vars', 'AJ9_170117_vars', 'AJ9_170118_vars', 'AJ9_170119_vars', 'AK_initial_170609_vars', 'AL_initial_counterbalance_170711_vars', 'Initiation_Variables_150130', 'Initiation_Variables_151214', 'TC_phase3_2vars', 'TC_phase3_vars', 'WaterSetup_Phase1', 'WaterSetup_Phase2'], 'paused': 0, 'experiment name': 'Experiment', 'running': 1, 'loaded': 1}, 'payload_type': 4013, 'event_type': 1002}\n",
      "---\n",
      "{'payload': {'experiment path': '/var/folders/bq/d_40rj9j1slfyy_dz1h7_7p80000gn/T/MWorks/Experiment Cache/_Users_labuser_Downloads_RatBehaviorGeneral_Behavior_3Dtransforms_2way_blobs', 'saved variables': ['AB2_140919_vars', 'AB2_140922_vars', 'AB2_140924_vars', 'AB2_140930_vars', 'AB2_141003_vars', 'AB2_141203_vars', 'AB5_140922_vars', 'AB6_140919_vars', 'AB6_140922_vars', 'AB6_140924_vars', 'AB6_140930_vars', 'AB6_141003_vars', 'AB6_141203_vars', 'AF2_150130_vars', 'AG2_150202_vars', 'AG2_150314_vars', 'AG2_150428', 'AG2_150428_vars', 'AG2_150512_vars', 'AG2_150608_vars', 'AG2_151123_vars', 'AG2_160127_vars', 'AG2_160216_vars', 'AG2_1606025_vars', 'AG2_160603_vars', 'AG2_160604_vars', 'AG2_160606_vars', 'AG2_160607', 'AG2_160607_vars', 'AG2_160608_vars', 'AG2_160609_vars', 'AG2_160610_vars', 'AG2_160613_vars', 'AG2_160614_vars', 'AG2_160615_vars', 'AG2_160616_vars', 'AG2_160617_vars', 'AG2_160618_vars', 'AG2_160620_vars', 'AG2_160621_vars', 'AG2_160622_vars', 'AG2_160623_vars', 'AG2_160624_vars', 'AG2_160625_vars', 'AG2_160626_vars', 'AG2_160627_vars', 'AG2_160628_vars', 'AG2_160630_vars', 'AG2_160701_vars', 'AG2_160705_vars', 'AG2_160706_vars', 'AG2_161108_vars', 'AG2_161109_vars', 'AG2_161110_vars', 'AG2_161114_vars', 'AG2_161115_vars', 'AG2_161116_vars', 'AG2_161117_vars', 'AG2_161118_vars', 'AG2_161121_vars', 'AG2_161122_vars', 'AG2_161123_vars', 'AG2_161128_vars', 'AG2_161129_vars', 'AG2_161130_vars', 'AG2_161201', 'AG2_161201_vars', 'AG2_161202_vars', 'AG2_161205_vars', 'AG2_161206_vars', 'AG2_161207_vars', 'AG2_161208_vars', 'AG2_161209_vars', 'AG2_161212_vars', 'AG2_161213_vars', 'AI1_160726_vars', 'AI2_170104_vars', 'AI2_170106_vars', 'AJ10_151215', 'AJ10_160406_vars', 'AJ10_160510_vars', 'AJ10_160517_vars', 'AJ10_160610_vars', 'AJ10_160624_vars', 'AJ10_170118_vars', 'AJ10_170119_vars', 'AJ10_170120_vars', 'AJ10_170201_vars', 'AJ10_170202_vars', 'AJ2_151215', 'AJ2_160406_vars', 'AJ9_161017_vars', 'AJ9_161018_vars', 'AJ9_170104_vars', 'AJ9_170116_vars', 'AJ9_170117_vars', 'AJ9_170118_vars', 'AJ9_170119_vars', 'AK_initial_170609_vars', 'AL_initial_counterbalance_170711_vars', 'Initiation_Variables_150130', 'Initiation_Variables_151214', 'TC_phase3_2vars', 'TC_phase3_vars', 'WaterSetup_Phase1', 'WaterSetup_Phase2'], 'paused': 0, 'experiment name': 'Experiment', 'running': 0, 'loaded': 1}, 'payload_type': 4013, 'event_type': 1002}\n",
      "---\n"
     ]
    }
   ],
   "source": [
    "for s in sysevs:\n",
    "    print s.value\n",
    "    print(\"---\")"
   ]
  },
  {
   "cell_type": "code",
   "execution_count": 109,
   "metadata": {},
   "outputs": [
    {
     "data": {
      "text/plain": [
       "[2157920927435, 2167659853595]"
      ]
     },
     "execution_count": 109,
     "metadata": {},
     "output_type": "execute_result"
    }
   ],
   "source": [
    "[v.time for v in sysevs if v.value['payload_type']==4013 and v.value['payload']['running']==1]"
   ]
  },
  {
   "cell_type": "code",
   "execution_count": 112,
   "metadata": {},
   "outputs": [
    {
     "data": {
      "text/plain": [
       "9738.92616"
      ]
     },
     "execution_count": 112,
     "metadata": {},
     "output_type": "execute_result"
    }
   ],
   "source": [
    "(2167659853595 - 2157920927435)/1E6\n"
   ]
  },
  {
   "cell_type": "code",
   "execution_count": null,
   "metadata": {},
   "outputs": [],
   "source": []
  },
  {
   "cell_type": "code",
   "execution_count": null,
   "metadata": {},
   "outputs": [],
   "source": []
  },
  {
   "cell_type": "code",
   "execution_count": 187,
   "metadata": {},
   "outputs": [
    {
     "data": {
      "text/plain": [
       "[None]"
      ]
     },
     "execution_count": 187,
     "metadata": {},
     "output_type": "execute_result"
    }
   ],
   "source": [
    "list(set([s['x_rotation'] for s in curr_trials]))\n"
   ]
  },
  {
   "cell_type": "code",
   "execution_count": 188,
   "metadata": {},
   "outputs": [
    {
     "data": {
      "text/plain": [
       "[0.0]"
      ]
     },
     "execution_count": 188,
     "metadata": {},
     "output_type": "execute_result"
    }
   ],
   "source": [
    "list(set([s['rotation'] for s in curr_trials]))\n"
   ]
  },
  {
   "cell_type": "code",
   "execution_count": 189,
   "metadata": {},
   "outputs": [
    {
     "data": {
      "text/plain": [
       "[(0.0, 0.0)]"
      ]
     },
     "execution_count": 189,
     "metadata": {},
     "output_type": "execute_result"
    }
   ],
   "source": [
    "list(set([(s['pos_x'], s['pos_y']) for s in curr_trials]))"
   ]
  },
  {
   "cell_type": "code",
   "execution_count": 190,
   "metadata": {},
   "outputs": [
    {
     "data": {
      "text/plain": [
       "[None]"
      ]
     },
     "execution_count": 190,
     "metadata": {},
     "output_type": "execute_result"
    }
   ],
   "source": [
    "light_positions = list(set([s['light_position'] for s in curr_trials]))\n",
    "#print(any([p is None for p in light_positions]))\n",
    "light_positions\n",
    "\n",
    "\n"
   ]
  },
  {
   "cell_type": "code",
   "execution_count": 191,
   "metadata": {},
   "outputs": [
    {
     "data": {
      "text/plain": [
       "[0, -30, -60, 45, 15, -15, -45, 60, 30]"
      ]
     },
     "execution_count": 191,
     "metadata": {},
     "output_type": "execute_result"
    }
   ],
   "source": [
    "list(set([s['depth_rotation'] for s in curr_trials]))\n"
   ]
  },
  {
   "cell_type": "code",
   "execution_count": 192,
   "metadata": {},
   "outputs": [
    {
     "data": {
      "text/plain": [
       "[35.0, 40.0, 15.0, 20.0, 25.0, 30.0]"
      ]
     },
     "execution_count": 192,
     "metadata": {},
     "output_type": "execute_result"
    }
   ],
   "source": [
    "list(set([s['size'] for s in curr_trials]))\n"
   ]
  },
  {
   "cell_type": "code",
   "execution_count": 94,
   "metadata": {},
   "outputs": [
    {
     "data": {
      "text/plain": [
       "['10', 'LighPos', 'x0', 'y-10', 'z-10.png']"
      ]
     },
     "execution_count": 94,
     "metadata": {},
     "output_type": "execute_result"
    }
   ],
   "source": [
    "namestr = os.path.split(S.trials[0]['filename'])[-1]\n",
    "namestr.split('CamRot_x')[1].split('_')"
   ]
  },
  {
   "cell_type": "code",
   "execution_count": 95,
   "metadata": {},
   "outputs": [
    {
     "data": {
      "text/plain": [
       "(0, -10, -10)"
      ]
     },
     "execution_count": 95,
     "metadata": {},
     "output_type": "execute_result"
    }
   ],
   "source": [
    "tuple([int(i) for i in re.findall(\"[-\\d]+\", namestr.split('LighPos')[1])])\n"
   ]
  },
  {
   "cell_type": "code",
   "execution_count": 441,
   "metadata": {},
   "outputs": [
    {
     "ename": "AttributeError",
     "evalue": "'list' object has no attribute 'head'",
     "output_type": "error",
     "traceback": [
      "\u001b[0;31m---------------------------------------------------------------------------\u001b[0m",
      "\u001b[0;31mAttributeError\u001b[0m                            Traceback (most recent call last)",
      "\u001b[0;32m<ipython-input-441-b99afb1386aa>\u001b[0m in \u001b[0;36m<module>\u001b[0;34m()\u001b[0m\n\u001b[0;32m----> 1\u001b[0;31m \u001b[0mphasedata\u001b[0m\u001b[0;34m.\u001b[0m\u001b[0mhead\u001b[0m\u001b[0;34m(\u001b[0m\u001b[0;34m)\u001b[0m\u001b[0;34m\u001b[0m\u001b[0m\n\u001b[0m",
      "\u001b[0;31mAttributeError\u001b[0m: 'list' object has no attribute 'head'"
     ]
    }
   ],
   "source": [
    "phasedata.head()"
   ]
  },
  {
   "cell_type": "code",
   "execution_count": 478,
   "metadata": {},
   "outputs": [],
   "source": [
    "alpha_values = np.unique([s['alpha_multiplier'] for s in S.trials])\n",
    "if len(alpha_values) > 1:\n",
    "    phase = 12\n",
    "elif any([a!=1 for a in alpha_values]):\n",
    "    phase = 12"
   ]
  },
  {
   "cell_type": "code",
   "execution_count": 479,
   "metadata": {},
   "outputs": [
    {
     "data": {
      "text/plain": [
       "12"
      ]
     },
     "execution_count": 479,
     "metadata": {},
     "output_type": "execute_result"
    }
   ],
   "source": [
    "phase"
   ]
  },
  {
   "cell_type": "code",
   "execution_count": null,
   "metadata": {},
   "outputs": [],
   "source": []
  }
 ],
 "metadata": {
  "kernelspec": {
   "display_name": "Python 2",
   "language": "python",
   "name": "python2"
  },
  "language_info": {
   "codemirror_mode": {
    "name": "ipython",
    "version": 2
   },
   "file_extension": ".py",
   "mimetype": "text/x-python",
   "name": "python",
   "nbconvert_exporter": "python",
   "pygments_lexer": "ipython2",
   "version": "2.7.15"
  }
 },
 "nbformat": 4,
 "nbformat_minor": 2
}
